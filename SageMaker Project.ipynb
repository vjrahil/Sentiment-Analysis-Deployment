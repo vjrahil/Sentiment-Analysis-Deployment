{
 "cells": [
  {
   "cell_type": "markdown",
   "metadata": {},
   "source": [
    "# Creating a Sentiment Analysis Web App\n",
    "## Using PyTorch and SageMaker\n",
    "\n",
    "_Deep Learning Nanodegree Program | Deployment_\n",
    "\n",
    "---\n",
    "\n",
    "Now that we have a basic understanding of how SageMaker works we will try to use it to construct a complete project from end to end. Our goal will be to have a simple web page which a user can use to enter a movie review. The web page will then send the review off to our deployed model which will predict the sentiment of the entered review.\n",
    "\n",
    "## Instructions\n",
    "\n",
    "Some template code has already been provided for you, and you will need to implement additional functionality to successfully complete this notebook. You will not need to modify the included code beyond what is requested. Sections that begin with '**TODO**' in the header indicate that you need to complete or implement some portion within them. Instructions will be provided for each section and the specifics of the implementation are marked in the code block with a `# TODO: ...` comment. Please be sure to read the instructions carefully!\n",
    "\n",
    "In addition to implementing code, there will be questions for you to answer which relate to the task and your implementation. Each section where you will answer a question is preceded by a '**Question:**' header. Carefully read each question and provide your answer below the '**Answer:**' header by editing the Markdown cell.\n",
    "\n",
    "> **Note**: Code and Markdown cells can be executed using the **Shift+Enter** keyboard shortcut. In addition, a cell can be edited by typically clicking it (double-click for Markdown cells) or by pressing **Enter** while it is highlighted.\n",
    "\n",
    "## General Outline\n",
    "\n",
    "Recall the general outline for SageMaker projects using a notebook instance.\n",
    "\n",
    "1. Download or otherwise retrieve the data.\n",
    "2. Process / Prepare the data.\n",
    "3. Upload the processed data to S3.\n",
    "4. Train a chosen model.\n",
    "5. Test the trained model (typically using a batch transform job).\n",
    "6. Deploy the trained model.\n",
    "7. Use the deployed model.\n",
    "\n",
    "For this project, you will be following the steps in the general outline with some modifications. \n",
    "\n",
    "First, you will not be testing the model in its own step. You will still be testing the model, however, you will do it by deploying your model and then using the deployed model by sending the test data to it. One of the reasons for doing this is so that you can make sure that your deployed model is working correctly before moving forward.\n",
    "\n",
    "In addition, you will deploy and use your trained model a second time. In the second iteration you will customize the way that your trained model is deployed by including some of your own code. In addition, your newly deployed model will be used in the sentiment analysis web app."
   ]
  },
  {
   "cell_type": "markdown",
   "metadata": {},
   "source": [
    "## Step 1: Downloading the data\n",
    "\n",
    "As in the XGBoost in SageMaker notebook, we will be using the [IMDb dataset](http://ai.stanford.edu/~amaas/data/sentiment/)\n",
    "\n",
    "> Maas, Andrew L., et al. [Learning Word Vectors for Sentiment Analysis](http://ai.stanford.edu/~amaas/data/sentiment/). In _Proceedings of the 49th Annual Meeting of the Association for Computational Linguistics: Human Language Technologies_. Association for Computational Linguistics, 2011."
   ]
  },
  {
   "cell_type": "code",
   "execution_count": 1,
   "metadata": {},
   "outputs": [
    {
     "name": "stdout",
     "output_type": "stream",
     "text": [
      "mkdir: cannot create directory ‘../data’: File exists\n",
      "--2019-09-14 14:25:23--  http://ai.stanford.edu/~amaas/data/sentiment/aclImdb_v1.tar.gz\n",
      "Resolving ai.stanford.edu (ai.stanford.edu)... 171.64.68.10\n",
      "Connecting to ai.stanford.edu (ai.stanford.edu)|171.64.68.10|:80... connected.\n",
      "HTTP request sent, awaiting response... 200 OK\n",
      "Length: 84125825 (80M) [application/x-gzip]\n",
      "Saving to: ‘../data/aclImdb_v1.tar.gz’\n",
      "\n",
      "../data/aclImdb_v1. 100%[===================>]  80.23M  22.0MB/s    in 4.3s    \n",
      "\n",
      "2019-09-14 14:25:28 (18.5 MB/s) - ‘../data/aclImdb_v1.tar.gz’ saved [84125825/84125825]\n",
      "\n"
     ]
    }
   ],
   "source": [
    "%mkdir ../data\n",
    "!wget -O ../data/aclImdb_v1.tar.gz http://ai.stanford.edu/~amaas/data/sentiment/aclImdb_v1.tar.gz\n",
    "!tar -zxf ../data/aclImdb_v1.tar.gz -C ../data"
   ]
  },
  {
   "cell_type": "markdown",
   "metadata": {},
   "source": [
    "## Step 2: Preparing and Processing the data\n",
    "\n",
    "Also, as in the XGBoost notebook, we will be doing some initial data processing. The first few steps are the same as in the XGBoost example. To begin with, we will read in each of the reviews and combine them into a single input structure. Then, we will split the dataset into a training set and a testing set."
   ]
  },
  {
   "cell_type": "code",
   "execution_count": 2,
   "metadata": {},
   "outputs": [],
   "source": [
    "import os\n",
    "import glob\n",
    "\n",
    "def read_imdb_data(data_dir='../data/aclImdb'):\n",
    "    data = {}\n",
    "    labels = {}\n",
    "    \n",
    "    for data_type in ['train', 'test']:\n",
    "        data[data_type] = {}\n",
    "        labels[data_type] = {}\n",
    "        \n",
    "        for sentiment in ['pos', 'neg']:\n",
    "            data[data_type][sentiment] = []\n",
    "            labels[data_type][sentiment] = []\n",
    "            \n",
    "            path = os.path.join(data_dir, data_type, sentiment, '*.txt')\n",
    "            files = glob.glob(path)\n",
    "            \n",
    "            for f in files:\n",
    "                with open(f) as review:\n",
    "                    data[data_type][sentiment].append(review.read())\n",
    "                    # Here we represent a positive review by '1' and a negative review by '0'\n",
    "                    labels[data_type][sentiment].append(1 if sentiment == 'pos' else 0)\n",
    "                    \n",
    "            assert len(data[data_type][sentiment]) == len(labels[data_type][sentiment]), \\\n",
    "                    \"{}/{} data size does not match labels size\".format(data_type, sentiment)\n",
    "                \n",
    "    return data, labels"
   ]
  },
  {
   "cell_type": "code",
   "execution_count": 3,
   "metadata": {},
   "outputs": [
    {
     "name": "stdout",
     "output_type": "stream",
     "text": [
      "IMDB reviews: train = 12500 pos / 12500 neg, test = 12500 pos / 12500 neg\n"
     ]
    }
   ],
   "source": [
    "data, labels = read_imdb_data()\n",
    "print(\"IMDB reviews: train = {} pos / {} neg, test = {} pos / {} neg\".format(\n",
    "            len(data['train']['pos']), len(data['train']['neg']),\n",
    "            len(data['test']['pos']), len(data['test']['neg'])))"
   ]
  },
  {
   "cell_type": "markdown",
   "metadata": {},
   "source": [
    "Now that we've read the raw training and testing data from the downloaded dataset, we will combine the positive and negative reviews and shuffle the resulting records."
   ]
  },
  {
   "cell_type": "code",
   "execution_count": 4,
   "metadata": {},
   "outputs": [],
   "source": [
    "from sklearn.utils import shuffle\n",
    "\n",
    "def prepare_imdb_data(data, labels):\n",
    "    \"\"\"Prepare training and test sets from IMDb movie reviews.\"\"\"\n",
    "    \n",
    "    #Combine positive and negative reviews and labels\n",
    "    data_train = data['train']['pos'] + data['train']['neg']\n",
    "    data_test = data['test']['pos'] + data['test']['neg']\n",
    "    labels_train = labels['train']['pos'] + labels['train']['neg']\n",
    "    labels_test = labels['test']['pos'] + labels['test']['neg']\n",
    "    \n",
    "    #Shuffle reviews and corresponding labels within training and test sets\n",
    "    data_train, labels_train = shuffle(data_train, labels_train)\n",
    "    data_test, labels_test = shuffle(data_test, labels_test)\n",
    "    \n",
    "    # Return a unified training data, test data, training labels, test labets\n",
    "    return data_train, data_test, labels_train, labels_test"
   ]
  },
  {
   "cell_type": "code",
   "execution_count": 5,
   "metadata": {},
   "outputs": [
    {
     "name": "stdout",
     "output_type": "stream",
     "text": [
      "IMDb reviews (combined): train = 25000, test = 25000\n"
     ]
    }
   ],
   "source": [
    "train_X, test_X, train_y, test_y = prepare_imdb_data(data, labels)\n",
    "print(\"IMDb reviews (combined): train = {}, test = {}\".format(len(train_X), len(test_X)))"
   ]
  },
  {
   "cell_type": "markdown",
   "metadata": {},
   "source": [
    "Now that we have our training and testing sets unified and prepared, we should do a quick check and see an example of the data our model will be trained on. This is generally a good idea as it allows you to see how each of the further processing steps affects the reviews and it also ensures that the data has been loaded correctly."
   ]
  },
  {
   "cell_type": "code",
   "execution_count": 6,
   "metadata": {},
   "outputs": [
    {
     "name": "stdout",
     "output_type": "stream",
     "text": [
      "It's hard to say which comes out on top, James Cagney's charm and energy or the mouth- opening excesses of Busby Berkeley's three grand showstoppers at the close. I give it a tie, with Footlight Parade one of the funniest and quickest of the early Thirties musicals. Although the movie clearly belongs to Cagney, Joan Blondell adds immeasurably to the good-natured story line. <br /><br />And what's the story line? It's about Chester Kent (Cagney) who produces musicals, and who now is just about out of business as the talkies take over. He starts doing Prologues, live musical entertainment offered on stage before a movie starts. He gets the idea to do bigger ones and more of them, moving them around the country. He's a ball of fire and ideas, and he needs all the ideas he can get to keep relentlessly producing these things. But a rival is spying on him and stealing his ideas; Nan Prescott (Blondell), his wise-cracking secretary, loves him but he's too busy too notice; an office girl in black-rimmed, round glasses (Ruby Keeler) wants a chance to dance; his wife turns up saying she didn't divorce him after all; a blonde gold-digger is setting her hooks in him; his partners are cheating him...my gosh, what's next? This may all sound like a lot to digest, but everything happens fast, with Cagney bouncing, strutting, striding, finger-snapping, barking orders and occasionally - until the big last number when he goes all out singing and dancing -- doing a step or two just to show how it's done. <br /><br />Instead of \"Let's put on a show, gang\" we have \"We need to build three shows in three days, so lock the doors and let's start rehearsing.\" These three super Prologues are going to feature 40 chorines, spectacular effects and will mean a rich contract, with forty Kent units in deluxe movie houses...the whole Apollo movie house circuit! Exhaustion threatens, feet ache, but all those unbilled chorines in skimpy costumes (which include Ann Sothern and Dorothy Lamour; you can quickly spot Sothern but Lamour is more generic) stay the course, dancing their hearts out, giggling and chattering and looking remarkably unsweaty. <br /><br />And then the curtains go up as each Prologue is presented in separate movie houses, one after the other on the same night, with the owner of the Apollo circuit going to determine that night whether he'll save Chester's skin or not. <br /><br />First up is \"Honeymoon Hotel\" with Dick Powell and Ruby Keeler in a 9 minute production number that features a lot of wholesome lasciviousness, with brides and grooms (some might even be married), bedrooms and beds, and doors with \"Do not disturb\" signs. <br /><br />Then on to the next theater and 11 minutes of \"By a Waterfall\" that probably had the Warner Brothers accountants worrying about bankruptcy. This number is so excessive -- dozens of swimming girls, trees, fountains, a huge grotto with waterslides, a giant pool -- you'd never think there was a Depression on. Berkeley pulls out all his tricks -- synchronization, human patterns, legs and arms doing all sorts of precision things -- and he does it in the water, with a lot of underwater photography looking up. The girls are sure game. They come up smiling with water in their eyes and still hit their marks. The whole thing must have been incredibly difficult and exhausting. Ruby Keeler, who has a couple of quick shots in the water, is the only one who looks a bit cautious. <br /><br />And finally, the smash finale...11 minutes of Cagney dancing and singing with Keeler to \"Shanghai Lil,\" with all sorts of bar girls and their customers, unusual in that the races are mixed up. There's Cagney and Keeler dancing on the bar, dancing on a table, Cagney fighting. There are what looks like fifty or sixty marching marines, hupping back and forth, rifles tossed and caught. Then...this is true...a human picture forms of Franklin Roosevelt and the NRA eagle. This may be the only Hollywood musical production that has ever featured Roosevelt, a big federal agency and a bevy of sexy Chinese prostitutes. <br /><br />That's entertainment, folks. It's great! <br /><br />Of course, Chester's Prologues get the big contract and Nan gets Chester. The movie is full of juicy clichés that make us smile. Ruby Keeler is so endearing as she earnestly stomps out her taps with her arms flying that you want to help her along. Joan Blondell makes us forget about a lot of Hollywood females who might have been more beautiful but who had a lot less wit and personality. The movie, however, belongs to Cagney, who grabs and shakes it, and to Berkeley, a man for whom too much was never too much.\n",
      "1\n"
     ]
    }
   ],
   "source": [
    "print(train_X[100])\n",
    "print(train_y[100])"
   ]
  },
  {
   "cell_type": "markdown",
   "metadata": {},
   "source": [
    "The first step in processing the reviews is to make sure that any html tags that appear should be removed. In addition we wish to tokenize our input, that way words such as *entertained* and *entertaining* are considered the same with regard to sentiment analysis."
   ]
  },
  {
   "cell_type": "code",
   "execution_count": 7,
   "metadata": {},
   "outputs": [],
   "source": [
    "import nltk\n",
    "from nltk.corpus import stopwords\n",
    "from nltk.stem.porter import *\n",
    "\n",
    "import re\n",
    "from bs4 import BeautifulSoup\n",
    "\n",
    "def review_to_words(review):\n",
    "    nltk.download(\"stopwords\", quiet=True)\n",
    "    stemmer = PorterStemmer()\n",
    "    \n",
    "    text = BeautifulSoup(review, \"html.parser\").get_text() # Remove HTML tags\n",
    "    text = re.sub(r\"[^a-zA-Z0-9]\", \" \", text.lower()) # Convert to lower case\n",
    "    words = text.split() # Split string into words\n",
    "    words = [w for w in words if w not in stopwords.words(\"english\")] # Remove stopwords\n",
    "    words = [PorterStemmer().stem(w) for w in words] # stem\n",
    "    \n",
    "    return words"
   ]
  },
  {
   "cell_type": "markdown",
   "metadata": {},
   "source": [
    "The `review_to_words` method defined above uses `BeautifulSoup` to remove any html tags that appear and uses the `nltk` package to tokenize the reviews. As a check to ensure we know how everything is working, try applying `review_to_words` to one of the reviews in the training set."
   ]
  },
  {
   "cell_type": "code",
   "execution_count": 8,
   "metadata": {},
   "outputs": [
    {
     "name": "stdout",
     "output_type": "stream",
     "text": [
      "['hard', 'say', 'come', 'top', 'jame', 'cagney', 'charm', 'energi', 'mouth', 'open', 'excess', 'busbi', 'berkeley', 'three', 'grand', 'showstopp', 'close', 'give', 'tie', 'footlight', 'parad', 'one', 'funniest', 'quickest', 'earli', 'thirti', 'music', 'although', 'movi', 'clearli', 'belong', 'cagney', 'joan', 'blondel', 'add', 'immeasur', 'good', 'natur', 'stori', 'line', 'stori', 'line', 'chester', 'kent', 'cagney', 'produc', 'music', 'busi', 'talki', 'take', 'start', 'prologu', 'live', 'music', 'entertain', 'offer', 'stage', 'movi', 'start', 'get', 'idea', 'bigger', 'one', 'move', 'around', 'countri', 'ball', 'fire', 'idea', 'need', 'idea', 'get', 'keep', 'relentlessli', 'produc', 'thing', 'rival', 'spi', 'steal', 'idea', 'nan', 'prescott', 'blondel', 'wise', 'crack', 'secretari', 'love', 'busi', 'notic', 'offic', 'girl', 'black', 'rim', 'round', 'glass', 'rubi', 'keeler', 'want', 'chanc', 'danc', 'wife', 'turn', 'say', 'divorc', 'blond', 'gold', 'digger', 'set', 'hook', 'partner', 'cheat', 'gosh', 'next', 'may', 'sound', 'like', 'lot', 'digest', 'everyth', 'happen', 'fast', 'cagney', 'bounc', 'strut', 'stride', 'finger', 'snap', 'bark', 'order', 'occasion', 'big', 'last', 'number', 'goe', 'sing', 'danc', 'step', 'two', 'show', 'done', 'instead', 'let', 'put', 'show', 'gang', 'need', 'build', 'three', 'show', 'three', 'day', 'lock', 'door', 'let', 'start', 'rehears', 'three', 'super', 'prologu', 'go', 'featur', '40', 'chorin', 'spectacular', 'effect', 'mean', 'rich', 'contract', 'forti', 'kent', 'unit', 'delux', 'movi', 'hous', 'whole', 'apollo', 'movi', 'hous', 'circuit', 'exhaust', 'threaten', 'feet', 'ach', 'unbil', 'chorin', 'skimpi', 'costum', 'includ', 'ann', 'sothern', 'dorothi', 'lamour', 'quickli', 'spot', 'sothern', 'lamour', 'gener', 'stay', 'cours', 'danc', 'heart', 'giggl', 'chatter', 'look', 'remark', 'unsweati', 'curtain', 'go', 'prologu', 'present', 'separ', 'movi', 'hous', 'one', 'night', 'owner', 'apollo', 'circuit', 'go', 'determin', 'night', 'whether', 'save', 'chester', 'skin', 'first', 'honeymoon', 'hotel', 'dick', 'powel', 'rubi', 'keeler', '9', 'minut', 'product', 'number', 'featur', 'lot', 'wholesom', 'lascivi', 'bride', 'groom', 'might', 'even', 'marri', 'bedroom', 'bed', 'door', 'disturb', 'sign', 'next', 'theater', '11', 'minut', 'waterfal', 'probabl', 'warner', 'brother', 'account', 'worri', 'bankruptci', 'number', 'excess', 'dozen', 'swim', 'girl', 'tree', 'fountain', 'huge', 'grotto', 'waterslid', 'giant', 'pool', 'never', 'think', 'depress', 'berkeley', 'pull', 'trick', 'synchron', 'human', 'pattern', 'leg', 'arm', 'sort', 'precis', 'thing', 'water', 'lot', 'underwat', 'photographi', 'look', 'girl', 'sure', 'game', 'come', 'smile', 'water', 'eye', 'still', 'hit', 'mark', 'whole', 'thing', 'must', 'incred', 'difficult', 'exhaust', 'rubi', 'keeler', 'coupl', 'quick', 'shot', 'water', 'one', 'look', 'bit', 'cautiou', 'final', 'smash', 'final', '11', 'minut', 'cagney', 'danc', 'sing', 'keeler', 'shanghai', 'lil', 'sort', 'bar', 'girl', 'custom', 'unusu', 'race', 'mix', 'cagney', 'keeler', 'danc', 'bar', 'danc', 'tabl', 'cagney', 'fight', 'look', 'like', 'fifti', 'sixti', 'march', 'marin', 'hup', 'back', 'forth', 'rifl', 'toss', 'caught', 'true', 'human', 'pictur', 'form', 'franklin', 'roosevelt', 'nra', 'eagl', 'may', 'hollywood', 'music', 'product', 'ever', 'featur', 'roosevelt', 'big', 'feder', 'agenc', 'bevi', 'sexi', 'chines', 'prostitut', 'entertain', 'folk', 'great', 'cours', 'chester', 'prologu', 'get', 'big', 'contract', 'nan', 'get', 'chester', 'movi', 'full', 'juici', 'clich', 'make', 'us', 'smile', 'rubi', 'keeler', 'endear', 'earnestli', 'stomp', 'tap', 'arm', 'fli', 'want', 'help', 'along', 'joan', 'blondel', 'make', 'us', 'forget', 'lot', 'hollywood', 'femal', 'might', 'beauti', 'lot', 'less', 'wit', 'person', 'movi', 'howev', 'belong', 'cagney', 'grab', 'shake', 'berkeley', 'man', 'much', 'never', 'much']\n"
     ]
    }
   ],
   "source": [
    "# TODO: Apply review_to_words to a review (train_X[100] or any other review)\n",
    "word = review_to_words(train_X[100])\n",
    "print(word)"
   ]
  },
  {
   "cell_type": "markdown",
   "metadata": {},
   "source": [
    "**Question:** Above we mentioned that `review_to_words` method removes html formatting and allows us to tokenize the words found in a review, for example, converting *entertained* and *entertaining* into *entertain* so that they are treated as though they are the same word. What else, if anything, does this method do to the input?"
   ]
  },
  {
   "cell_type": "markdown",
   "metadata": {},
   "source": [
    "**Answer:**"
   ]
  },
  {
   "cell_type": "markdown",
   "metadata": {},
   "source": [
    "The method below applies the `review_to_words` method to each of the reviews in the training and testing datasets. In addition it caches the results. This is because performing this processing step can take a long time. This way if you are unable to complete the notebook in the current session, you can come back without needing to process the data a second time."
   ]
  },
  {
   "cell_type": "code",
   "execution_count": 9,
   "metadata": {},
   "outputs": [],
   "source": [
    "import pickle\n",
    "\n",
    "cache_dir = os.path.join(\"../cache\", \"sentiment_analysis\")  # where to store cache files\n",
    "os.makedirs(cache_dir, exist_ok=True)  # ensure cache directory exists\n",
    "\n",
    "def preprocess_data(data_train, data_test, labels_train, labels_test,\n",
    "                    cache_dir=cache_dir, cache_file=\"preprocessed_data.pkl\"):\n",
    "    \"\"\"Convert each review to words; read from cache if available.\"\"\"\n",
    "\n",
    "    # If cache_file is not None, try to read from it first\n",
    "    cache_data = None\n",
    "    if cache_file is not None:\n",
    "        try:\n",
    "            with open(os.path.join(cache_dir, cache_file), \"rb\") as f:\n",
    "                cache_data = pickle.load(f)\n",
    "            print(\"Read preprocessed data from cache file:\", cache_file)\n",
    "        except:\n",
    "            pass  # unable to read from cache, but that's okay\n",
    "    \n",
    "    # If cache is missing, then do the heavy lifting\n",
    "    if cache_data is None:\n",
    "        # Preprocess training and test data to obtain words for each review\n",
    "        #words_train = list(map(review_to_words, data_train))\n",
    "        #words_test = list(map(review_to_words, data_test))\n",
    "        words_train = [review_to_words(review) for review in data_train]\n",
    "        words_test = [review_to_words(review) for review in data_test]\n",
    "        \n",
    "        # Write to cache file for future runs\n",
    "        if cache_file is not None:\n",
    "            cache_data = dict(words_train=words_train, words_test=words_test,\n",
    "                              labels_train=labels_train, labels_test=labels_test)\n",
    "            with open(os.path.join(cache_dir, cache_file), \"wb\") as f:\n",
    "                pickle.dump(cache_data, f)\n",
    "            print(\"Wrote preprocessed data to cache file:\", cache_file)\n",
    "    else:\n",
    "        # Unpack data loaded from cache file\n",
    "        words_train, words_test, labels_train, labels_test = (cache_data['words_train'],\n",
    "                cache_data['words_test'], cache_data['labels_train'], cache_data['labels_test'])\n",
    "    \n",
    "    return words_train, words_test, labels_train, labels_test"
   ]
  },
  {
   "cell_type": "code",
   "execution_count": 10,
   "metadata": {},
   "outputs": [
    {
     "name": "stdout",
     "output_type": "stream",
     "text": [
      "Read preprocessed data from cache file: preprocessed_data.pkl\n"
     ]
    }
   ],
   "source": [
    "# Preprocess data\n",
    "train_X, test_X, train_y, test_y = preprocess_data(train_X, test_X, train_y, test_y)"
   ]
  },
  {
   "cell_type": "markdown",
   "metadata": {},
   "source": [
    "## Transform the data\n",
    "\n",
    "In the XGBoost notebook we transformed the data from its word representation to a bag-of-words feature representation. For the model we are going to construct in this notebook we will construct a feature representation which is very similar. To start, we will represent each word as an integer. Of course, some of the words that appear in the reviews occur very infrequently and so likely don't contain much information for the purposes of sentiment analysis. The way we will deal with this problem is that we will fix the size of our working vocabulary and we will only include the words that appear most frequently. We will then combine all of the infrequent words into a single category and, in our case, we will label it as `1`.\n",
    "\n",
    "Since we will be using a recurrent neural network, it will be convenient if the length of each review is the same. To do this, we will fix a size for our reviews and then pad short reviews with the category 'no word' (which we will label `0`) and truncate long reviews."
   ]
  },
  {
   "cell_type": "markdown",
   "metadata": {},
   "source": [
    "### (TODO) Create a word dictionary\n",
    "\n",
    "To begin with, we need to construct a way to map words that appear in the reviews to integers. Here we fix the size of our vocabulary (including the 'no word' and 'infrequent' categories) to be `5000` but you may wish to change this to see how it affects the model.\n",
    "\n",
    "> **TODO:** Complete the implementation for the `build_dict()` method below. Note that even though the vocab_size is set to `5000`, we only want to construct a mapping for the most frequently appearing `4998` words. This is because we want to reserve the special labels `0` for 'no word' and `1` for 'infrequent word'."
   ]
  },
  {
   "cell_type": "code",
   "execution_count": 11,
   "metadata": {},
   "outputs": [],
   "source": [
    "import numpy as np\n",
    "\n",
    "\n",
    "def build_dict(data, vocab_size = 5000):\n",
    "    \"\"\"Construct and return a dictionary mapping each of the most frequently appearing words to a unique integer.\"\"\"\n",
    "    \n",
    "    # TODO: Determine how often each word appears in `data`. Note that `data` is a list of sentences and that a\n",
    "    #       sentence is a list of words.\n",
    "    \n",
    "    word_count = {} # A dict storing the words that appear in the reviews along with how often they occur\n",
    "    \n",
    "    for each_review in data:\n",
    "        for each_word in each_review:\n",
    "            if each_word in word_count:\n",
    "                word_count[each_word] += 1\n",
    "            else: \n",
    "                word_count[each_word] = 1\n",
    "    \n",
    "    # TODO: Sort the words found in `data` so that sorted_words[0] is the most frequently appearing word and\n",
    "    #       sorted_words[-1] is the least frequently appearing word.\n",
    "    \n",
    "    sorted_wordlist =sorted(word_count.items(), key=lambda x: x[1], reverse=True)\n",
    "    \n",
    "    sorted_words = [k for k,_ in sorted_wordlist]\n",
    "    \n",
    "    sorted_wordlist = None\n",
    "    \n",
    "    word_dict = {} # This is what we are building, a dictionary that translates words into integers\n",
    "    for idx, word in enumerate(sorted_words[:vocab_size - 2]): # The -2 is so that we save room for the 'no word'\n",
    "        word_dict[word] = idx + 2                              # 'infrequent' labels\n",
    "        \n",
    "    return word_dict,sorted_words"
   ]
  },
  {
   "cell_type": "code",
   "execution_count": 12,
   "metadata": {},
   "outputs": [
    {
     "name": "stdout",
     "output_type": "stream",
     "text": [
      "{'movi': 2, 'film': 3, 'one': 4, 'like': 5, 'time': 6, 'good': 7, 'make': 8, 'charact': 9, 'get': 10, 'see': 11, 'watch': 12, 'stori': 13, 'even': 14, 'would': 15, 'realli': 16, 'well': 17, 'scene': 18, 'look': 19, 'show': 20, 'much': 21, 'end': 22, 'peopl': 23, 'bad': 24, 'go': 25, 'great': 26, 'also': 27, 'first': 28, 'love': 29, 'think': 30, 'way': 31, 'act': 32, 'play': 33, 'made': 34, 'thing': 35, 'could': 36, 'know': 37, 'say': 38, 'seem': 39, 'work': 40, 'plot': 41, 'two': 42, 'actor': 43, 'year': 44, 'come': 45, 'mani': 46, 'seen': 47, 'take': 48, 'life': 49, 'want': 50, 'never': 51, 'littl': 52, 'best': 53, 'tri': 54, 'man': 55, 'ever': 56, 'give': 57, 'better': 58, 'still': 59, 'perform': 60, 'find': 61, 'feel': 62, 'part': 63, 'back': 64, 'use': 65, 'someth': 66, 'director': 67, 'actual': 68, 'interest': 69, 'lot': 70, 'real': 71, 'old': 72, 'cast': 73, 'though': 74, 'live': 75, 'star': 76, 'enjoy': 77, 'guy': 78, 'anoth': 79, 'new': 80, 'role': 81, 'noth': 82, '10': 83, 'funni': 84, 'music': 85, 'point': 86, 'start': 87, 'set': 88, 'girl': 89, 'origin': 90, 'day': 91, 'world': 92, 'everi': 93, 'believ': 94, 'turn': 95, 'quit': 96, 'direct': 97, 'us': 98, 'thought': 99, 'fact': 100, 'minut': 101, 'horror': 102, 'kill': 103, 'action': 104, 'comedi': 105, 'pretti': 106, 'young': 107, 'wonder': 108, 'happen': 109, 'around': 110, 'got': 111, 'effect': 112, 'right': 113, 'long': 114, 'howev': 115, 'big': 116, 'line': 117, 'famili': 118, 'enough': 119, 'seri': 120, 'may': 121, 'need': 122, 'fan': 123, 'bit': 124, 'script': 125, 'beauti': 126, 'person': 127, 'becom': 128, 'without': 129, 'must': 130, 'alway': 131, 'friend': 132, 'tell': 133, 'reason': 134, 'saw': 135, 'last': 136, 'final': 137, 'kid': 138, 'almost': 139, 'put': 140, 'least': 141, 'sure': 142, 'done': 143, 'whole': 144, 'place': 145, 'complet': 146, 'kind': 147, 'expect': 148, 'differ': 149, 'shot': 150, 'far': 151, 'mean': 152, 'anyth': 153, 'book': 154, 'laugh': 155, 'might': 156, 'name': 157, 'sinc': 158, 'begin': 159, '2': 160, 'probabl': 161, 'woman': 162, 'help': 163, 'entertain': 164, 'let': 165, 'screen': 166, 'call': 167, 'tv': 168, 'moment': 169, 'away': 170, 'read': 171, 'yet': 172, 'rather': 173, 'worst': 174, 'run': 175, 'fun': 176, 'lead': 177, 'hard': 178, 'audienc': 179, 'idea': 180, 'anyon': 181, 'episod': 182, 'american': 183, 'found': 184, 'appear': 185, 'bore': 186, 'especi': 187, 'although': 188, 'hope': 189, 'keep': 190, 'cours': 191, 'anim': 192, 'job': 193, 'goe': 194, 'move': 195, 'sens': 196, 'version': 197, 'dvd': 198, 'war': 199, 'money': 200, 'someon': 201, 'mind': 202, 'mayb': 203, 'problem': 204, 'true': 205, 'hous': 206, 'everyth': 207, 'nice': 208, 'second': 209, 'rate': 210, 'three': 211, 'night': 212, 'face': 213, 'follow': 214, 'recommend': 215, 'product': 216, 'main': 217, 'worth': 218, 'leav': 219, 'human': 220, 'special': 221, 'excel': 222, 'togeth': 223, 'wast': 224, 'everyon': 225, 'sound': 226, 'john': 227, 'hand': 228, '1': 229, 'father': 230, 'later': 231, 'eye': 232, 'said': 233, 'view': 234, 'instead': 235, 'review': 236, 'boy': 237, 'high': 238, 'hour': 239, 'miss': 240, 'talk': 241, 'classic': 242, 'wife': 243, 'understand': 244, 'left': 245, 'care': 246, 'black': 247, 'death': 248, 'open': 249, 'murder': 250, 'write': 251, 'half': 252, 'head': 253, 'rememb': 254, 'chang': 255, 'viewer': 256, 'fight': 257, 'gener': 258, 'surpris': 259, 'includ': 260, 'short': 261, 'die': 262, 'fall': 263, 'less': 264, 'els': 265, 'entir': 266, 'piec': 267, 'involv': 268, 'pictur': 269, 'simpli': 270, 'top': 271, 'home': 272, 'power': 273, 'total': 274, 'usual': 275, 'budget': 276, 'attempt': 277, 'suppos': 278, 'releas': 279, 'hollywood': 280, 'terribl': 281, 'song': 282, 'men': 283, 'possibl': 284, 'featur': 285, 'portray': 286, 'disappoint': 287, 'poor': 288, '3': 289, 'coupl': 290, 'stupid': 291, 'camera': 292, 'dead': 293, 'wrong': 294, 'low': 295, 'produc': 296, 'video': 297, 'either': 298, 'aw': 299, 'definit': 300, 'except': 301, 'rest': 302, 'given': 303, 'absolut': 304, 'women': 305, 'lack': 306, 'word': 307, 'writer': 308, 'titl': 309, 'talent': 310, 'decid': 311, 'full': 312, 'perfect': 313, 'along': 314, 'style': 315, 'close': 316, 'truli': 317, 'school': 318, 'emot': 319, 'save': 320, 'sex': 321, 'age': 322, 'next': 323, 'bring': 324, 'mr': 325, 'case': 326, 'killer': 327, 'heart': 328, 'comment': 329, 'sort': 330, 'creat': 331, 'perhap': 332, 'came': 333, 'brother': 334, 'sever': 335, 'joke': 336, 'art': 337, 'dialogu': 338, 'game': 339, 'small': 340, 'base': 341, 'flick': 342, 'written': 343, 'sequenc': 344, 'meet': 345, 'earli': 346, 'often': 347, 'other': 348, 'mother': 349, 'develop': 350, 'humor': 351, 'actress': 352, 'consid': 353, 'dark': 354, 'guess': 355, 'amaz': 356, 'unfortun': 357, 'light': 358, 'lost': 359, 'exampl': 360, 'cinema': 361, 'drama': 362, 'ye': 363, 'white': 364, 'experi': 365, 'imagin': 366, 'mention': 367, 'stop': 368, 'natur': 369, 'forc': 370, 'manag': 371, 'felt': 372, 'present': 373, 'cut': 374, 'children': 375, 'fail': 376, 'son': 377, 'support': 378, 'qualiti': 379, 'car': 380, 'ask': 381, 'hit': 382, 'side': 383, 'voic': 384, 'extrem': 385, 'impress': 386, 'evil': 387, 'wors': 388, 'stand': 389, 'went': 390, 'certainli': 391, 'basic': 392, 'oh': 393, 'overal': 394, 'favorit': 395, 'horribl': 396, 'mysteri': 397, 'number': 398, 'type': 399, 'danc': 400, 'wait': 401, 'hero': 402, '5': 403, 'alreadi': 404, 'learn': 405, 'matter': 406, '4': 407, 'michael': 408, 'genr': 409, 'fine': 410, 'despit': 411, 'throughout': 412, 'walk': 413, 'success': 414, 'histori': 415, 'question': 416, 'zombi': 417, 'town': 418, 'relationship': 419, 'realiz': 420, 'past': 421, 'child': 422, 'daughter': 423, 'late': 424, 'b': 425, 'wish': 426, 'hate': 427, 'credit': 428, 'event': 429, 'theme': 430, 'touch': 431, 'citi': 432, 'today': 433, 'sometim': 434, 'behind': 435, 'god': 436, 'twist': 437, 'sit': 438, 'annoy': 439, 'deal': 440, 'stay': 441, 'abl': 442, 'rent': 443, 'pleas': 444, 'edit': 445, 'blood': 446, 'deserv': 447, 'anyway': 448, 'comic': 449, 'appar': 450, 'soon': 451, 'gave': 452, 'etc': 453, 'level': 454, 'slow': 455, 'chanc': 456, 'score': 457, 'bodi': 458, 'brilliant': 459, 'incred': 460, 'figur': 461, 'situat': 462, 'major': 463, 'self': 464, 'stuff': 465, 'decent': 466, 'element': 467, 'return': 468, 'dream': 469, 'obvious': 470, 'continu': 471, 'order': 472, 'pace': 473, 'ridicul': 474, 'happi': 475, 'add': 476, 'highli': 477, 'group': 478, 'thank': 479, 'ladi': 480, 'novel': 481, 'speak': 482, 'pain': 483, 'career': 484, 'shoot': 485, 'strang': 486, 'heard': 487, 'sad': 488, 'husband': 489, 'polic': 490, 'import': 491, 'break': 492, 'took': 493, 'strong': 494, 'cannot': 495, 'robert': 496, 'predict': 497, 'violenc': 498, 'hilari': 499, 'recent': 500, 'countri': 501, 'known': 502, 'particularli': 503, 'pick': 504, 'documentari': 505, 'season': 506, 'critic': 507, 'jame': 508, 'compar': 509, 'alon': 510, 'obviou': 511, 'told': 512, 'state': 513, 'rock': 514, 'visual': 515, 'theater': 516, 'offer': 517, 'exist': 518, 'opinion': 519, 'gore': 520, 'hold': 521, 'crap': 522, 'result': 523, 'hear': 524, 'room': 525, 'realiti': 526, 'effort': 527, 'clich': 528, 'thriller': 529, 'caus': 530, 'serious': 531, 'explain': 532, 'sequel': 533, 'king': 534, 'local': 535, 'ago': 536, 'none': 537, 'hell': 538, 'note': 539, 'allow': 540, 'david': 541, 'sister': 542, 'simpl': 543, 'femal': 544, 'deliv': 545, 'ok': 546, 'convinc': 547, 'class': 548, 'check': 549, 'suspens': 550, 'win': 551, 'oscar': 552, 'buy': 553, 'huge': 554, 'valu': 555, 'sexual': 556, 'cool': 557, 'scari': 558, 'excit': 559, 'similar': 560, 'apart': 561, 'provid': 562, 'exactli': 563, 'avoid': 564, 'shown': 565, 'seriou': 566, 'english': 567, 'whose': 568, 'taken': 569, 'cinematographi': 570, 'shock': 571, 'polit': 572, 'spoiler': 573, 'offic': 574, 'across': 575, 'middl': 576, 'street': 577, 'pass': 578, 'messag': 579, 'charm': 580, 'silli': 581, 'somewhat': 582, 'modern': 583, 'confus': 584, 'filmmak': 585, 'form': 586, 'tale': 587, 'singl': 588, 'jack': 589, 'mostli': 590, 'carri': 591, 'william': 592, 'attent': 593, 'sing': 594, 'subject': 595, 'five': 596, 'richard': 597, 'prove': 598, 'team': 599, 'stage': 600, 'unlik': 601, 'cop': 602, 'georg': 603, 'monster': 604, 'televis': 605, 'earth': 606, 'cover': 607, 'villain': 608, 'pay': 609, 'marri': 610, 'toward': 611, 'build': 612, 'pull': 613, 'parent': 614, 'due': 615, 'respect': 616, 'fill': 617, 'dialog': 618, 'four': 619, 'remind': 620, 'futur': 621, 'typic': 622, 'weak': 623, '7': 624, 'cheap': 625, 'intellig': 626, 'british': 627, 'atmospher': 628, '80': 629, 'clearli': 630, 'paul': 631, 'non': 632, 'dog': 633, 'knew': 634, 'fast': 635, 'artist': 636, '8': 637, 'crime': 638, 'easili': 639, 'escap': 640, 'adult': 641, 'doubt': 642, 'detail': 643, 'date': 644, 'romant': 645, 'member': 646, 'fire': 647, 'gun': 648, 'drive': 649, 'straight': 650, 'fit': 651, 'beyond': 652, 'attack': 653, 'imag': 654, 'upon': 655, 'posit': 656, 'whether': 657, 'fantast': 658, 'peter': 659, 'aspect': 660, 'appreci': 661, 'captur': 662, 'ten': 663, 'plan': 664, 'discov': 665, 'remain': 666, 'period': 667, 'near': 668, 'air': 669, 'realist': 670, 'mark': 671, 'red': 672, 'dull': 673, 'adapt': 674, 'within': 675, 'spend': 676, 'lose': 677, 'color': 678, 'materi': 679, 'chase': 680, 'mari': 681, 'storylin': 682, 'forget': 683, 'bunch': 684, 'clear': 685, 'lee': 686, 'victim': 687, 'nearli': 688, 'box': 689, 'york': 690, 'inspir': 691, 'match': 692, 'mess': 693, 'finish': 694, 'standard': 695, 'easi': 696, 'truth': 697, 'busi': 698, 'suffer': 699, 'bill': 700, 'space': 701, 'dramat': 702, 'western': 703, 'e': 704, 'list': 705, 'battl': 706, 'notic': 707, 'de': 708, 'french': 709, 'ad': 710, '9': 711, 'tom': 712, 'larg': 713, 'among': 714, 'eventu': 715, 'train': 716, 'accept': 717, 'agre': 718, 'spirit': 719, 'soundtrack': 720, 'third': 721, 'teenag': 722, 'adventur': 723, 'soldier': 724, 'famou': 725, 'sorri': 726, 'suggest': 727, 'drug': 728, 'babi': 729, 'cri': 730, 'normal': 731, 'troubl': 732, 'ultim': 733, 'contain': 734, 'certain': 735, 'cultur': 736, 'romanc': 737, 'rare': 738, 'lame': 739, 'somehow': 740, 'mix': 741, 'disney': 742, 'gone': 743, 'cartoon': 744, 'student': 745, 'reveal': 746, 'fear': 747, 'kept': 748, 'suck': 749, 'attract': 750, 'appeal': 751, 'premis': 752, 'design': 753, 'greatest': 754, 'secret': 755, 'shame': 756, 'throw': 757, 'copi': 758, 'scare': 759, 'wit': 760, 'america': 761, 'admit': 762, 'relat': 763, 'particular': 764, 'brought': 765, 'screenplay': 766, 'whatev': 767, 'pure': 768, '70': 769, 'averag': 770, 'harri': 771, 'master': 772, 'describ': 773, 'treat': 774, 'male': 775, '20': 776, 'issu': 777, 'fantasi': 778, 'warn': 779, 'inde': 780, 'background': 781, 'forward': 782, 'project': 783, 'free': 784, 'japanes': 785, 'memor': 786, 'poorli': 787, 'award': 788, 'locat': 789, 'amus': 790, 'potenti': 791, 'struggl': 792, 'magic': 793, 'weird': 794, 'societi': 795, 'okay': 796, 'accent': 797, 'imdb': 798, 'doctor': 799, 'water': 800, 'hot': 801, '30': 802, 'alien': 803, 'express': 804, 'dr': 805, 'odd': 806, 'crazi': 807, 'choic': 808, 'fiction': 809, 'studio': 810, 'becam': 811, 'control': 812, 'masterpiec': 813, 'fli': 814, 'difficult': 815, 'joe': 816, 'scream': 817, 'costum': 818, 'lover': 819, 'uniqu': 820, 'refer': 821, 'remak': 822, 'girlfriend': 823, 'vampir': 824, 'prison': 825, 'execut': 826, 'wear': 827, 'jump': 828, 'wood': 829, 'unless': 830, 'creepi': 831, 'cheesi': 832, 'superb': 833, 'otherwis': 834, 'parti': 835, 'roll': 836, 'ghost': 837, 'public': 838, 'mad': 839, 'depict': 840, 'moral': 841, 'badli': 842, 'jane': 843, 'earlier': 844, 'week': 845, 'dumb': 846, 'fi': 847, 'grow': 848, 'flaw': 849, 'deep': 850, 'sci': 851, 'cat': 852, 'maker': 853, 'connect': 854, 'older': 855, 'footag': 856, 'plenti': 857, 'bother': 858, 'outsid': 859, 'stick': 860, 'gay': 861, 'catch': 862, 'plu': 863, 'co': 864, 'popular': 865, 'equal': 866, 'social': 867, 'disturb': 868, 'quickli': 869, 'perfectli': 870, 'dress': 871, 'era': 872, '90': 873, 'mistak': 874, 'lie': 875, 'previou': 876, 'ride': 877, 'combin': 878, 'band': 879, 'concept': 880, 'answer': 881, 'rich': 882, 'surviv': 883, 'front': 884, 'christma': 885, 'sweet': 886, 'insid': 887, 'concern': 888, 'bare': 889, 'eat': 890, 'beat': 891, 'listen': 892, 'ben': 893, 'c': 894, 'term': 895, 'serv': 896, 'meant': 897, 'german': 898, 'la': 899, 'hardli': 900, 'stereotyp': 901, 'law': 902, 'innoc': 903, 'desper': 904, 'promis': 905, 'memori': 906, 'cute': 907, 'intent': 908, 'steal': 909, 'variou': 910, 'inform': 911, 'brain': 912, 'post': 913, 'tone': 914, 'island': 915, 'amount': 916, 'track': 917, 'nuditi': 918, 'compani': 919, 'claim': 920, 'store': 921, '50': 922, 'hair': 923, 'flat': 924, 'univers': 925, 'land': 926, 'danger': 927, 'fairli': 928, 'kick': 929, 'scott': 930, 'player': 931, 'plain': 932, 'crew': 933, 'step': 934, 'toni': 935, 'share': 936, 'centuri': 937, 'tast': 938, 'achiev': 939, 'engag': 940, 'travel': 941, 'cold': 942, 'record': 943, 'suit': 944, 'rip': 945, 'manner': 946, 'sadli': 947, 'spot': 948, 'tension': 949, 'wrote': 950, 'intens': 951, 'fascin': 952, 'familiar': 953, 'remark': 954, 'burn': 955, 'depth': 956, 'destroy': 957, 'histor': 958, 'sleep': 959, 'purpos': 960, 'languag': 961, 'ignor': 962, 'ruin': 963, 'delight': 964, 'italian': 965, 'unbeliev': 966, 'abil': 967, 'collect': 968, 'soul': 969, 'detect': 970, 'clever': 971, 'violent': 972, 'rape': 973, 'reach': 974, 'door': 975, 'trash': 976, 'liter': 977, 'scienc': 978, 'reveng': 979, 'caught': 980, 'commun': 981, 'creatur': 982, 'approach': 983, 'trip': 984, 'fashion': 985, 'intrigu': 986, 'introduc': 987, 'paint': 988, 'skill': 989, 'complex': 990, 'channel': 991, 'camp': 992, 'christian': 993, 'hole': 994, 'extra': 995, 'immedi': 996, 'limit': 997, 'ann': 998, 'mental': 999, 'million': 1000, 'slightli': 1001, 'comput': 1002, '6': 1003, 'mere': 1004, 'conclus': 1005, 'slasher': 1006, 'imposs': 1007, 'suddenli': 1008, 'crimin': 1009, 'teen': 1010, 'neither': 1011, 'spent': 1012, 'physic': 1013, 'nation': 1014, 'respons': 1015, 'planet': 1016, 'fake': 1017, 'receiv': 1018, 'blue': 1019, 'sick': 1020, 'bizarr': 1021, 'embarrass': 1022, 'indian': 1023, 'ring': 1024, '15': 1025, 'pop': 1026, 'drop': 1027, 'drag': 1028, 'haunt': 1029, 'pointless': 1030, 'suspect': 1031, 'search': 1032, 'edg': 1033, 'handl': 1034, 'biggest': 1035, 'common': 1036, 'faith': 1037, 'arriv': 1038, 'hurt': 1039, 'technic': 1040, 'angel': 1041, 'dad': 1042, 'genuin': 1043, 'solid': 1044, 'awesom': 1045, 'f': 1046, 'former': 1047, 'van': 1048, 'focu': 1049, 'colleg': 1050, 'count': 1051, 'heavi': 1052, 'tear': 1053, 'wall': 1054, 'rais': 1055, 'visit': 1056, 'laughabl': 1057, 'younger': 1058, 'sign': 1059, 'excus': 1060, 'fair': 1061, 'cult': 1062, 'key': 1063, 'tough': 1064, 'motion': 1065, 'desir': 1066, 'super': 1067, 'stun': 1068, 'addit': 1069, 'cloth': 1070, 'exploit': 1071, 'tortur': 1072, 'smith': 1073, 'race': 1074, 'davi': 1075, 'cross': 1076, 'author': 1077, 'jim': 1078, 'consist': 1079, 'compel': 1080, 'focus': 1081, 'minor': 1082, 'chemistri': 1083, 'pathet': 1084, 'commit': 1085, 'park': 1086, 'tradit': 1087, 'obsess': 1088, 'frank': 1089, 'grade': 1090, '60': 1091, 'asid': 1092, 'brutal': 1093, 'steve': 1094, 'somewher': 1095, 'depress': 1096, 'opportun': 1097, 'rule': 1098, 'explor': 1099, 'u': 1100, 'grant': 1101, 'honest': 1102, 'besid': 1103, 'dub': 1104, 'anti': 1105, 'intend': 1106, 'trailer': 1107, 'bar': 1108, 'west': 1109, 'longer': 1110, 'regard': 1111, 'scientist': 1112, 'decad': 1113, 'judg': 1114, 'silent': 1115, 'armi': 1116, 'creativ': 1117, 'wild': 1118, 'stewart': 1119, 'south': 1120, 'g': 1121, 'draw': 1122, 'road': 1123, 'govern': 1124, 'ex': 1125, 'boss': 1126, 'practic': 1127, 'gang': 1128, 'club': 1129, 'motiv': 1130, 'surprisingli': 1131, 'festiv': 1132, 'green': 1133, 'redeem': 1134, 'page': 1135, 'london': 1136, 'militari': 1137, 'display': 1138, 'idiot': 1139, 'aliv': 1140, 'machin': 1141, 'thrill': 1142, 'repeat': 1143, 'yeah': 1144, '100': 1145, 'nobodi': 1146, 'folk': 1147, '40': 1148, 'garbag': 1149, 'journey': 1150, 'ground': 1151, 'smile': 1152, 'tire': 1153, 'bought': 1154, 'mood': 1155, 'cost': 1156, 'stone': 1157, 'sam': 1158, 'noir': 1159, 'mouth': 1160, 'terrif': 1161, 'agent': 1162, 'requir': 1163, 'utterli': 1164, 'sexi': 1165, 'honestli': 1166, 'area': 1167, 'geniu': 1168, 'report': 1169, 'humour': 1170, 'investig': 1171, 'enter': 1172, 'glad': 1173, 'serial': 1174, 'occasion': 1175, 'passion': 1176, 'narr': 1177, 'climax': 1178, 'marriag': 1179, 'studi': 1180, 'industri': 1181, 'charli': 1182, 'center': 1183, 'nowher': 1184, 'ship': 1185, 'demon': 1186, 'bear': 1187, 'loos': 1188, 'hors': 1189, 'hang': 1190, 'wow': 1191, 'graphic': 1192, 'admir': 1193, 'giant': 1194, 'send': 1195, 'loud': 1196, 'damn': 1197, 'subtl': 1198, 'nake': 1199, 'profession': 1200, 'rel': 1201, 'blow': 1202, 'bottom': 1203, 'insult': 1204, 'batman': 1205, 'boyfriend': 1206, 'doubl': 1207, 'kelli': 1208, 'r': 1209, 'initi': 1210, 'frame': 1211, 'opera': 1212, 'gem': 1213, 'challeng': 1214, 'affect': 1215, 'church': 1216, 'cinemat': 1217, 'drawn': 1218, 'j': 1219, 'fulli': 1220, 'seek': 1221, 'nightmar': 1222, 'l': 1223, 'evid': 1224, 'conflict': 1225, 'essenti': 1226, 'arm': 1227, 'henri': 1228, 'christoph': 1229, 'grace': 1230, 'wind': 1231, 'assum': 1232, 'witch': 1233, 'narrat': 1234, 'hunt': 1235, 'push': 1236, 'chri': 1237, 'wise': 1238, 'nomin': 1239, 'month': 1240, 'repres': 1241, 'avail': 1242, 'affair': 1243, 'sceneri': 1244, 'hide': 1245, 'smart': 1246, 'bond': 1247, 'justic': 1248, 'thu': 1249, 'outstand': 1250, 'interview': 1251, 'flashback': 1252, 'satisfi': 1253, 'constantli': 1254, 'presenc': 1255, 'central': 1256, 'bed': 1257, 'sell': 1258, 'iron': 1259, 'content': 1260, 'gag': 1261, 'everybodi': 1262, 'hotel': 1263, 'slowli': 1264, 'hire': 1265, 'system': 1266, 'hey': 1267, 'individu': 1268, 'thrown': 1269, 'adam': 1270, 'charl': 1271, 'jone': 1272, 'mediocr': 1273, 'allen': 1274, 'billi': 1275, 'ray': 1276, 'lesson': 1277, 'cameo': 1278, 'photographi': 1279, 'fellow': 1280, 'pari': 1281, 'strike': 1282, 'brief': 1283, 'independ': 1284, 'rise': 1285, 'absurd': 1286, 'neg': 1287, 'phone': 1288, 'impact': 1289, 'born': 1290, 'ill': 1291, 'model': 1292, 'spoil': 1293, 'fresh': 1294, 'angl': 1295, 'abus': 1296, 'likabl': 1297, 'hill': 1298, 'discuss': 1299, 'sight': 1300, 'ahead': 1301, 'sent': 1302, 'photograph': 1303, 'logic': 1304, 'shine': 1305, 'blame': 1306, 'occur': 1307, 'bruce': 1308, 'mainli': 1309, 'forev': 1310, 'skip': 1311, 'commerci': 1312, 'held': 1313, 'segment': 1314, 'surround': 1315, 'teacher': 1316, 'zero': 1317, 'blond': 1318, 'summer': 1319, 'resembl': 1320, 'satir': 1321, 'trap': 1322, 'six': 1323, 'fool': 1324, 'ball': 1325, 'queen': 1326, 'sub': 1327, 'tragedi': 1328, 'twice': 1329, 'pack': 1330, 'reaction': 1331, 'bomb': 1332, 'protagonist': 1333, 'will': 1334, 'hospit': 1335, 'mile': 1336, 'sport': 1337, 'vote': 1338, 'mom': 1339, 'jerri': 1340, 'trust': 1341, 'drink': 1342, 'encount': 1343, 'plane': 1344, 'station': 1345, 'al': 1346, 'current': 1347, 'program': 1348, 'choos': 1349, 'martin': 1350, 'celebr': 1351, 'join': 1352, 'lord': 1353, 'field': 1354, 'round': 1355, 'favourit': 1356, 'tragic': 1357, 'vision': 1358, 'robot': 1359, 'jean': 1360, 'tie': 1361, 'arthur': 1362, 'roger': 1363, 'random': 1364, 'fortun': 1365, 'psycholog': 1366, 'intern': 1367, 'dread': 1368, 'prefer': 1369, 'improv': 1370, 'epic': 1371, 'nonsens': 1372, 'legend': 1373, 'highlight': 1374, 'pleasur': 1375, 'formula': 1376, 'dollar': 1377, 'tape': 1378, '11': 1379, 'porn': 1380, 'gorgeou': 1381, 'object': 1382, 'fox': 1383, 'thin': 1384, 'wide': 1385, 'ugli': 1386, 'buddi': 1387, 'influenc': 1388, 'nasti': 1389, 'prepar': 1390, 'ii': 1391, 'supposedli': 1392, 'progress': 1393, 'warm': 1394, 'reflect': 1395, 'worthi': 1396, 'youth': 1397, 'length': 1398, 'unusu': 1399, 'latter': 1400, 'crash': 1401, 'shop': 1402, 'childhood': 1403, 'superior': 1404, 'seven': 1405, 'theatr': 1406, 'remot': 1407, 'disgust': 1408, 'paid': 1409, 'funniest': 1410, 'pilot': 1411, 'fell': 1412, 'trick': 1413, 'convers': 1414, 'castl': 1415, 'gangster': 1416, 'establish': 1417, 'disast': 1418, 'rob': 1419, 'ident': 1420, 'suicid': 1421, 'mine': 1422, 'disappear': 1423, 'heaven': 1424, 'tend': 1425, 'singer': 1426, 'forgotten': 1427, 'decis': 1428, 'heroin': 1429, 'mask': 1430, 'partner': 1431, 'brian': 1432, 'recogn': 1433, 'desert': 1434, 'alan': 1435, 'p': 1436, 'sky': 1437, 'thoroughli': 1438, 'ms': 1439, 'stuck': 1440, 'replac': 1441, 'accur': 1442, 'market': 1443, 'eddi': 1444, 'danni': 1445, 'uncl': 1446, 'seemingli': 1447, 'andi': 1448, 'commentari': 1449, 'clue': 1450, 'devil': 1451, 'jackson': 1452, 'refus': 1453, 'pair': 1454, 'therefor': 1455, 'that': 1456, 'accid': 1457, 'fault': 1458, 'fate': 1459, 'ed': 1460, 'river': 1461, 'unit': 1462, 'tune': 1463, 'afraid': 1464, 'clean': 1465, 'hidden': 1466, 'russian': 1467, 'stephen': 1468, 'captain': 1469, 'quick': 1470, 'instanc': 1471, 'convey': 1472, 'test': 1473, 'irrit': 1474, 'readi': 1475, 'european': 1476, 'daniel': 1477, 'frustrat': 1478, 'insan': 1479, 'chines': 1480, '1950': 1481, 'rescu': 1482, 'food': 1483, 'wed': 1484, 'angri': 1485, 'dirti': 1486, 'lock': 1487, 'joy': 1488, 'price': 1489, 'steven': 1490, 'bland': 1491, 'cage': 1492, 'anymor': 1493, 'rang': 1494, 'wooden': 1495, 'rush': 1496, 'jason': 1497, 'n': 1498, 'news': 1499, 'martial': 1500, 'twenti': 1501, 'led': 1502, 'board': 1503, 'worri': 1504, '12': 1505, 'symbol': 1506, 'transform': 1507, 'cgi': 1508, 'hunter': 1509, 'invent': 1510, 'johnni': 1511, 'piti': 1512, 'x': 1513, 'sentiment': 1514, 'onto': 1515, 'explan': 1516, 'attitud': 1517, 'process': 1518, 'owner': 1519, 'awar': 1520, 'aim': 1521, 'necessari': 1522, 'target': 1523, 'energi': 1524, 'favor': 1525, 'floor': 1526, 'opposit': 1527, 'religi': 1528, 'insight': 1529, 'chick': 1530, 'blind': 1531, 'window': 1532, 'movement': 1533, 'comparison': 1534, 'mountain': 1535, 'research': 1536, 'possess': 1537, 'deepli': 1538, 'rain': 1539, 'grand': 1540, 'comed': 1541, 'whatsoev': 1542, 'began': 1543, 'mid': 1544, 'shadow': 1545, 'bank': 1546, 'princ': 1547, 'parodi': 1548, 'pre': 1549, 'taylor': 1550, 'weapon': 1551, 'friendship': 1552, 'credibl': 1553, 'teach': 1554, 'dougla': 1555, 'flesh': 1556, 'protect': 1557, 'bloodi': 1558, 'terror': 1559, 'hint': 1560, 'marvel': 1561, 'accord': 1562, 'watchabl': 1563, 'leader': 1564, 'drunk': 1565, 'anybodi': 1566, 'load': 1567, 'superman': 1568, 'brown': 1569, 'freddi': 1570, 'appropri': 1571, 'tim': 1572, 'jeff': 1573, 'hitler': 1574, 'seat': 1575, 'unknown': 1576, 'keaton': 1577, 'charg': 1578, 'knock': 1579, 'villag': 1580, 'empti': 1581, 'england': 1582, 'media': 1583, 'unnecessari': 1584, 'enemi': 1585, 'perspect': 1586, 'buck': 1587, 'wave': 1588, 'strength': 1589, 'utter': 1590, 'craft': 1591, 'dare': 1592, 'contrast': 1593, 'kiss': 1594, 'correct': 1595, 'nativ': 1596, 'ford': 1597, 'magnific': 1598, 'distract': 1599, 'speed': 1600, 'chill': 1601, 'nazi': 1602, 'knowledg': 1603, 'anywher': 1604, 'soap': 1605, 'ice': 1606, 'breath': 1607, '1980': 1608, 'fred': 1609, 'mission': 1610, 'joan': 1611, 'jr': 1612, 'crowd': 1613, 'moon': 1614, 'soft': 1615, '000': 1616, 'kate': 1617, 'frighten': 1618, 'dick': 1619, 'nick': 1620, 'hundr': 1621, 'dan': 1622, 'dozen': 1623, 'radio': 1624, 'simon': 1625, 'somebodi': 1626, 'academi': 1627, 'shakespear': 1628, 'loss': 1629, 'andrew': 1630, 'thousand': 1631, 'account': 1632, 'quot': 1633, 'vehicl': 1634, 'sum': 1635, 'root': 1636, '1970': 1637, 'behavior': 1638, 'convent': 1639, 'leg': 1640, 'gold': 1641, 'regular': 1642, 'worker': 1643, 'pretenti': 1644, 'compet': 1645, 'demand': 1646, 'japan': 1647, 'stretch': 1648, 'interpret': 1649, 'candi': 1650, 'notabl': 1651, 'lynch': 1652, 'privat': 1653, 'explos': 1654, 'debut': 1655, 'tarzan': 1656, 'constant': 1657, 'sea': 1658, 'spi': 1659, 'revolv': 1660, 'prais': 1661, 'translat': 1662, 'technolog': 1663, 'sat': 1664, 'failur': 1665, 'quiet': 1666, 'ass': 1667, 'franc': 1668, 'jesu': 1669, 'threaten': 1670, 'met': 1671, 'kevin': 1672, 'aid': 1673, 'punch': 1674, 'higher': 1675, 'toy': 1676, 'mike': 1677, 'vh': 1678, 'interact': 1679, 'abandon': 1680, 'confront': 1681, 'separ': 1682, 'command': 1683, 'bet': 1684, 'recal': 1685, 'site': 1686, 'gotten': 1687, 'techniqu': 1688, 'belong': 1689, 'servic': 1690, 'stunt': 1691, 'freak': 1692, 'foot': 1693, 'cabl': 1694, 'bug': 1695, 'jimmi': 1696, 'capabl': 1697, 'bright': 1698, 'african': 1699, 'fu': 1700, 'presid': 1701, 'boat': 1702, 'succeed': 1703, 'stock': 1704, 'fat': 1705, 'clark': 1706, 'gene': 1707, 'structur': 1708, 'spanish': 1709, 'paper': 1710, 'kidnap': 1711, 'whilst': 1712, 'belief': 1713, 'factor': 1714, 'realis': 1715, 'bob': 1716, 'realism': 1717, 'tree': 1718, 'educ': 1719, 'witti': 1720, 'complic': 1721, 'attend': 1722, 'broken': 1723, 'finest': 1724, 'assist': 1725, 'santa': 1726, 'v': 1727, 'determin': 1728, 'up': 1729, 'smoke': 1730, 'observ': 1731, 'depart': 1732, 'hat': 1733, 'domin': 1734, 'oper': 1735, 'fame': 1736, 'lewi': 1737, 'rubbish': 1738, 'routin': 1739, 'hook': 1740, 'lone': 1741, 'foreign': 1742, 'kinda': 1743, 'safe': 1744, 'morgan': 1745, 'advanc': 1746, 'rank': 1747, 'numer': 1748, 'shallow': 1749, 'washington': 1750, 'vs': 1751, 'civil': 1752, 'werewolf': 1753, 'rose': 1754, 'shape': 1755, 'morn': 1756, 'gari': 1757, 'accomplish': 1758, 'ordinari': 1759, 'winner': 1760, 'kong': 1761, 'virtual': 1762, 'grab': 1763, 'whenev': 1764, 'peac': 1765, 'offens': 1766, 'luck': 1767, 'h': 1768, 'welcom': 1769, 'complain': 1770, 'contriv': 1771, 'bigger': 1772, 'unfunni': 1773, 'activ': 1774, 'patient': 1775, 'con': 1776, 'pretend': 1777, 'trek': 1778, 'dimension': 1779, 'code': 1780, 'flash': 1781, 'dri': 1782, 'lesbian': 1783, 'eric': 1784, 'cain': 1785, 'wake': 1786, 'albert': 1787, 'manipul': 1788, 'dancer': 1789, 'guard': 1790, 'corrupt': 1791, 'statu': 1792, 'awkward': 1793, 'gain': 1794, 'signific': 1795, 'context': 1796, 'speech': 1797, 'sourc': 1798, 'anthoni': 1799, 'clip': 1800, 'corni': 1801, 'psycho': 1802, 'sean': 1803, '13': 1804, 'curiou': 1805, 'w': 1806, 'advic': 1807, 'priest': 1808, 'theatric': 1809, 'reli': 1810, 'religion': 1811, 'flow': 1812, 'addict': 1813, 'secur': 1814, 'asian': 1815, 'skin': 1816, 'howard': 1817, 'jennif': 1818, 'specif': 1819, 'organ': 1820, 'golden': 1821, 'promot': 1822, 'core': 1823, 'comfort': 1824, 'luke': 1825, 'lucki': 1826, 'cheat': 1827, 'cash': 1828, 'dislik': 1829, 'associ': 1830, 'lower': 1831, 'contribut': 1832, 'degre': 1833, 'regret': 1834, 'devic': 1835, 'balanc': 1836, 'spell': 1837, 'wing': 1838, 'frankli': 1839, 'frequent': 1840, 'lake': 1841, 'print': 1842, 'forgiv': 1843, 'sake': 1844, 'thoma': 1845, 'mass': 1846, 'betti': 1847, 'gordon': 1848, 'crack': 1849, 'unexpect': 1850, 'invit': 1851, 'grown': 1852, 'amateur': 1853, 'construct': 1854, 'depend': 1855, 'unfold': 1856, 'categori': 1857, 'anna': 1858, 'honor': 1859, 'walter': 1860, 'intellectu': 1861, 'grew': 1862, 'matur': 1863, 'condit': 1864, 'veteran': 1865, 'sudden': 1866, 'sole': 1867, 'spectacular': 1868, 'mirror': 1869, 'liner': 1870, 'gift': 1871, 'robin': 1872, 'demonstr': 1873, 'grip': 1874, 'freedom': 1875, 'experienc': 1876, 'meanwhil': 1877, 'overli': 1878, 'card': 1879, 'brilliantli': 1880, 'drew': 1881, 'unabl': 1882, 'oliv': 1883, 'theori': 1884, 'circumst': 1885, 'subtitl': 1886, 'colour': 1887, 'crappi': 1888, 'section': 1889, 'sheriff': 1890, 'parker': 1891, 'cook': 1892, 'sheer': 1893, 'altern': 1894, 'matt': 1895, 'pile': 1896, 'laughter': 1897, 'path': 1898, 'wander': 1899, 'treatment': 1900, 'relief': 1901, 'lawyer': 1902, 'sinatra': 1903, 'defin': 1904, 'accident': 1905, 'hall': 1906, 'hank': 1907, 'dragon': 1908, 'captiv': 1909, 'moor': 1910, 'halloween': 1911, 'gratuit': 1912, 'k': 1913, 'wayn': 1914, 'jacki': 1915, 'broadway': 1916, 'wound': 1917, 'barbara': 1918, 'cowboy': 1919, 'unintent': 1920, 'kung': 1921, 'statement': 1922, 'winter': 1923, 'spoof': 1924, 'surreal': 1925, 'canadian': 1926, 'gonna': 1927, 'fish': 1928, 'compos': 1929, 'fare': 1930, 'cheer': 1931, 'treasur': 1932, 'unrealist': 1933, 'victor': 1934, 'emerg': 1935, 'sensit': 1936, 'woodi': 1937, 'ran': 1938, 'sympathet': 1939, 'neighbor': 1940, 'driven': 1941, 'topic': 1942, 'menac': 1943, 'authent': 1944, 'glass': 1945, 'expos': 1946, 'overlook': 1947, 'michel': 1948, 'chief': 1949, 'ancient': 1950, 'gross': 1951, 'handsom': 1952, 'contemporari': 1953, 'feet': 1954, 'built': 1955, 'russel': 1956, 'nevertheless': 1957, 'comedian': 1958, 'network': 1959, 'stranger': 1960, 'pleasant': 1961, 'cinderella': 1962, 'consider': 1963, 'miser': 1964, 'blockbust': 1965, 'endless': 1966, 'gori': 1967, 'underr': 1968, 'letter': 1969, 'earn': 1970, 'solv': 1971, 'switch': 1972, 'brook': 1973, 'victoria': 1974, 'virgin': 1975, 'edward': 1976, 'convict': 1977, 'bullet': 1978, 'joseph': 1979, 'chosen': 1980, 'scenario': 1981, 'alex': 1982, '0': 1983, 'cynic': 1984, 'scale': 1985, 'com': 1986, 'sword': 1987, 'gut': 1988, 'outrag': 1989, 'curs': 1990, 'screenwrit': 1991, 'monkey': 1992, 'substanc': 1993, 'wrap': 1994, 'proper': 1995, 'uk': 1996, 'driver': 1997, 'juli': 1998, 'remov': 1999, 'indic': 2000, 'par': 2001, 'bird': 2002, 'court': 2003, 'naiv': 2004, 'rental': 2005, 'loser': 2006, 'consequ': 2007, 'advertis': 2008, 'nanci': 2009, 'inevit': 2010, 'roy': 2011, 'grave': 2012, 'fatal': 2013, 'slap': 2014, 'germani': 2015, 'bridg': 2016, 'le': 2017, 'brave': 2018, 'invis': 2019, 'provok': 2020, 'ador': 2021, 'footbal': 2022, 'anger': 2023, 'loui': 2024, 'alcohol': 2025, 'anderson': 2026, 'chan': 2027, 'stumbl': 2028, 'willi': 2029, 'ryan': 2030, 'professor': 2031, 'sharp': 2032, 'assassin': 2033, 'australian': 2034, 'bat': 2035, 'patrick': 2036, '1930': 2037, 'trilog': 2038, 'eight': 2039, 'amateurish': 2040, 'refresh': 2041, 'lousi': 2042, 'liber': 2043, 'heck': 2044, 'deni': 2045, 'cell': 2046, 'ape': 2047, 'saturday': 2048, 'strongli': 2049, 'sin': 2050, 'san': 2051, 'vagu': 2052, 'resid': 2053, 'justifi': 2054, 'defeat': 2055, 'reput': 2056, 'sympathi': 2057, 'creator': 2058, 'indi': 2059, 'terrifi': 2060, 'mini': 2061, 'tabl': 2062, 'tediou': 2063, 'endur': 2064, 'prevent': 2065, 'task': 2066, 'expert': 2067, 'offend': 2068, 'basebal': 2069, 'trial': 2070, 'employ': 2071, 'imit': 2072, 'rival': 2073, 'che': 2074, 'dig': 2075, 'weekend': 2076, 'complaint': 2077, 'fairi': 2078, 'pitch': 2079, 'europ': 2080, 'max': 2081, 'beach': 2082, 'murphi': 2083, 'purchas': 2084, 'risk': 2085, 'format': 2086, 'powel': 2087, 'hype': 2088, 'nois': 2089, 'tini': 2090, 'reminisc': 2091, 'harsh': 2092, 'bite': 2093, 'glimps': 2094, 'titan': 2095, 'prime': 2096, 'fals': 2097, 'asleep': 2098, 'till': 2099, 'north': 2100, '14': 2101, 'strip': 2102, 'texa': 2103, 'africa': 2104, 'destruct': 2105, 'revel': 2106, 'descript': 2107, 'semi': 2108, 'spin': 2109, 'uninterest': 2110, 'sitcom': 2111, 'excess': 2112, 'arrest': 2113, 'inner': 2114, 'surfac': 2115, 'maintain': 2116, 'hitchcock': 2117, 'argu': 2118, 'massiv': 2119, 'controversi': 2120, 'makeup': 2121, 'twin': 2122, 'dinosaur': 2123, 'stare': 2124, 'expens': 2125, 'ludicr': 2126, 'insist': 2127, 'ideal': 2128, 'melodrama': 2129, 'kim': 2130, 'reject': 2131, 'press': 2132, 'subplot': 2133, 'supernatur': 2134, 'erot': 2135, 'ga': 2136, 'host': 2137, 'atroci': 2138, 'ala': 2139, 'nail': 2140, 'columbo': 2141, 'forest': 2142, 'identifi': 2143, 'cant': 2144, 'dude': 2145, 'presum': 2146, 'notch': 2147, 'forgett': 2148, 'character': 2149, 'method': 2150, 'plagu': 2151, 'closer': 2152, 'crude': 2153, 'guest': 2154, 'princess': 2155, 'ear': 2156, 'landscap': 2157, 'beast': 2158, 'lion': 2159, 'border': 2160, 'foster': 2161, 'storytel': 2162, 'previous': 2163, 'aunt': 2164, 'damag': 2165, 'pacino': 2166, 'jungl': 2167, 'accus': 2168, 'birth': 2169, 'urban': 2170, 'bound': 2171, 'thirti': 2172, 'guid': 2173, 'doll': 2174, 'chose': 2175, 'nude': 2176, 'propaganda': 2177, 'jess': 2178, 'emma': 2179, '25': 2180, 'mate': 2181, 'warrior': 2182, 'whoever': 2183, 'pet': 2184, 'mainstream': 2185, 'cooper': 2186, 'exact': 2187, 'size': 2188, 'deadli': 2189, 'friday': 2190, 'gritti': 2191, 'latest': 2192, 'merit': 2193, 'poster': 2194, 'upset': 2195, 'buff': 2196, 'contact': 2197, 'warner': 2198, 'citizen': 2199, 'settl': 2200, 'contest': 2201, 'rough': 2202, 'sun': 2203, 'corps': 2204, '1990': 2205, 'wilson': 2206, 'ton': 2207, 'popul': 2208, 'blend': 2209, 'environ': 2210, 'select': 2211, 'mgm': 2212, 'overcom': 2213, 'pitt': 2214, 'rat': 2215, 'metal': 2216, 'widow': 2217, 'alic': 2218, 'bu': 2219, 'link': 2220, 'guilti': 2221, 'revolut': 2222, 'lift': 2223, 'particip': 2224, 'ted': 2225, 'afternoon': 2226, '1960': 2227, 'johnson': 2228, 'corpor': 2229, 'prostitut': 2230, 'moron': 2231, 'corner': 2232, 'matrix': 2233, 'accompani': 2234, 'exagger': 2235, 'clair': 2236, 'instal': 2237, 'sincer': 2238, 'holm': 2239, 'doom': 2240, 'hood': 2241, 'leagu': 2242, 'friendli': 2243, 'multipl': 2244, 'irish': 2245, 'blah': 2246, 'advis': 2247, 'campi': 2248, 'junk': 2249, 'sunday': 2250, 'grim': 2251, 'examin': 2252, 'defend': 2253, 'aka': 2254, 'string': 2255, 'lugosi': 2256, 'hip': 2257, 'icon': 2258, 'shake': 2259, 'varieti': 2260, 'shut': 2261, 'pro': 2262, 'confid': 2263, 'tight': 2264, 'rachel': 2265, 'sullivan': 2266, 'goal': 2267, 'attach': 2268, 'medic': 2269, 'jaw': 2270, 'mexican': 2271, 'denni': 2272, 'directli': 2273, 'breast': 2274, 'duke': 2275, 'prior': 2276, 'legendari': 2277, 'courag': 2278, 'terrorist': 2279, 'sarah': 2280, 'vietnam': 2281, 'sentenc': 2282, 'truck': 2283, 'dean': 2284, 'bourn': 2285, 'hong': 2286, 'split': 2287, 'yell': 2288, 'donald': 2289, 'un': 2290, 'behav': 2291, 'proceed': 2292, 'entri': 2293, 'nose': 2294, 'crush': 2295, 'borrow': 2296, 'everywher': 2297, 'gather': 2298, 'buri': 2299, 'concentr': 2300, 'swim': 2301, 'lifetim': 2302, 'confess': 2303, 'jerk': 2304, 'stolen': 2305, 'forth': 2306, 'unconvinc': 2307, 'lip': 2308, 'deliveri': 2309, 'pan': 2310, 'julia': 2311, 'california': 2312, 'turkey': 2313, 'spite': 2314, 'proud': 2315, 'offici': 2316, 'freeman': 2317, 'downright': 2318, 'flight': 2319, 'quest': 2320, 'china': 2321, 'hoffman': 2322, 'reward': 2323, 'worthwhil': 2324, 'notori': 2325, 'betray': 2326, 'fabul': 2327, 'sink': 2328, 'sir': 2329, 'inept': 2330, 'encourag': 2331, 'jail': 2332, 'jon': 2333, 'lazi': 2334, 'fade': 2335, 'storm': 2336, 'cousin': 2337, 'susan': 2338, 'bag': 2339, 'bell': 2340, 'relev': 2341, 'branagh': 2342, 'shower': 2343, 'survivor': 2344, 'teeth': 2345, 'imageri': 2346, 'lisa': 2347, 'retard': 2348, 'toler': 2349, 'facial': 2350, 'stab': 2351, 'bride': 2352, 'quirki': 2353, 'alright': 2354, 'shark': 2355, 'trade': 2356, 'mexico': 2357, 'tremend': 2358, 'summari': 2359, 'hugh': 2360, 'finger': 2361, 'von': 2362, 'pose': 2363, 'bitter': 2364, 'blown': 2365, 'hyster': 2366, 'ha': 2367, 'scheme': 2368, 'afterward': 2369, 'ron': 2370, 'cruel': 2371, 'address': 2372, 'larri': 2373, 'bone': 2374, 'christ': 2375, 'ned': 2376, 'feed': 2377, 'beg': 2378, 'traci': 2379, 'distinct': 2380, 'swear': 2381, 'thumb': 2382, 'tour': 2383, 'pursu': 2384, 'screw': 2385, 'snake': 2386, 'stomach': 2387, 'occas': 2388, 'photo': 2389, 'mechan': 2390, 'chair': 2391, 'obscur': 2392, 'raw': 2393, 'holiday': 2394, 'hardi': 2395, 'necessarili': 2396, 'render': 2397, 'southern': 2398, 'resist': 2399, 'argument': 2400, 'chain': 2401, 'heavili': 2402, 'cabin': 2403, 'sidney': 2404, 'gruesom': 2405, 'racist': 2406, 'satan': 2407, 'indulg': 2408, 'philip': 2409, 'understood': 2410, 'india': 2411, 'fourth': 2412, 'tongu': 2413, 'midnight': 2414, 'lay': 2415, 'integr': 2416, 'obnoxi': 2417, 'stalk': 2418, 'belov': 2419, 'outfit': 2420, 'forgot': 2421, 'pregnant': 2422, '17': 2423, 'garden': 2424, 'magazin': 2425, 'restor': 2426, 'carol': 2427, 'slapstick': 2428, 'ticket': 2429, 'inhabit': 2430, 'deeper': 2431, 'shoe': 2432, 'lincoln': 2433, 'brad': 2434, 'incid': 2435, 'devot': 2436, 'guarante': 2437, 'disbelief': 2438, 'maria': 2439, 'benefit': 2440, 'divorc': 2441, 'anticip': 2442, 'sandler': 2443, 'underground': 2444, 'lili': 2445, 'elizabeth': 2446, 'amazingli': 2447, 'mildli': 2448, 'slave': 2449, 'creation': 2450, 'bbc': 2451, 'explod': 2452, 'greater': 2453, 'capit': 2454, 'princip': 2455, 'cring': 2456, 'halfway': 2457, 'extraordinari': 2458, 'funnier': 2459, 'introduct': 2460, 'lesli': 2461, 'tap': 2462, 'text': 2463, 'enhanc': 2464, 'advantag': 2465, 'extent': 2466, 'transfer': 2467, 'wreck': 2468, 'overwhelm': 2469, 'punish': 2470, 'lo': 2471, 'deliber': 2472, 'east': 2473, 'horrif': 2474, 'plant': 2475, 'error': 2476, 'jessica': 2477, 'lane': 2478, 'dynam': 2479, 'preview': 2480, 'vincent': 2481, 'miscast': 2482, 'miller': 2483, 'appli': 2484, 'homosexu': 2485, 'sophist': 2486, 'vacat': 2487, 'ensu': 2488, '2000': 2489, 'basi': 2490, 'mansion': 2491, 'reed': 2492, 'measur': 2493, 'elev': 2494, 'bollywood': 2495, 'via': 2496, 'uncomfort': 2497, 'sleazi': 2498, 'steel': 2499, 'spoken': 2500, 'extend': 2501, 'alter': 2502, 'cathol': 2503, 'savag': 2504, 'overact': 2505, 'mous': 2506, 'stanley': 2507, 'assign': 2508, 'daili': 2509, 'melt': 2510, 'breathtak': 2511, 'blair': 2512, 'conceiv': 2513, 'fix': 2514, 'hippi': 2515, 'dentist': 2516, 'goofi': 2517, 'beer': 2518, 'everyday': 2519, 'oppos': 2520, 'nowaday': 2521, 'properli': 2522, 'sacrific': 2523, 'subsequ': 2524, 'burt': 2525, 'succe': 2526, 'inspector': 2527, 'carpent': 2528, 'block': 2529, 'neck': 2530, 'massacr': 2531, 'circl': 2532, 'laura': 2533, 'concert': 2534, 'grey': 2535, 'lesser': 2536, 'mob': 2537, 'access': 2538, 'christi': 2539, 'portrait': 2540, 'fallen': 2541, 'pool': 2542, 'seagal': 2543, 'fay': 2544, 'competit': 2545, 'jewish': 2546, 'sinist': 2547, 'isol': 2548, 'jake': 2549, 'react': 2550, 'relax': 2551, 'usa': 2552, 'chees': 2553, 'lyric': 2554, 'nonetheless': 2555, 'immens': 2556, '2006': 2557, 'creep': 2558, 'suitabl': 2559, 'chop': 2560, 'ironi': 2561, 'stink': 2562, 'appal': 2563, 'nine': 2564, 'spiritu': 2565, 'sold': 2566, 'retir': 2567, 'nut': 2568, 'adopt': 2569, 'showcas': 2570, 'shirt': 2571, 'spring': 2572, 'needless': 2573, 'navi': 2574, 'reduc': 2575, 'luci': 2576, 'franchis': 2577, 'user': 2578, 'rage': 2579, 'stanwyck': 2580, 'per': 2581, 'asham': 2582, 'digit': 2583, 'jay': 2584, 'bath': 2585, 'uninspir': 2586, 'bulli': 2587, 'zone': 2588, 'nurs': 2589, 'amongst': 2590, 'broadcast': 2591, 'upper': 2592, 'laid': 2593, '2001': 2594, 'oddli': 2595, 'illustr': 2596, '1940': 2597, 'sutherland': 2598, 'fulfil': 2599, 'throat': 2600, 'aspir': 2601, 'baker': 2602, 'stylish': 2603, 'brando': 2604, 'disguis': 2605, 'em': 2606, 'neighborhood': 2607, 'impli': 2608, 'wwii': 2609, 'pride': 2610, 'endear': 2611, '18': 2612, 'wanna': 2613, 'pound': 2614, 'nobl': 2615, 'thief': 2616, 'dinner': 2617, 'prop': 2618, 'dawn': 2619, 'coher': 2620, 'bo': 2621, 'shoulder': 2622, 'distribut': 2623, 'tens': 2624, 'bett': 2625, 'cinematograph': 2626, 'rochest': 2627, '16': 2628, 'shift': 2629, 'albeit': 2630, 'diseas': 2631, 'silenc': 2632, 'knife': 2633, 'contract': 2634, 'forti': 2635, 'shout': 2636, 'matthau': 2637, 'wash': 2638, 'surf': 2639, 'function': 2640, 'poignant': 2641, 'snow': 2642, 'rebel': 2643, 'instinct': 2644, 'heat': 2645, 'mindless': 2646, 'horrend': 2647, 'elvira': 2648, 'henc': 2649, 'derek': 2650, 'widmark': 2651, 'duti': 2652, 'chuck': 2653, 'height': 2654, 'silver': 2655, 'internet': 2656, 'eeri': 2657, 'cancel': 2658, 'cannib': 2659, 'reunion': 2660, 'proof': 2661, 'glori': 2662, 'incoher': 2663, 'neat': 2664, 'premier': 2665, 'mill': 2666, 'musician': 2667, 'innov': 2668, 'alik': 2669, 'repetit': 2670, 'greatli': 2671, 'torn': 2672, 'etern': 2673, 'pie': 2674, 'spielberg': 2675, 'absorb': 2676, 'elvi': 2677, 'precis': 2678, 'nelson': 2679, 'crisi': 2680, 'britain': 2681, 'burton': 2682, 'racism': 2683, 'fbi': 2684, 'blank': 2685, 'bang': 2686, 'infam': 2687, 'diamond': 2688, 'itali': 2689, 'horrifi': 2690, 'homag': 2691, 'wealthi': 2692, 'redempt': 2693, 'trite': 2694, 'lovabl': 2695, 'announc': 2696, 'pat': 2697, 'hammer': 2698, 'happili': 2699, 'flop': 2700, 'ensembl': 2701, 'wilder': 2702, 'parallel': 2703, 'chaplin': 2704, 'helen': 2705, 'dedic': 2706, 'streisand': 2707, 'resolut': 2708, 'triumph': 2709, 'conclud': 2710, 'oil': 2711, 'disagre': 2712, 'carter': 2713, 'broke': 2714, 'factori': 2715, 'mar': 2716, 'cube': 2717, 'plastic': 2718, 'st': 2719, 'row': 2720, 'own': 2721, 'chuckl': 2722, 'fighter': 2723, 'rocket': 2724, 'bush': 2725, 'weight': 2726, 'climb': 2727, 'vega': 2728, 'march': 2729, 'lust': 2730, 'thug': 2731, 'dane': 2732, 'wherea': 2733, 'unforgett': 2734, 'boot': 2735, 'sensibl': 2736, 'spare': 2737, 'dump': 2738, 'mst3k': 2739, 'luca': 2740, 'enorm': 2741, 'meaning': 2742, 'kurt': 2743, 'rap': 2744, 'adequ': 2745, 'stress': 2746, 'arnold': 2747, 'caricatur': 2748, 'engin': 2749, 'fifti': 2750, 'threat': 2751, 'dear': 2752, 'brand': 2753, 'butt': 2754, 'difficulti': 2755, 'bobbi': 2756, 'karloff': 2757, 'secretari': 2758, 'elabor': 2759, 'polish': 2760, 'journalist': 2761, 'ralph': 2762, 'swing': 2763, 'hamlet': 2764, 'homeless': 2765, 'barri': 2766, 'flynn': 2767, 'ego': 2768, 'arrog': 2769, 'fest': 2770, 'puppet': 2771, 'spike': 2772, 'arrang': 2773, 'induc': 2774, 'tool': 2775, 'float': 2776, 'unbear': 2777, 'resort': 2778, 'conspiraci': 2779, 'simpson': 2780, 'grate': 2781, 'fanci': 2782, 'choreograph': 2783, 'phillip': 2784, 'cruis': 2785, 'basement': 2786, 'pig': 2787, 'guilt': 2788, 'tribut': 2789, 'exercis': 2790, 'boll': 2791, 'muppet': 2792, 'layer': 2793, 'babe': 2794, 'item': 2795, 'editor': 2796, 'ham': 2797, '24': 2798, 'puzzl': 2799, 'toilet': 2800, 'medium': 2801, 'tower': 2802, 'slip': 2803, 'korean': 2804, 'stan': 2805, 'document': 2806, 'ward': 2807, 'file': 2808, 'fianc': 2809, 'scarecrow': 2810, 'orient': 2811, 'transit': 2812, 'superfici': 2813, 'territori': 2814, 'larger': 2815, 'glover': 2816, 'spark': 2817, 'denzel': 2818, 'inexplic': 2819, 'slaughter': 2820, 'portion': 2821, 'librari': 2822, 'philosoph': 2823, 'persona': 2824, 'assur': 2825, 'minim': 2826, 'catherin': 2827, 'doc': 2828, 'walken': 2829, 'financi': 2830, 'owe': 2831, 'shi': 2832, 'wolf': 2833, 'jet': 2834, 'dorothi': 2835, 'curti': 2836, 'ban': 2837, 'sneak': 2838, 'boredom': 2839, 'jeremi': 2840, 'pg': 2841, 'metaphor': 2842, 'backdrop': 2843, 'profound': 2844, 'eleph': 2845, 'multi': 2846, 'whale': 2847, 'ambigu': 2848, 'cusack': 2849, 'hudson': 2850, 'ultra': 2851, 'birthday': 2852, 'stiff': 2853, 'notion': 2854, 'hack': 2855, 'gadget': 2856, 'elsewher': 2857, 'union': 2858, 'viru': 2859, 'rave': 2860, 'implaus': 2861, '2005': 2862, 'eva': 2863, 'squar': 2864, 'bibl': 2865, 'poison': 2866, 'reader': 2867, 'urg': 2868, 'eastwood': 2869, 'slight': 2870, 'deriv': 2871, 'disc': 2872, 'afford': 2873, 'canada': 2874, 'hawk': 2875, '1st': 2876, 'newspap': 2877, 'superhero': 2878, 'distanc': 2879, 'pad': 2880, 'lloyd': 2881, 'skit': 2882, 'button': 2883, 'cure': 2884, 'huh': 2885, 'restaur': 2886, 'drown': 2887, 'charisma': 2888, 'essenc': 2889, 'sadist': 2890, 'spread': 2891, 'montag': 2892, 'heston': 2893, 'health': 2894, 'companion': 2895, 'invest': 2896, 'fetch': 2897, 'gradual': 2898, 'maniac': 2899, 'godfath': 2900, 'peak': 2901, 'estat': 2902, 'muslim': 2903, 'dealt': 2904, 'lab': 2905, 'scoobi': 2906, 'servant': 2907, 'kane': 2908, 'countless': 2909, 'subtleti': 2910, 'alli': 2911, 'ritter': 2912, 'gothic': 2913, 'tea': 2914, 'cup': 2915, 'miik': 2916, 'elect': 2917, 'heroic': 2918, 'charismat': 2919, 'briefli': 2920, 'salli': 2921, 'iii': 2922, 'electr': 2923, 'grandmoth': 2924, 'toss': 2925, 'neil': 2926, 'resourc': 2927, 'ingredi': 2928, 'admittedli': 2929, 'bud': 2930, 'reel': 2931, 'wannab': 2932, 'nuanc': 2933, 'cole': 2934, 'tender': 2935, 'label': 2936, 'shall': 2937, 'punk': 2938, 'stronger': 2939, 'kubrick': 2940, 'mafia': 2941, 'reev': 2942, 'pauli': 2943, 'pit': 2944, 'poverti': 2945, 'carrey': 2946, 'gate': 2947, 'dawson': 2948, 'mild': 2949, 'stood': 2950, 'terri': 2951, 'ian': 2952, 'cox': 2953, 'updat': 2954, 'useless': 2955, 'outcom': 2956, 'smooth': 2957, 'assault': 2958, 'fond': 2959, 'smash': 2960, 'bakshi': 2961, 'easier': 2962, 'burst': 2963, 'astair': 2964, 'cardboard': 2965, 'tag': 2966, 'fist': 2967, 'qualifi': 2968, 'rex': 2969, 'vulner': 2970, 'samurai': 2971, 'increasingli': 2972, 'vari': 2973, '2002': 2974, 'divers': 2975, 'melodramat': 2976, 'resolv': 2977, 'exchang': 2978, 'coincid': 2979, 'sketch': 2980, 'tame': 2981, 'luckili': 2982, 'insert': 2983, 'brillianc': 2984, 'conveni': 2985, 'templ': 2986, 'reynold': 2987, 'be': 2988, 'suspend': 2989, 'scratch': 2990, 'blast': 2991, 'ambiti': 2992, 'coach': 2993, 'meat': 2994, 'seventi': 2995, 'matthew': 2996, 'farm': 2997, 'strictli': 2998, 'nuclear': 2999, 'gotta': 3000, 'jami': 3001, 'hamilton': 3002, 'fisher': 3003, 'walker': 3004, 'soprano': 3005, 'pin': 3006, 'instantli': 3007, 'worthless': 3008, 'butcher': 3009, 'struck': 3010, 'cave': 3011, 'ninja': 3012, 'clock': 3013, 'kudo': 3014, 'grasp': 3015, 'spooki': 3016, 'eccentr': 3017, 'monk': 3018, 'empir': 3019, 'timeless': 3020, 'recreat': 3021, 'brosnan': 3022, 'closet': 3023, 'convolut': 3024, 'joey': 3025, 'revers': 3026, 'discoveri': 3027, 'bleak': 3028, 'eighti': 3029, 'selfish': 3030, 'seller': 3031, 'partli': 3032, 'miracl': 3033, 'clown': 3034, 'sloppi': 3035, 'norman': 3036, 'declar': 3037, 'wipe': 3038, 'fifteen': 3039, 'mitchel': 3040, 'importantli': 3041, 'communist': 3042, 'pal': 3043, 'sidekick': 3044, 'inconsist': 3045, 'gray': 3046, 'cliff': 3047, 'evok': 3048, 'australia': 3049, 'flawless': 3050, 'chew': 3051, 'lifestyl': 3052, 'debat': 3053, 'destin': 3054, 'aforement': 3055, 'stoog': 3056, 'cheek': 3057, 'farc': 3058, 'websit': 3059, 'enthusiast': 3060, '45': 3061, 'ho': 3062, 'superbl': 3063, 'psychiatrist': 3064, 'piano': 3065, 'seed': 3066, 'emili': 3067, 'akshay': 3068, 'dire': 3069, 'splatter': 3070, 'wick': 3071, 'kitchen': 3072, 'soviet': 3073, 'abc': 3074, 'pressur': 3075, 'bash': 3076, 'directori': 3077, 'wrestl': 3078, 'dash': 3079, 'slice': 3080, 'anni': 3081, 'incompet': 3082, 'drivel': 3083, 'regardless': 3084, 'suppli': 3085, 'cagney': 3086, 'artifici': 3087, 'jar': 3088, 'prize': 3089, 'curios': 3090, 'boil': 3091, 'pleasantli': 3092, 'blob': 3093, 'cia': 3094, 'chapter': 3095, 'recov': 3096, 'duo': 3097, 'glow': 3098, 'beaten': 3099, 'judi': 3100, 'helicopt': 3101, 'flower': 3102, 'seduc': 3103, 'cameron': 3104, 'dave': 3105, 'distant': 3106, 'mann': 3107, 'lou': 3108, 'ken': 3109, 'doo': 3110, 'increas': 3111, 'psychot': 3112, 'splendid': 3113, 'perri': 3114, 'francisco': 3115, 'goldberg': 3116, 'favour': 3117, 'drunken': 3118, 'turner': 3119, 'panic': 3120, 'ranger': 3121, 'laurel': 3122, 'combat': 3123, 'craig': 3124, 'eleg': 3125, 'craven': 3126, 'glenn': 3127, 'hop': 3128, 'web': 3129, 'ellen': 3130, 'fx': 3131, 'ruth': 3132, 'flip': 3133, 'gentl': 3134, 'rid': 3135, 'graduat': 3136, 'wizard': 3137, 'philosophi': 3138, 'shortli': 3139, 'plausibl': 3140, 'alexand': 3141, 'falk': 3142, '20th': 3143, 'slightest': 3144, 'min': 3145, 'hatr': 3146, 'greek': 3147, 'gandhi': 3148, 'modesti': 3149, 'legal': 3150, 'holi': 3151, 'knight': 3152, 'fund': 3153, 'harm': 3154, 'ocean': 3155, 'unpleas': 3156, 'manhattan': 3157, 'tall': 3158, 'dracula': 3159, 'jealou': 3160, 'lend': 3161, 'preciou': 3162, 'we': 3163, 'futurist': 3164, 'felix': 3165, 'ami': 3166, 'overdon': 3167, 'bless': 3168, 'explicit': 3169, 'digniti': 3170, 'nod': 3171, 'reviv': 3172, 'mock': 3173, 'tank': 3174, 'childish': 3175, 'thread': 3176, 'forbidden': 3177, 'scientif': 3178, 'giallo': 3179, 'verhoeven': 3180, 'elderli': 3181, 'unwatch': 3182, 'awaken': 3183, 'eve': 3184, 'pirat': 3185, 'thick': 3186, 'awe': 3187, 'broad': 3188, 'yesterday': 3189, '2004': 3190, 'mel': 3191, 'repeatedli': 3192, 'torment': 3193, '99': 3194, 'nerv': 3195, 'margaret': 3196, 'fever': 3197, 'ah': 3198, 'lean': 3199, 'stiller': 3200, 'automat': 3201, 'politician': 3202, 'ambit': 3203, 'rivet': 3204, 'roman': 3205, 'uniform': 3206, 'griffith': 3207, 'acclaim': 3208, 'custom': 3209, 'timothi': 3210, 'launch': 3211, 'publish': 3212, 'romero': 3213, 'kay': 3214, 'bin': 3215, 'eas': 3216, 'royal': 3217, 'absenc': 3218, 'gabriel': 3219, 'purpl': 3220, 'foul': 3221, 'termin': 3222, 'stinker': 3223, 'sunshin': 3224, 'wallac': 3225, 'warren': 3226, 'antic': 3227, 'pierc': 3228, 'bathroom': 3229, 'phrase': 3230, 'transport': 3231, 'crook': 3232, 'pulp': 3233, 'darker': 3234, 'tomato': 3235, 'homicid': 3236, 'contrari': 3237, 'horrid': 3238, 'choreographi': 3239, 'coloni': 3240, 'kenneth': 3241, 'awak': 3242, 'saint': 3243, 'sixti': 3244, 'ought': 3245, 'li': 3246, 'packag': 3247, 'viciou': 3248, 'eyr': 3249, 'prom': 3250, '2003': 3251, 'donna': 3252, 'revolutionari': 3253, 'marin': 3254, 'brazil': 3255, 'rambo': 3256, 'pray': 3257, 'evolv': 3258, 'karen': 3259, 'juvenil': 3260, 'album': 3261, 'q': 3262, 'hollow': 3263, 'ireland': 3264, 'ramon': 3265, 'nerd': 3266, 'dose': 3267, 'option': 3268, 'blade': 3269, 'overr': 3270, 'candid': 3271, 'stole': 3272, 'defi': 3273, 'mummi': 3274, 'twelv': 3275, 'boast': 3276, 'mildr': 3277, 'kapoor': 3278, 'conserv': 3279, 'beatti': 3280, 'confirm': 3281, 'natali': 3282, 'collabor': 3283, 'trio': 3284, 'detract': 3285, 'jazz': 3286, 'astonish': 3287, 'kirk': 3288, 'altman': 3289, 'protest': 3290, 'flame': 3291, 'fulci': 3292, 'global': 3293, 'funer': 3294, 'tommi': 3295, 'racial': 3296, 'whip': 3297, 'bull': 3298, 'nicholson': 3299, 'delici': 3300, 'blake': 3301, 'spit': 3302, 'bottl': 3303, 'mystic': 3304, 'destini': 3305, 'enterpris': 3306, 'yellow': 3307, 'leap': 3308, 'audio': 3309, 'shade': 3310, 'threw': 3311, 'bedroom': 3312, 'pseudo': 3313, 'fonda': 3314, 'inherit': 3315, 'neo': 3316, 'reunit': 3317, 'altogeth': 3318, 'visibl': 3319, 'vivid': 3320, 'adolesc': 3321, 'meaningless': 3322, 'popcorn': 3323, 'enchant': 3324, 'todd': 3325, 'merci': 3326, 'swedish': 3327, 'harder': 3328, 'staff': 3329, 'decor': 3330, 'suspici': 3331, 'roommat': 3332, 'edi': 3333, 'exhibit': 3334, 'lemmon': 3335, 'fanat': 3336, 'await': 3337, 'reserv': 3338, 'wire': 3339, 'kennedi': 3340, 'uneven': 3341, 'tip': 3342, 'madonna': 3343, 'moodi': 3344, 'lawrenc': 3345, 'respond': 3346, 'jew': 3347, 'ruthless': 3348, 'befriend': 3349, 'synopsi': 3350, 'atlanti': 3351, 'crocodil': 3352, 'bust': 3353, 'leonard': 3354, 'voight': 3355, 'audit': 3356, 'bold': 3357, 'unsettl': 3358, 'dimens': 3359, 'clint': 3360, 'carl': 3361, 'bargain': 3362, 'centr': 3363, 'palma': 3364, '2007': 3365, 'bradi': 3366, 'abysm': 3367, 'ventur': 3368, 'clumsi': 3369, 'chao': 3370, 'incident': 3371, 'garner': 3372, 'rural': 3373, 'voyag': 3374, 'holli': 3375, 'lit': 3376, 'elimin': 3377, 'ant': 3378, 'cuba': 3379, 'tiger': 3380, 'acknowledg': 3381, 'trail': 3382, 'echo': 3383, 'humili': 3384, '2nd': 3385, 'immigr': 3386, 'nearbi': 3387, 'hart': 3388, 'poetic': 3389, 'versu': 3390, 'cari': 3391, 'characterist': 3392, 'mall': 3393, 'imperson': 3394, 'wealth': 3395, 'neglect': 3396, 'timon': 3397, 'cd': 3398, 'troop': 3399, 'daddi': 3400, 'saga': 3401, 'prejudic': 3402, 'paus': 3403, 'domest': 3404, 'repuls': 3405, 'celluloid': 3406, 'infect': 3407, 'marshal': 3408, 'mickey': 3409, 'homer': 3410, 'jeffrey': 3411, 'mistaken': 3412, 'pun': 3413, 'collaps': 3414, 'solo': 3415, 'gear': 3416, '1996': 3417, 'milk': 3418, 'equip': 3419, 'cake': 3420, 'inappropri': 3421, 'olivi': 3422, 'inan': 3423, 'promin': 3424, 'ginger': 3425, 'coat': 3426, 'apolog': 3427, 'coffe': 3428, 'chest': 3429, 'sore': 3430, 'pant': 3431, 'undoubtedli': 3432, 'hbo': 3433, 'leon': 3434, 'assembl': 3435, 'tribe': 3436, 'harvey': 3437, 'interrupt': 3438, 'primari': 3439, 'instant': 3440, 'solut': 3441, 'pen': 3442, 'embrac': 3443, 'furthermor': 3444, 'devast': 3445, 'aveng': 3446, 'airplan': 3447, 'pot': 3448, 'vulgar': 3449, 'institut': 3450, 'consum': 3451, 'brooklyn': 3452, 'highest': 3453, 'florida': 3454, 'trace': 3455, 'exot': 3456, 'humbl': 3457, 'retain': 3458, 'colleagu': 3459, 'colonel': 3460, 'maggi': 3461, 'jenni': 3462, 'polanski': 3463, 'seduct': 3464, '1999': 3465, 'cope': 3466, 'principl': 3467, 'rick': 3468, 'outer': 3469, 'poke': 3470, 'gender': 3471, 'godzilla': 3472, 'strain': 3473, 'dian': 3474, 'linda': 3475, 'disabl': 3476, 'smaller': 3477, '3rd': 3478, 'dutch': 3479, 'illog': 3480, 'ya': 3481, 'bowl': 3482, 'sale': 3483, 'descend': 3484, 'wive': 3485, 'scope': 3486, 'dive': 3487, 'hal': 3488, 'blatant': 3489, 'primarili': 3490, 'rabbit': 3491, 'yard': 3492, 'devoid': 3493, 'mixtur': 3494, 'gloriou': 3495, 'inferior': 3496, 'glamor': 3497, 'dud': 3498, 'vast': 3499, 'lol': 3500, 'cue': 3501, 'beneath': 3502, 'bubbl': 3503, 'secondli': 3504, 'predecessor': 3505, 'gundam': 3506, 'hideou': 3507, 'alfr': 3508, 'casual': 3509, 'talki': 3510, 'garbo': 3511, 'shelf': 3512, 'countrysid': 3513, 'disjoint': 3514, 'breed': 3515, 'et': 3516, 'aggress': 3517, 'simplist': 3518, 'myer': 3519, 'senseless': 3520, 'z': 3521, 'pearl': 3522, 'museum': 3523, 'arab': 3524, 'shirley': 3525, 'alert': 3526, 'invas': 3527, 'streep': 3528, 'grinch': 3529, 'trademark': 3530, 'domino': 3531, 'april': 3532, 'vanish': 3533, 'mail': 3534, 'acid': 3535, 'loyal': 3536, 'stir': 3537, 'applaud': 3538, 'rendit': 3539, 'obtain': 3540, 'robinson': 3541, 'oz': 3542, 'slide': 3543, 'hopeless': 3544, 'disgrac': 3545, 'experiment': 3546, 'boom': 3547, 'stellar': 3548, 'unhappi': 3549, 'illeg': 3550, 'defens': 3551, 'maci': 3552, 'khan': 3553, 'mayor': 3554, 'hardcor': 3555, 'stack': 3556, 'robberi': 3557, 'sh': 3558, 'uwe': 3559, 'topless': 3560, 'blew': 3561, 'craze': 3562, 'dicken': 3563, 'wont': 3564, 'declin': 3565, 'counter': 3566, 'psychic': 3567, 'incomprehens': 3568, 'scroog': 3569, 'fri': 3570, 'tempt': 3571, 'span': 3572, 'recruit': 3573, 'rifl': 3574, 'dismiss': 3575, 'amanda': 3576, 'berlin': 3577, 'grandfath': 3578, 'emphasi': 3579, 'tenant': 3580, 'spider': 3581, 'diana': 3582, 'soccer': 3583, 'hartley': 3584, 'parad': 3585, 'faster': 3586, 'revolt': 3587, 'justin': 3588, 'wet': 3589, 'riot': 3590, 'resurrect': 3591, 'shed': 3592, 'trashi': 3593, 'bitch': 3594, 'sibl': 3595, 'ration': 3596, 'goer': 3597, 'intim': 3598, 'porno': 3599, 'ethnic': 3600, 'shaw': 3601, 'sympath': 3602, 'niro': 3603, 'lumet': 3604, 'woo': 3605, 'nephew': 3606, 'gap': 3607, 'choru': 3608, '00': 3609, 'biographi': 3610, 'rider': 3611, 'dealer': 3612, 'slick': 3613, 'feminist': 3614, 'wheel': 3615, 'weakest': 3616, 'commend': 3617, 'honesti': 3618, 'hesit': 3619, 'steam': 3620, 'immort': 3621, 'farmer': 3622, 'region': 3623, 'worm': 3624, 'partial': 3625, 'jonathan': 3626, 'eager': 3627, 'lena': 3628, 'ensur': 3629, 'andr': 3630, 'hopper': 3631, 'unreal': 3632, 'wendi': 3633, 'ballet': 3634, 'mario': 3635, 'patriot': 3636, 'enlighten': 3637, 'blunt': 3638, 'sandra': 3639, 'snap': 3640, 'vice': 3641, 'franco': 3642, 'sappi': 3643, 'charlott': 3644, 'util': 3645, 'similarli': 3646, 'confin': 3647, 'psychopath': 3648, 'kingdom': 3649, 'wore': 3650, 'repress': 3651, 'prequel': 3652, 'mutant': 3653, 'victori': 3654, 'leo': 3655, 'properti': 3656, 'owen': 3657, 'composit': 3658, 'nostalg': 3659, 'safeti': 3660, 'hung': 3661, 'skull': 3662, 'morri': 3663, 'macarthur': 3664, 'dust': 3665, 'snl': 3666, 'emperor': 3667, 'kyle': 3668, 'latin': 3669, 'valuabl': 3670, 'bumbl': 3671, 'bergman': 3672, 'heartbreak': 3673, 'cg': 3674, '1972': 3675, 'farrel': 3676, 'deed': 3677, 'compens': 3678, 'bow': 3679, 'tail': 3680, 'drum': 3681, 'speci': 3682, 'strand': 3683, 'hyde': 3684, 'dalton': 3685, 'campbel': 3686, 'nervou': 3687, 'thru': 3688, 'miseri': 3689, 'montana': 3690, 'whoopi': 3691, 'acquir': 3692, 'compass': 3693, 'rambl': 3694, 'tad': 3695, 'bonu': 3696, 'despair': 3697, 'pattern': 3698, 'recycl': 3699, 'rocki': 3700, 'repli': 3701, 'del': 3702, 'exit': 3703, 'drain': 3704, 'rope': 3705, 'percept': 3706, 'tonight': 3707, 'carradin': 3708, 'radic': 3709, 'airport': 3710, '35': 3711, 'bleed': 3712, 'mistress': 3713, 'oppress': 3714, 'romp': 3715, 'rapist': 3716, 'orson': 3717, 'da': 3718, 'downhil': 3719, 'rotten': 3720, 'pour': 3721, 'gimmick': 3722, 'contempl': 3723, 'martian': 3724, 'gal': 3725, 'roth': 3726, 'chess': 3727, 'olli': 3728, 'wacki': 3729, 'slug': 3730, 'champion': 3731, 'shelley': 3732, 'tackl': 3733, '1983': 3734, 'pervers': 3735, 'pervert': 3736, 'tooth': 3737, 'melodi': 3738, 'programm': 3739, 'dazzl': 3740, 'stilt': 3741, 'banal': 3742, 'attorney': 3743, 'unpredict': 3744, 'preach': 3745, 'edgar': 3746, 'taught': 3747, 'belt': 3748, 'paltrow': 3749, 'heal': 3750, 'arc': 3751, 'arguabl': 3752, 'mislead': 3753, 'pursuit': 3754, 'slash': 3755, 'rubi': 3756, 'raymond': 3757, 'maid': 3758, 'chicken': 3759, 'cleverli': 3760, 'passeng': 3761, 'mesmer': 3762, 'sensat': 3763, 'vocal': 3764, 'duval': 3765, 'marti': 3766, 'closest': 3767, 'graham': 3768, 'employe': 3769, 'poem': 3770, 'tiresom': 3771, 'bela': 3772, 'vengeanc': 3773, 'uplift': 3774, 'plight': 3775, 'dixon': 3776, 'gambl': 3777, 'orang': 3778, 'virginia': 3779, 'conneri': 3780, 'franki': 3781, 'amitabh': 3782, 'bay': 3783, 'tube': 3784, 'habit': 3785, 'crystal': 3786, 'whine': 3787, 'outing': 3788, 'pokemon': 3789, 'yawn': 3790, 'clone': 3791, 'profan': 3792, 'extens': 3793, 'lundgren': 3794, 'giggl': 3795, 'quarter': 3796, 'sirk': 3797, 'convincingli': 3798, 'monologu': 3799, 'secretli': 3800, 'suffic': 3801, 'iran': 3802, 'mute': 3803, 'inject': 3804, 'volum': 3805, 'scottish': 3806, 'swallow': 3807, 'engross': 3808, 'abraham': 3809, 'calm': 3810, 'climact': 3811, 'paranoia': 3812, '1968': 3813, 'gerard': 3814, 'numb': 3815, 'richardson': 3816, 'nichola': 3817, 'im': 3818, 'trend': 3819, 'underst': 3820, 'expand': 3821, 'earl': 3822, 'poetri': 3823, 'dispos': 3824, 'profess': 3825, 'fed': 3826, 'taxi': 3827, 'surpass': 3828, 'backward': 3829, 'septemb': 3830, 'meander': 3831, 'ethan': 3832, 'chicago': 3833, 'frankenstein': 3834, 'junior': 3835, 'grotesqu': 3836, 'austen': 3837, 'bend': 3838, 'plod': 3839, 'linger': 3840, 'abort': 3841, 'franci': 3842, 'spock': 3843, 'lowest': 3844, 'cannon': 3845, 'der': 3846, 'mundan': 3847, 'compliment': 3848, 'econom': 3849, 'simplic': 3850, 'waitress': 3851, 'rant': 3852, 'rubber': 3853, 'literatur': 3854, 'instrument': 3855, 'nostalgia': 3856, 'dysfunct': 3857, 'eugen': 3858, 'muddl': 3859, 'sue': 3860, 'catchi': 3861, 'tourist': 3862, 'descent': 3863, 'myth': 3864, 'stallon': 3865, 'household': 3866, 'lure': 3867, 'greedi': 3868, 'hum': 3869, 'spoke': 3870, 'deaf': 3871, 'alongsid': 3872, 'crucial': 3873, 'recognit': 3874, 'mankind': 3875, 'phoni': 3876, 'eaten': 3877, 'occupi': 3878, 'duck': 3879, 'molli': 3880, 'hello': 3881, 'lang': 3882, 'omen': 3883, 'equival': 3884, 'mortal': 3885, 'stale': 3886, 'firstli': 3887, 'damon': 3888, 'insur': 3889, 'june': 3890, 'irrelev': 3891, 'flee': 3892, 'dement': 3893, 'dictat': 3894, 'sissi': 3895, 'randi': 3896, 'louis': 3897, 'bacal': 3898, 'furi': 3899, 'coast': 3900, 'recognis': 3901, 'cent': 3902, 'phantom': 3903, 'carel': 3904, 'map': 3905, 'lengthi': 3906, 'bump': 3907, 'onlin': 3908, 'newli': 3909, 'drake': 3910, 'grayson': 3911, 'bike': 3912, 'loyalti': 3913, 'dreari': 3914, 'damm': 3915, 'rooney': 3916, 'twilight': 3917, 'labor': 3918, 'freez': 3919, 'wisdom': 3920, 'ashley': 3921, 'blackmail': 3922, '1973': 3923, 'heel': 3924, 'rude': 3925, 'reign': 3926, 'distinguish': 3927, 'likewis': 3928, 'daisi': 3929, 'buffalo': 3930, 'antwon': 3931, 'cyborg': 3932, 'biko': 3933, 'attribut': 3934, 'nineti': 3935, 'analysi': 3936, 'startl': 3937, 'chronicl': 3938, 'sailor': 3939, 'basketbal': 3940, 'proce': 3941, 'emphas': 3942, 'pink': 3943, 'butler': 3944, 'inher': 3945, 'tunnel': 3946, 'baddi': 3947, 'interior': 3948, 'vein': 3949, 'approv': 3950, 'prey': 3951, 'provoc': 3952, 'incorpor': 3953, 'keith': 3954, 'exposur': 3955, 'boxer': 3956, 'worn': 3957, 'unorigin': 3958, 'barrymor': 3959, 'ridden': 3960, 'drift': 3961, 'indiffer': 3962, 'fleet': 3963, 'mighti': 3964, 'millionair': 3965, 'improvis': 3966, 'barrel': 3967, 'bunni': 3968, 'degrad': 3969, 'meg': 3970, 'undeni': 3971, 'underli': 3972, 'er': 3973, 'condemn': 3974, 'predat': 3975, 'belushi': 3976, 'unrel': 3977, 'walsh': 3978, 'meyer': 3979, 'elm': 3980, 'julian': 3981, 'substitut': 3982, 'stalker': 3983, 'hypnot': 3984, 'simmon': 3985, 'robbin': 3986, 'mormon': 3987, 'nicol': 3988, 'othello': 3989, 'carla': 3990, 'enthusiasm': 3991, 'priceless': 3992, 'novak': 3993, 'alison': 3994, 'nyc': 3995, 'lampoon': 3996, 'warmth': 3997, 'exquisit': 3998, 'roof': 3999, 'palac': 4000, 'dolph': 4001, 'firm': 4002, 'vital': 4003, 'hay': 4004, 'shove': 4005, 'reid': 4006, 'agenda': 4007, 'greed': 4008, 'errol': 4009, 'marion': 4010, 'disord': 4011, 'unawar': 4012, 'alarm': 4013, '3d': 4014, 'edgi': 4015, 'mtv': 4016, 'watson': 4017, 'rukh': 4018, 'what': 4019, '1933': 4020, 'randomli': 4021, 'testament': 4022, 'peck': 4023, 'showdown': 4024, 'eastern': 4025, 'ponder': 4026, 'drip': 4027, 'pamela': 4028, 'campaign': 4029, 'petti': 4030, 'simultan': 4031, 'gestur': 4032, 'spain': 4033, 'distort': 4034, 'preserv': 4035, 'nun': 4036, 'angela': 4037, 'unleash': 4038, 'coup': 4039, 'orlean': 4040, 'peril': 4041, 'session': 4042, 'iraq': 4043, 'championship': 4044, 'profit': 4045, 'crown': 4046, 'beatl': 4047, 'glanc': 4048, 'sergeant': 4049, 'minimum': 4050, '13th': 4051, 'cassidi': 4052, 'thompson': 4053, 'zizek': 4054, 'valentin': 4055, 'israel': 4056, 'buster': 4057, 'cream': 4058, 'bro': 4059, 'perpetu': 4060, 'han': 4061, 'cooki': 4062, 'valley': 4063, 'jan': 4064, 'regist': 4065, 'fido': 4066, '1984': 4067, 'scotland': 4068, 'miyazaki': 4069, 'restrain': 4070, 'climat': 4071, 'crow': 4072, 'exposit': 4073, 'contradict': 4074, 'stroke': 4075, 'realm': 4076, 'quinn': 4077, 'stake': 4078, 'kurosawa': 4079, 'represent': 4080, 'gentleman': 4081, 'shootout': 4082, 'mon': 4083, 'rout': 4084, 'crawl': 4085, 'din': 4086, 'sabrina': 4087, 'calib': 4088, 'empathi': 4089, 'wig': 4090, 'reson': 4091, 'travesti': 4092, 'unimagin': 4093, 'brenda': 4094, 'femm': 4095, 'josh': 4096, 'tacki': 4097, 'mclaglen': 4098, 'traumat': 4099, 'geek': 4100, 'businessman': 4101, 'passabl': 4102, 'baldwin': 4103, 'shoddi': 4104, 'painter': 4105, 'stargat': 4106, 'ross': 4107, 'perceiv': 4108, 'distress': 4109, 'spacey': 4110, 'fuller': 4111, 'shaki': 4112, 'monoton': 4113, 'unsatisfi': 4114, 'compromis': 4115, '1997': 4116, 'warrant': 4117, 'pretens': 4118, 'sucker': 4119, 'wax': 4120, 'sammi': 4121, 'greg': 4122, 'cloud': 4123, 'pole': 4124, 'derang': 4125, 'dana': 4126, 'abomin': 4127, '1987': 4128, 'darren': 4129, 'delic': 4130, 'unseen': 4131, 'crawford': 4132, 'demis': 4133, 'meryl': 4134, 'soderbergh': 4135, 'absent': 4136, 'censor': 4137, 'ustinov': 4138, 'nathan': 4139, 'jewel': 4140, 'deniro': 4141, 'dee': 4142, 'exclus': 4143, 'anchor': 4144, 'correctli': 4145, 'click': 4146, 'valid': 4147, 'austin': 4148, 'polici': 4149, 'verbal': 4150, 'uncov': 4151, 'tech': 4152, 'judgment': 4153, 'wholli': 4154, 'tarantino': 4155, 'primit': 4156, 'deceas': 4157, 'reluct': 4158, 'furiou': 4159, 'antonioni': 4160, 'fog': 4161, 'accuraci': 4162, 'fenc': 4163, 'kumar': 4164, 'unravel': 4165, '1993': 4166, 'sid': 4167, 'seal': 4168, 'expedit': 4169, 'clash': 4170, 'norm': 4171, '2008': 4172, 'shanghai': 4173, '1995': 4174, 'enforc': 4175, 'sand': 4176, 'behold': 4177, 'seldom': 4178, 'pocket': 4179, 'bake': 4180, 'conduct': 4181, 'joel': 4182, 'clerk': 4183, 'alec': 4184, 'wretch': 4185, 'hallucin': 4186, 'roller': 4187, 'tax': 4188, 'dreck': 4189, 'slam': 4190, 'trait': 4191, 'nicola': 4192, 'crippl': 4193, 'fabric': 4194, 'murray': 4195, 'sheet': 4196, 'unfair': 4197, 'debt': 4198, 'mode': 4199, 'ritual': 4200, 'sustain': 4201, 'patienc': 4202, 'sunni': 4203, 'darn': 4204, '3000': 4205, 'fart': 4206, 'temper': 4207, 'vanc': 4208, 'malon': 4209, '1971': 4210, 'logan': 4211, 'wang': 4212, 'fought': 4213, 'despis': 4214, 'legaci': 4215, 'outlin': 4216, 'divid': 4217, 'phil': 4218, 'helpless': 4219, 'grief': 4220, 'preposter': 4221, 'preston': 4222, 'schedul': 4223, 'shell': 4224, 'soup': 4225, 'squad': 4226, 'fundament': 4227, 'scriptwrit': 4228, 'technicolor': 4229, 'robber': 4230, 'penni': 4231, 'bias': 4232, 'clau': 4233, 'pete': 4234, 'runner': 4235, 'exhaust': 4236, 'sweep': 4237, 'rita': 4238, 'stuart': 4239, 'guitar': 4240, 'canyon': 4241, 'conscious': 4242, 'stark': 4243, 'tactic': 4244, 'critiqu': 4245, 'isabel': 4246, 'bridget': 4247, 'alley': 4248, 'alicia': 4249, 'palanc': 4250, 'newman': 4251, 'rehash': 4252, 'bloom': 4253, 'boyl': 4254, 'unexpectedli': 4255, 'propos': 4256, 'restrict': 4257, 'russia': 4258, 'jodi': 4259, 'drove': 4260, 'jacket': 4261, 'inabl': 4262, 'sugar': 4263, 'agenc': 4264, 'liberti': 4265, 'delv': 4266, 'lacklust': 4267, 'vomit': 4268, 'downey': 4269, 'invad': 4270, 'flair': 4271, 'implic': 4272, 'passag': 4273, 'consciou': 4274, 'marc': 4275, 'cigarett': 4276, 'kansa': 4277, 'sniper': 4278, 'rear': 4279, 'culmin': 4280, 'sentinel': 4281, 'gregori': 4282, 'connor': 4283, 'feat': 4284, 'rehears': 4285, 'pale': 4286, 'improb': 4287, 'awhil': 4288, 'asylum': 4289, 'tendenc': 4290, 'karl': 4291, 'behaviour': 4292, 'cap': 4293, 'vet': 4294, 'aesthet': 4295, 'ladder': 4296, 'tripe': 4297, 'bacon': 4298, '1936': 4299, 'rampag': 4300, 'sharon': 4301, 'horn': 4302, 'chainsaw': 4303, 'lush': 4304, 'rod': 4305, '22': 4306, 'wrench': 4307, 'delet': 4308, 'foxx': 4309, 'arrow': 4310, 'kolchak': 4311, 'mccoy': 4312, 'yeti': 4313, 'weav': 4314, 'visitor': 4315, 'fright': 4316, 'minu': 4317, 'globe': 4318, 'sung': 4319, 'tasteless': 4320, 'conscienc': 4321, 'hulk': 4322, 'coaster': 4323, '1988': 4324, 'shortcom': 4325, '1920': 4326, 'filler': 4327, 'elit': 4328, 'wildli': 4329, 'aristocrat': 4330, 'financ': 4331, 'el': 4332, 'amazon': 4333, '1978': 4334, '19th': 4335, 'suspicion': 4336, 'suffici': 4337, 'hackney': 4338, 'basing': 4339, 'rumor': 4340, 'paradis': 4341, 'wagner': 4342, 'hungri': 4343, 'scoop': 4344, 'loneli': 4345, 'tomorrow': 4346, 'spice': 4347, 'rhythm': 4348, 'stream': 4349, 'underneath': 4350, 'prank': 4351, 'thunderbird': 4352, 'paramount': 4353, 'newcom': 4354, 'lurk': 4355, 'lectur': 4356, 'heist': 4357, 'hopkin': 4358, 'literari': 4359, 'counterpart': 4360, 'beverli': 4361, 'minist': 4362, 'atroc': 4363, 'naughti': 4364, '1989': 4365, 'quietli': 4366, 'standout': 4367, 'brit': 4368, 'choppi': 4369, 'leigh': 4370, 'worship': 4371, 'couch': 4372, 'smell': 4373, 'en': 4374, 'curli': 4375, '1939': 4376, 'penn': 4377, '75': 4378, 'immers': 4379, 'ram': 4380, 'abrupt': 4381, 'teas': 4382, 'wwe': 4383, 'impos': 4384, 'cancer': 4385, 'dirt': 4386, 'recogniz': 4387, 'rub': 4388, 'inmat': 4389, 'tierney': 4390, 'secondari': 4391, 'ingeni': 4392, 'straightforward': 4393, 'bread': 4394, 'paxton': 4395, 'grudg': 4396, 'springer': 4397, 'chamberlain': 4398, 'posey': 4399, 'iv': 4400, 'entranc': 4401, 'chavez': 4402, 'esther': 4403, 'nemesi': 4404, '1986': 4405, 'sassi': 4406, 'entitl': 4407, 'convert': 4408, 'cattl': 4409, 'heartfelt': 4410, 'policeman': 4411, 'misguid': 4412, 'injuri': 4413, 'net': 4414, 'enthral': 4415, 'watcher': 4416, 'quaid': 4417, 'sublim': 4418, 'bernard': 4419, 'missil': 4420, 'duel': 4421, 'lindsay': 4422, 'laurenc': 4423, 'variat': 4424, 'moreov': 4425, 'transcend': 4426, 'ratso': 4427, 'geni': 4428, 'morbid': 4429, 'nolan': 4430, 'attenborough': 4431, 'yearn': 4432, 'clan': 4433, 'skeptic': 4434, 'ace': 4435, 'dont': 4436, 'puppi': 4437, 'uncut': 4438, 'diari': 4439, 'artsi': 4440, 'enabl': 4441, 'characteris': 4442, 'graini': 4443, 'steadi': 4444, 'facil': 4445, 'setup': 4446, 'hopelessli': 4447, 'brood': 4448, 'grin': 4449, 'hk': 4450, 'bye': 4451, 'obstacl': 4452, 'tyler': 4453, 'rosemari': 4454, 'cruelti': 4455, 'youngest': 4456, 'bean': 4457, 'moder': 4458, 'buzz': 4459, 'vader': 4460, 'spiral': 4461, 'mytholog': 4462, '1979': 4463, 'poe': 4464, 'kitti': 4465, 'reliabl': 4466, 'egg': 4467, 'out': 4468, 'unexplain': 4469, 'kidman': 4470, 'carlito': 4471, 'christin': 4472, 'baffl': 4473, 'clueless': 4474, 'niec': 4475, 'sweat': 4476, 'preming': 4477, 'disastr': 4478, 'heap': 4479, 'gina': 4480, 'decept': 4481, 'spontan': 4482, 'despic': 4483, '1969': 4484, 'hammi': 4485, 'effici': 4486, 'kline': 4487, 'bewar': 4488, 'exterior': 4489, 'athlet': 4490, 'bounc': 4491, 'patricia': 4492, 'underworld': 4493, 'oblig': 4494, 'fuel': 4495, 'gillian': 4496, 'acquaint': 4497, 'martha': 4498, 'narrow': 4499, 'brendan': 4500, 'hain': 4501, 'bronson': 4502, 'weather': 4503, 'viewpoint': 4504, 'trigger': 4505, 'candl': 4506, 'lester': 4507, 'preachi': 4508, 'virtu': 4509, 'uh': 4510, 'circu': 4511, 'dilemma': 4512, 'astound': 4513, 'mermaid': 4514, 'angst': 4515, 'sooner': 4516, 'loath': 4517, 'taboo': 4518, 'injur': 4519, 'harmless': 4520, 'suprem': 4521, 'outlaw': 4522, 'biker': 4523, 'tick': 4524, 'analyz': 4525, 'insipid': 4526, 'fontain': 4527, '73': 4528, 'scar': 4529, 'shatter': 4530, 'rome': 4531, 'dandi': 4532, 'goof': 4533, 'renaiss': 4534, '19': 4535, 'sleepwalk': 4536, 'mayhem': 4537, 'enlist': 4538, 'loi': 4539, 'hepburn': 4540, 'housewif': 4541, 'headach': 4542, 'macho': 4543, 'immatur': 4544, 'whore': 4545, 'ebert': 4546, 'gere': 4547, 'hokey': 4548, 'contempt': 4549, 'dismal': 4550, 'zoom': 4551, 'claustrophob': 4552, 'hooker': 4553, 'slimi': 4554, 'filth': 4555, 'ariel': 4556, 'guin': 4557, 'overlong': 4558, 'camcord': 4559, 'surgeri': 4560, 'boston': 4561, 'scorses': 4562, 'stimul': 4563, 'oldest': 4564, 'foolish': 4565, 'redund': 4566, 'steer': 4567, 'hostag': 4568, 'glorifi': 4569, 'sox': 4570, 'tripl': 4571, 'spade': 4572, 'bent': 4573, 'intric': 4574, 'cassavet': 4575, 'stair': 4576, 'idol': 4577, 'dish': 4578, 'amor': 4579, 'fluff': 4580, 'salt': 4581, 'phenomenon': 4582, 'corbett': 4583, 'margin': 4584, 'preced': 4585, 'spinal': 4586, 'remad': 4587, 'perman': 4588, '1976': 4589, 'antagonist': 4590, 'radiat': 4591, 'fascist': 4592, 'assert': 4593, 'transplant': 4594, 'gasp': 4595, 'strongest': 4596, 'mutual': 4597, 'gabl': 4598, 'flashi': 4599, 'nolt': 4600, 'flag': 4601, 'frantic': 4602, 'joker': 4603, 'trivia': 4604, 'proport': 4605, 'messi': 4606, 'conquer': 4607, 'shred': 4608, '1981': 4609, 'down': 4610, 'shield': 4611, 'flirt': 4612, 'schlock': 4613, 'astronaut': 4614, 'muscl': 4615, 'alvin': 4616, 'corman': 4617, 'keen': 4618, 'widescreen': 4619, 'mount': 4620, 'dwarf': 4621, 'cohen': 4622, 'naschi': 4623, 'obligatori': 4624, 'rhyme': 4625, 'harold': 4626, 'cow': 4627, 'spree': 4628, 'faint': 4629, 'beard': 4630, 'zane': 4631, 'cush': 4632, 'wield': 4633, 'vaniti': 4634, '28': 4635, '1945': 4636, 'departur': 4637, 'resum': 4638, 'scandal': 4639, 'strive': 4640, 'boob': 4641, 'mobil': 4642, 'aborigin': 4643, 'danish': 4644, '95': 4645, 'info': 4646, 'persuad': 4647, 'off': 4648, 'repris': 4649, 'claud': 4650, 'barn': 4651, 'instruct': 4652, 'divin': 4653, 'bitten': 4654, 'ritchi': 4655, 'www': 4656, 'raj': 4657, 'discern': 4658, 'flock': 4659, 'sensual': 4660, 'archiv': 4661, 'someday': 4662, 'carey': 4663, 'interestingli': 4664, 'triangl': 4665, 'deer': 4666, 'mol': 4667, 'brush': 4668, 'neurot': 4669, 'hara': 4670, 'bachelor': 4671, 'inflict': 4672, 'fishburn': 4673, 'banter': 4674, 'hapless': 4675, 'ish': 4676, 'biblic': 4677, 'prophet': 4678, 'timberlak': 4679, 'dylan': 4680, 'hug': 4681, 'clad': 4682, 'kathryn': 4683, 'traffic': 4684, 'submit': 4685, 'helm': 4686, 'pixar': 4687, 'artwork': 4688, 'colin': 4689, 'cb': 4690, 'miracul': 4691, 'cycl': 4692, 'fragil': 4693, 'axe': 4694, 'europa': 4695, 'senior': 4696, 'carlo': 4697, 'jade': 4698, 'bate': 4699, 'recit': 4700, 'vibrant': 4701, 'earnest': 4702, 'cliffhang': 4703, 'frontier': 4704, 'proclaim': 4705, 'heartwarm': 4706, 'neill': 4707, 'rot': 4708, 'pacif': 4709, 'harrison': 4710, 'mobster': 4711, 'dim': 4712, 'luka': 4713, 'casino': 4714, 'melissa': 4715, 'loretta': 4716, 'undermin': 4717, 'hilar': 4718, 'dame': 4719, 'anton': 4720, 'wendigo': 4721, 'cher': 4722, 'pickford': 4723, 'parson': 4724, 'seedi': 4725, 'venom': 4726, 'rooki': 4727, 'lucil': 4728, 'estrang': 4729, 'eli': 4730, 'misfortun': 4731, 'mason': 4732, 'wardrob': 4733, 'sicken': 4734, 'trier': 4735, 'cerebr': 4736, 'razor': 4737, 'feast': 4738, 'static': 4739, 'nope': 4740, 'milo': 4741, 'breakfast': 4742, 'isra': 4743, 'northern': 4744, 'http': 4745, 'shepherd': 4746, 'articl': 4747, 'toronto': 4748, 'antholog': 4749, 'token': 4750, 'electron': 4751, 'foil': 4752, 'bondag': 4753, 'aris': 4754, 'holocaust': 4755, 'lui': 4756, 'vile': 4757, 'flavor': 4758, 'choke': 4759, 'akin': 4760, 'bikini': 4761, 'orphan': 4762, 'winchest': 4763, 'legitim': 4764, 'marlon': 4765, 'illus': 4766, 'jordan': 4767, 'pc': 4768, 'blatantli': 4769, 'redneck': 4770, 'jo': 4771, 'uma': 4772, 'vanessa': 4773, 'alexandr': 4774, 'mathieu': 4775, 'frog': 4776, 'psych': 4777, 'nightclub': 4778, 'feminin': 4779, 'huston': 4780, 'peer': 4781, 'dudley': 4782, 'wrestler': 4783, 'disregard': 4784, 'turd': 4785, 'leather': 4786, 'deem': 4787, 'linear': 4788, 'swept': 4789, 'outdat': 4790, 'styliz': 4791, 'ideolog': 4792, 'howl': 4793, 'boyer': 4794, 'affleck': 4795, 'ceremoni': 4796, 'abund': 4797, 'knightley': 4798, 'clinic': 4799, 'gunga': 4800, 'charlton': 4801, 'comprehend': 4802, 'smack': 4803, 'audrey': 4804, 'fifth': 4805, 'cartoonish': 4806, 'shorter': 4807, 'tack': 4808, 'highway': 4809, 'magician': 4810, 'gilbert': 4811, 'glare': 4812, 'retriev': 4813, 'oppon': 4814, 'potter': 4815, 'greet': 4816, 'deliver': 4817, 'client': 4818, 'lavish': 4819, 'durat': 4820, 'uniformli': 4821, 'chip': 4822, 'boo': 4823, 'tara': 4824, 'breakdown': 4825, '4th': 4826, 'evolut': 4827, '1991': 4828, 'spawn': 4829, 'phenomen': 4830, 'energet': 4831, 'conrad': 4832, 'plate': 4833, 'monument': 4834, 'sleaz': 4835, 'lighter': 4836, 'collector': 4837, 'braveheart': 4838, 'summar': 4839, 'btw': 4840, 'snatch': 4841, 'cuban': 4842, 'cemeteri': 4843, 'corn': 4844, 'salman': 4845, 'toe': 4846, 'whack': 4847, 'lifeless': 4848, 'bastard': 4849, 'bogu': 4850, 'senat': 4851, 'mitch': 4852, 'spine': 4853, 'compris': 4854, '1994': 4855, 'einstein': 4856, 'moe': 4857, 'newer': 4858, 'goldsworthi': 4859, 'kent': 4860, 'eleven': 4861, 'neatli': 4862, 'belli': 4863, 'historian': 4864, 'alleg': 4865, 'replay': 4866, 'embark': 4867, 'mcqueen': 4868, 'undertak': 4869, 'spectacl': 4870, 'sorrow': 4871, 'undead': 4872, 'inaccuraci': 4873, 'armstrong': 4874, 'pronounc': 4875, 'kazan': 4876, 'ie': 4877, 'wtf': 4878, 'constitut': 4879, 'nina': 4880, 'healthi': 4881, 'jam': 4882, 'jare': 4883, 'occup': 4884, 'firmli': 4885, 'signal': 4886, 'judd': 4887, 'fluid': 4888, 'clara': 4889, '1974': 4890, 'gilliam': 4891, '1977': 4892, 'outright': 4893, 'bulk': 4894, 'luxuri': 4895, 'lex': 4896, 'bori': 4897, 'capot': 4898, 'creek': 4899, 'appl': 4900, 'jedi': 4901, 'trauma': 4902, 'liu': 4903, 'randolph': 4904, 'ol': 4905, 'evelyn': 4906, 'jule': 4907, 'cecil': 4908, 'mum': 4909, 'forgiven': 4910, 'comprehens': 4911, 'goldblum': 4912, 'roar': 4913, 'poker': 4914, 'carmen': 4915, 'vignett': 4916, 'truman': 4917, 'kiddi': 4918, 'conan': 4919, 'pepper': 4920, 'vain': 4921, 'propheci': 4922, 'congratul': 4923, 'inclus': 4924, 'spray': 4925, '1985': 4926, 'decapit': 4927, 'palm': 4928, 'blur': 4929, 'pioneer': 4930, 'unattract': 4931, 'fruit': 4932, 'ash': 4933, 'sacrif': 4934, 'lauren': 4935, 'relentless': 4936, 'unsuspect': 4937, 'sidewalk': 4938, 'genet': 4939, 'miniseri': 4940, 'aussi': 4941, 'abound': 4942, 'knee': 4943, 'walt': 4944, 'galaxi': 4945, 'comb': 4946, 'rosario': 4947, 'meal': 4948, 'basket': 4949, 'subtli': 4950, 'paula': 4951, 'inaccur': 4952, 'id': 4953, 'miami': 4954, 'cape': 4955, 'tokyo': 4956, 'lanc': 4957, 'antonio': 4958, 'porter': 4959, 'groan': 4960, 'curtain': 4961, 'bait': 4962, 'bsg': 4963, 'growth': 4964, 'modest': 4965, 'monti': 4966, 'frontal': 4967, 'weari': 4968, 'dubiou': 4969, 'substanti': 4970, 'epitom': 4971, 'jill': 4972, 'bach': 4973, 'asset': 4974, 'mice': 4975, 'victorian': 4976, 'profil': 4977, 'handicap': 4978, 'hackman': 4979, 'rapidli': 4980, 'incorrect': 4981, 'detach': 4982, 'spill': 4983, 'weaker': 4984, '21st': 4985, 'hostil': 4986, 'reincarn': 4987, 'orchestr': 4988, 'playboy': 4989, 'ingrid': 4990, 'scariest': 4991, 'omin': 4992, 'bravo': 4993, 'masterson': 4994, 'vastli': 4995, 'sparkl': 4996, 'scarfac': 4997, 'assort': 4998, 'sophi': 4999}\n"
     ]
    }
   ],
   "source": [
    "word_dict,sorted_words = build_dict(train_X)\n",
    "print(word_dict)"
   ]
  },
  {
   "cell_type": "markdown",
   "metadata": {},
   "source": [
    "**Question:** What are the five most frequently appearing (tokenized) words in the training set? Does it makes sense that these words appear frequently in the training set?"
   ]
  },
  {
   "cell_type": "markdown",
   "metadata": {},
   "source": [
    "**Answer:**"
   ]
  },
  {
   "cell_type": "code",
   "execution_count": 13,
   "metadata": {},
   "outputs": [
    {
     "name": "stdout",
     "output_type": "stream",
     "text": [
      "['movi', 'film', 'one', 'like', 'time']\n"
     ]
    }
   ],
   "source": [
    "# TODO: Use this space to determine the five most frequently appearing words in the training set.\n",
    "print(sorted_words[:5])"
   ]
  },
  {
   "cell_type": "markdown",
   "metadata": {},
   "source": [
    "### Save `word_dict`\n",
    "\n",
    "Later on when we construct an endpoint which processes a submitted review we will need to make use of the `word_dict` which we have created. As such, we will save it to a file now for future use."
   ]
  },
  {
   "cell_type": "code",
   "execution_count": 14,
   "metadata": {},
   "outputs": [],
   "source": [
    "data_dir = '../data/pytorch' # The folder we will use for storing data\n",
    "if not os.path.exists(data_dir): # Make sure that the folder exists\n",
    "    os.makedirs(data_dir)"
   ]
  },
  {
   "cell_type": "code",
   "execution_count": 15,
   "metadata": {},
   "outputs": [],
   "source": [
    "with open(os.path.join(data_dir, 'word_dict.pkl'), \"wb\") as f:\n",
    "    pickle.dump(word_dict, f)"
   ]
  },
  {
   "cell_type": "markdown",
   "metadata": {},
   "source": [
    "### Transform the reviews\n",
    "\n",
    "Now that we have our word dictionary which allows us to transform the words appearing in the reviews into integers, it is time to make use of it and convert our reviews to their integer sequence representation, making sure to pad or truncate to a fixed length, which in our case is `500`."
   ]
  },
  {
   "cell_type": "code",
   "execution_count": 16,
   "metadata": {},
   "outputs": [],
   "source": [
    "def convert_and_pad(word_dict, sentence, pad=500):\n",
    "    NOWORD = 0 # We will use 0 to represent the 'no word' category\n",
    "    INFREQ = 1 # and we use 1 to represent the infrequent words, i.e., words not appearing in word_dict\n",
    "    \n",
    "    working_sentence = [NOWORD] * pad\n",
    "    \n",
    "    for word_index, word in enumerate(sentence[:pad]):\n",
    "        if word in word_dict:\n",
    "            working_sentence[word_index] = word_dict[word]\n",
    "        else:\n",
    "            working_sentence[word_index] = INFREQ\n",
    "            \n",
    "    return working_sentence, min(len(sentence), pad)\n",
    "\n",
    "def convert_and_pad_data(word_dict, data, pad=500):\n",
    "    result = []\n",
    "    lengths = []\n",
    "    \n",
    "    for sentence in data:\n",
    "        converted, leng = convert_and_pad(word_dict, sentence, pad)\n",
    "        result.append(converted)\n",
    "        lengths.append(leng)\n",
    "        \n",
    "    return np.array(result), np.array(lengths)"
   ]
  },
  {
   "cell_type": "code",
   "execution_count": 17,
   "metadata": {},
   "outputs": [],
   "source": [
    "train_X, train_X_len = convert_and_pad_data(word_dict, train_X)\n",
    "test_X, test_X_len = convert_and_pad_data(word_dict, test_X)"
   ]
  },
  {
   "cell_type": "markdown",
   "metadata": {},
   "source": [
    "As a quick check to make sure that things are working as intended, check to see what one of the reviews in the training set looks like after having been processeed. Does this look reasonable? What is the length of a review in the training set?"
   ]
  },
  {
   "cell_type": "code",
   "execution_count": 18,
   "metadata": {},
   "outputs": [
    {
     "name": "stdout",
     "output_type": "stream",
     "text": [
      "[ 510 1193   28 1568    2    3  597    1  826  772   27  510    1  597\n",
      " 4507 1568  160  324   98  597    1  374    2  947   59  304 4127 1568\n",
      "   92    4  550 2438 1163  494 3267 1568  160 1648   35  151  406   97\n",
      " 1568  160  125 1204  626   28    1  196   41    9 1317 1130   32   31\n",
      "  601   90 1568  129  273 1568 1589  306    1 1034  141   94  946   21\n",
      "  507  858 3974    2  332 2428 4507  197 1571 2231  125    2  341 1067\n",
      "    1   24    0    0    0    0    0    0    0    0    0    0    0    0\n",
      "    0    0    0    0    0    0    0    0    0    0    0    0    0    0\n",
      "    0    0    0    0    0    0    0    0    0    0    0    0    0    0\n",
      "    0    0    0    0    0    0    0    0    0    0    0    0    0    0\n",
      "    0    0    0    0    0    0    0    0    0    0    0    0    0    0\n",
      "    0    0    0    0    0    0    0    0    0    0    0    0    0    0\n",
      "    0    0    0    0    0    0    0    0    0    0    0    0    0    0\n",
      "    0    0    0    0    0    0    0    0    0    0    0    0    0    0\n",
      "    0    0    0    0    0    0    0    0    0    0    0    0    0    0\n",
      "    0    0    0    0    0    0    0    0    0    0    0    0    0    0\n",
      "    0    0    0    0    0    0    0    0    0    0    0    0    0    0\n",
      "    0    0    0    0    0    0    0    0    0    0    0    0    0    0\n",
      "    0    0    0    0    0    0    0    0    0    0    0    0    0    0\n",
      "    0    0    0    0    0    0    0    0    0    0    0    0    0    0\n",
      "    0    0    0    0    0    0    0    0    0    0    0    0    0    0\n",
      "    0    0    0    0    0    0    0    0    0    0    0    0    0    0\n",
      "    0    0    0    0    0    0    0    0    0    0    0    0    0    0\n",
      "    0    0    0    0    0    0    0    0    0    0    0    0    0    0\n",
      "    0    0    0    0    0    0    0    0    0    0    0    0    0    0\n",
      "    0    0    0    0    0    0    0    0    0    0    0    0    0    0\n",
      "    0    0    0    0    0    0    0    0    0    0    0    0    0    0\n",
      "    0    0    0    0    0    0    0    0    0    0    0    0    0    0\n",
      "    0    0    0    0    0    0    0    0    0    0    0    0    0    0\n",
      "    0    0    0    0    0    0    0    0    0    0    0    0    0    0\n",
      "    0    0    0    0    0    0    0    0    0    0    0    0    0    0\n",
      "    0    0    0    0    0    0    0    0    0    0    0    0    0    0\n",
      "    0    0    0    0    0    0    0    0    0    0    0    0    0    0\n",
      "    0    0    0    0    0    0    0    0    0    0    0    0    0    0\n",
      "    0    0    0    0    0    0    0    0    0    0    0    0    0    0\n",
      "    0    0    0    0    0    0    0    0    0    0] 86\n"
     ]
    }
   ],
   "source": [
    "# Use this cell to examine one of the processed reviews to make sure everything is working as intended.\n",
    "print(train_X[1000],train_X_len[1000])"
   ]
  },
  {
   "cell_type": "markdown",
   "metadata": {},
   "source": [
    "**Question:** In the cells above we use the `preprocess_data` and `convert_and_pad_data` methods to process both the training and testing set. Why or why not might this be a problem?"
   ]
  },
  {
   "cell_type": "markdown",
   "metadata": {},
   "source": [
    "**Answer:**"
   ]
  },
  {
   "cell_type": "markdown",
   "metadata": {},
   "source": [
    "## Step 3: Upload the data to S3\n",
    "\n",
    "As in the XGBoost notebook, we will need to upload the training dataset to S3 in order for our training code to access it. For now we will save it locally and we will upload to S3 later on.\n",
    "\n",
    "### Save the processed training dataset locally\n",
    "\n",
    "It is important to note the format of the data that we are saving as we will need to know it when we write the training code. In our case, each row of the dataset has the form `label`, `length`, `review[500]` where `review[500]` is a sequence of `500` integers representing the words in the review."
   ]
  },
  {
   "cell_type": "code",
   "execution_count": 19,
   "metadata": {},
   "outputs": [],
   "source": [
    "import pandas as pd\n",
    "    \n",
    "pd.concat([pd.DataFrame(train_y), pd.DataFrame(train_X_len), pd.DataFrame(train_X)], axis=1) \\\n",
    "        .to_csv(os.path.join(data_dir, 'train.csv'), header=False, index=False)"
   ]
  },
  {
   "cell_type": "markdown",
   "metadata": {},
   "source": [
    "### Uploading the training data\n",
    "\n",
    "\n",
    "Next, we need to upload the training data to the SageMaker default S3 bucket so that we can provide access to it while training our model."
   ]
  },
  {
   "cell_type": "code",
   "execution_count": 20,
   "metadata": {},
   "outputs": [],
   "source": [
    "import sagemaker\n",
    "\n",
    "sagemaker_session = sagemaker.Session()\n",
    "\n",
    "bucket = sagemaker_session.default_bucket()\n",
    "prefix = 'sagemaker/sentiment_rnn'\n",
    "\n",
    "role = sagemaker.get_execution_role()"
   ]
  },
  {
   "cell_type": "code",
   "execution_count": 21,
   "metadata": {},
   "outputs": [],
   "source": [
    "input_data = sagemaker_session.upload_data(path=data_dir, bucket=bucket, key_prefix=prefix)"
   ]
  },
  {
   "cell_type": "markdown",
   "metadata": {},
   "source": [
    "**NOTE:** The cell above uploads the entire contents of our data directory. This includes the `word_dict.pkl` file. This is fortunate as we will need this later on when we create an endpoint that accepts an arbitrary review. For now, we will just take note of the fact that it resides in the data directory (and so also in the S3 training bucket) and that we will need to make sure it gets saved in the model directory."
   ]
  },
  {
   "cell_type": "markdown",
   "metadata": {},
   "source": [
    "## Step 4: Build and Train the PyTorch Model\n",
    "\n",
    "In the XGBoost notebook we discussed what a model is in the SageMaker framework. In particular, a model comprises three objects\n",
    "\n",
    " - Model Artifacts,\n",
    " - Training Code, and\n",
    " - Inference Code,\n",
    " \n",
    "each of which interact with one another. In the XGBoost example we used training and inference code that was provided by Amazon. Here we will still be using containers provided by Amazon with the added benefit of being able to include our own custom code.\n",
    "\n",
    "We will start by implementing our own neural network in PyTorch along with a training script. For the purposes of this project we have provided the necessary model object in the `model.py` file, inside of the `train` folder. You can see the provided implementation by running the cell below."
   ]
  },
  {
   "cell_type": "code",
   "execution_count": 22,
   "metadata": {},
   "outputs": [
    {
     "name": "stdout",
     "output_type": "stream",
     "text": [
      "\u001b[34mimport\u001b[39;49;00m \u001b[04m\u001b[36mtorch.nn\u001b[39;49;00m \u001b[34mas\u001b[39;49;00m \u001b[04m\u001b[36mnn\u001b[39;49;00m\r\n",
      "\r\n",
      "\u001b[34mclass\u001b[39;49;00m \u001b[04m\u001b[32mLSTMClassifier\u001b[39;49;00m(nn.Module):\r\n",
      "    \u001b[33m\"\"\"\u001b[39;49;00m\r\n",
      "\u001b[33m    This is the simple RNN model we will be using to perform Sentiment Analysis.\u001b[39;49;00m\r\n",
      "\u001b[33m    \"\"\"\u001b[39;49;00m\r\n",
      "\r\n",
      "    \u001b[34mdef\u001b[39;49;00m \u001b[32m__init__\u001b[39;49;00m(\u001b[36mself\u001b[39;49;00m, embedding_dim, hidden_dim, vocab_size):\r\n",
      "        \u001b[33m\"\"\"\u001b[39;49;00m\r\n",
      "\u001b[33m        Initialize the model by settingg up the various layers.\u001b[39;49;00m\r\n",
      "\u001b[33m        \"\"\"\u001b[39;49;00m\r\n",
      "        \u001b[36msuper\u001b[39;49;00m(LSTMClassifier, \u001b[36mself\u001b[39;49;00m).\u001b[32m__init__\u001b[39;49;00m()\r\n",
      "\r\n",
      "        \u001b[36mself\u001b[39;49;00m.embedding = nn.Embedding(vocab_size, embedding_dim, padding_idx=\u001b[34m0\u001b[39;49;00m)\r\n",
      "        \u001b[36mself\u001b[39;49;00m.lstm = nn.LSTM(embedding_dim, hidden_dim)\r\n",
      "        \u001b[36mself\u001b[39;49;00m.dense = nn.Linear(in_features=hidden_dim, out_features=\u001b[34m1\u001b[39;49;00m)\r\n",
      "        \u001b[36mself\u001b[39;49;00m.sig = nn.Sigmoid()\r\n",
      "        \r\n",
      "        \u001b[36mself\u001b[39;49;00m.word_dict = \u001b[36mNone\u001b[39;49;00m\r\n",
      "\r\n",
      "    \u001b[34mdef\u001b[39;49;00m \u001b[32mforward\u001b[39;49;00m(\u001b[36mself\u001b[39;49;00m, x):\r\n",
      "        \u001b[33m\"\"\"\u001b[39;49;00m\r\n",
      "\u001b[33m        Perform a forward pass of our model on some input.\u001b[39;49;00m\r\n",
      "\u001b[33m        \"\"\"\u001b[39;49;00m\r\n",
      "        x = x.t()\r\n",
      "        lengths = x[\u001b[34m0\u001b[39;49;00m,:]\r\n",
      "        reviews = x[\u001b[34m1\u001b[39;49;00m:,:]\r\n",
      "        embeds = \u001b[36mself\u001b[39;49;00m.embedding(reviews)\r\n",
      "        lstm_out, _ = \u001b[36mself\u001b[39;49;00m.lstm(embeds)\r\n",
      "        out = \u001b[36mself\u001b[39;49;00m.dense(lstm_out)\r\n",
      "        out = out[lengths - \u001b[34m1\u001b[39;49;00m, \u001b[36mrange\u001b[39;49;00m(\u001b[36mlen\u001b[39;49;00m(lengths))]\r\n",
      "        \u001b[34mreturn\u001b[39;49;00m \u001b[36mself\u001b[39;49;00m.sig(out.squeeze())\r\n"
     ]
    }
   ],
   "source": [
    "!pygmentize train/model.py"
   ]
  },
  {
   "cell_type": "markdown",
   "metadata": {},
   "source": [
    "The important takeaway from the implementation provided is that there are three parameters that we may wish to tweak to improve the performance of our model. These are the embedding dimension, the hidden dimension and the size of the vocabulary. We will likely want to make these parameters configurable in the training script so that if we wish to modify them we do not need to modify the script itself. We will see how to do this later on. To start we will write some of the training code in the notebook so that we can more easily diagnose any issues that arise.\n",
    "\n",
    "First we will load a small portion of the training data set to use as a sample. It would be very time consuming to try and train the model completely in the notebook as we do not have access to a gpu and the compute instance that we are using is not particularly powerful. However, we can work on a small bit of the data to get a feel for how our training script is behaving."
   ]
  },
  {
   "cell_type": "code",
   "execution_count": 23,
   "metadata": {},
   "outputs": [],
   "source": [
    "import torch\n",
    "import torch.utils.data\n",
    "\n",
    "# Read in only the first 250 rows\n",
    "train_sample = pd.read_csv(os.path.join(data_dir, 'train.csv'), header=None, names=None, nrows=250)\n",
    "\n",
    "# Turn the input pandas dataframe into tensors\n",
    "train_sample_y = torch.from_numpy(train_sample[[0]].values).float().squeeze()\n",
    "train_sample_X = torch.from_numpy(train_sample.drop([0], axis=1).values).long()\n",
    "\n",
    "# Build the dataset\n",
    "train_sample_ds = torch.utils.data.TensorDataset(train_sample_X, train_sample_y)\n",
    "# Build the dataloader\n",
    "train_sample_dl = torch.utils.data.DataLoader(train_sample_ds, batch_size=50)"
   ]
  },
  {
   "cell_type": "markdown",
   "metadata": {},
   "source": [
    "### (TODO) Writing the training method\n",
    "\n",
    "Next we need to write the training code itself. This should be very similar to training methods that you have written before to train PyTorch models. We will leave any difficult aspects such as model saving / loading and parameter loading until a little later."
   ]
  },
  {
   "cell_type": "code",
   "execution_count": 24,
   "metadata": {},
   "outputs": [],
   "source": [
    "def train(model, train_loader, epochs, optimizer, loss_fn, device):\n",
    "    for epoch in range(1, epochs + 1):\n",
    "        model.train()\n",
    "        total_loss = 0\n",
    "        for batch in train_loader:         \n",
    "            batch_X, batch_y = batch\n",
    "            \n",
    "            batch_X = batch_X.to(device)\n",
    "            batch_y = batch_y.to(device)\n",
    "            \n",
    "            # TODO: Complete this train method to train the model provided.\n",
    "            optimizer.zero_grad()\n",
    "            out = model.forward(batch_X)\n",
    "            loss = loss_fn(out, batch_y)\n",
    "            loss.backward()\n",
    "            optimizer.step()\n",
    "            \n",
    "            total_loss += loss.data.item()\n",
    "        print(\"Epoch: {}, BCELoss: {}\".format(epoch, total_loss / len(train_loader)))"
   ]
  },
  {
   "cell_type": "markdown",
   "metadata": {},
   "source": [
    "Supposing we have the training method above, we will test that it is working by writing a bit of code in the notebook that executes our training method on the small sample training set that we loaded earlier. The reason for doing this in the notebook is so that we have an opportunity to fix any errors that arise early when they are easier to diagnose."
   ]
  },
  {
   "cell_type": "code",
   "execution_count": 25,
   "metadata": {},
   "outputs": [
    {
     "name": "stdout",
     "output_type": "stream",
     "text": [
      "Epoch: 1, BCELoss: 0.6935554504394531\n",
      "Epoch: 2, BCELoss: 0.6806816816329956\n",
      "Epoch: 3, BCELoss: 0.67054523229599\n",
      "Epoch: 4, BCELoss: 0.6600807666778564\n",
      "Epoch: 5, BCELoss: 0.6480824589729309\n"
     ]
    }
   ],
   "source": [
    "import torch.optim as optim\n",
    "from train.model import LSTMClassifier\n",
    "\n",
    "device = torch.device(\"cuda\" if torch.cuda.is_available() else \"cpu\")\n",
    "model = LSTMClassifier(32, 100, 5000).to(device)\n",
    "optimizer = optim.Adam(model.parameters())\n",
    "loss_fn = torch.nn.BCELoss()\n",
    "\n",
    "train(model, train_sample_dl, 5, optimizer, loss_fn, device)"
   ]
  },
  {
   "cell_type": "markdown",
   "metadata": {},
   "source": [
    "In order to construct a PyTorch model using SageMaker we must provide SageMaker with a training script. We may optionally include a directory which will be copied to the container and from which our training code will be run. When the training container is executed it will check the uploaded directory (if there is one) for a `requirements.txt` file and install any required Python libraries, after which the training script will be run."
   ]
  },
  {
   "cell_type": "markdown",
   "metadata": {},
   "source": [
    "### (TODO) Training the model\n",
    "\n",
    "When a PyTorch model is constructed in SageMaker, an entry point must be specified. This is the Python file which will be executed when the model is trained. Inside of the `train` directory is a file called `train.py` which has been provided and which contains most of the necessary code to train our model. The only thing that is missing is the implementation of the `train()` method which you wrote earlier in this notebook.\n",
    "\n",
    "**TODO**: Copy the `train()` method written above and paste it into the `train/train.py` file where required.\n",
    "\n",
    "The way that SageMaker passes hyperparameters to the training script is by way of arguments. These arguments can then be parsed and used in the training script. To see how this is done take a look at the provided `train/train.py` file."
   ]
  },
  {
   "cell_type": "code",
   "execution_count": 26,
   "metadata": {},
   "outputs": [],
   "source": [
    "from sagemaker.pytorch import PyTorch\n",
    "\n",
    "estimator = PyTorch(entry_point=\"train.py\",\n",
    "                    source_dir=\"train\",\n",
    "                    role=role,\n",
    "                    framework_version='0.4.0',\n",
    "                    train_instance_count=1,\n",
    "                    train_instance_type='ml.p2.xlarge',\n",
    "                    hyperparameters={\n",
    "                        'epochs': 10,\n",
    "                        'hidden_dim': 200,\n",
    "                    })"
   ]
  },
  {
   "cell_type": "code",
   "execution_count": 27,
   "metadata": {
    "scrolled": true
   },
   "outputs": [
    {
     "name": "stdout",
     "output_type": "stream",
     "text": [
      "2019-09-14 14:26:58 Starting - Starting the training job...\n",
      "2019-09-14 14:27:00 Starting - Launching requested ML instances...\n",
      "2019-09-14 14:27:52 Starting - Preparing the instances for training......\n",
      "2019-09-14 14:28:56 Downloading - Downloading input data......\n",
      "2019-09-14 14:29:38 Training - Downloading the training image..\u001b[31mbash: cannot set terminal process group (-1): Inappropriate ioctl for device\u001b[0m\n",
      "\u001b[31mbash: no job control in this shell\u001b[0m\n",
      "\u001b[31m2019-09-14 14:30:04,854 sagemaker-containers INFO     Imported framework sagemaker_pytorch_container.training\u001b[0m\n",
      "\u001b[31m2019-09-14 14:30:04,878 sagemaker_pytorch_container.training INFO     Block until all host DNS lookups succeed.\u001b[0m\n",
      "\u001b[31m2019-09-14 14:30:04,881 sagemaker_pytorch_container.training INFO     Invoking user training script.\u001b[0m\n",
      "\u001b[31m2019-09-14 14:30:05,123 sagemaker-containers INFO     Module train does not provide a setup.py. \u001b[0m\n",
      "\u001b[31mGenerating setup.py\u001b[0m\n",
      "\u001b[31m2019-09-14 14:30:05,123 sagemaker-containers INFO     Generating setup.cfg\u001b[0m\n",
      "\u001b[31m2019-09-14 14:30:05,123 sagemaker-containers INFO     Generating MANIFEST.in\u001b[0m\n",
      "\u001b[31m2019-09-14 14:30:05,123 sagemaker-containers INFO     Installing module with the following command:\u001b[0m\n",
      "\u001b[31m/usr/bin/python -m pip install -U . -r requirements.txt\u001b[0m\n",
      "\u001b[31mProcessing /opt/ml/code\u001b[0m\n",
      "\u001b[31mCollecting pandas (from -r requirements.txt (line 1))\n",
      "  Downloading https://files.pythonhosted.org/packages/74/24/0cdbf8907e1e3bc5a8da03345c23cbed7044330bb8f73bb12e711a640a00/pandas-0.24.2-cp35-cp35m-manylinux1_x86_64.whl (10.0MB)\u001b[0m\n",
      "\u001b[31mCollecting numpy (from -r requirements.txt (line 2))\n",
      "  Downloading https://files.pythonhosted.org/packages/9b/21/2b18339d24a2f73dcefb2f10f48aff6182e16da83e3a612684443c6cfb29/numpy-1.17.2-cp35-cp35m-manylinux1_x86_64.whl (20.1MB)\u001b[0m\n",
      "\u001b[31mCollecting nltk (from -r requirements.txt (line 3))\n",
      "  Downloading https://files.pythonhosted.org/packages/f6/1d/d925cfb4f324ede997f6d47bea4d9babba51b49e87a767c170b77005889d/nltk-3.4.5.zip (1.5MB)\u001b[0m\n",
      "\u001b[31mCollecting beautifulsoup4 (from -r requirements.txt (line 4))\u001b[0m\n",
      "\u001b[31m  Downloading https://files.pythonhosted.org/packages/1a/b7/34eec2fe5a49718944e215fde81288eec1fa04638aa3fb57c1c6cd0f98c3/beautifulsoup4-4.8.0-py3-none-any.whl (97kB)\u001b[0m\n",
      "\u001b[31mCollecting html5lib (from -r requirements.txt (line 5))\n",
      "  Downloading https://files.pythonhosted.org/packages/a5/62/bbd2be0e7943ec8504b517e62bab011b4946e1258842bc159e5dfde15b96/html5lib-1.0.1-py2.py3-none-any.whl (117kB)\u001b[0m\n",
      "\u001b[31mRequirement already satisfied, skipping upgrade: python-dateutil>=2.5.0 in /usr/local/lib/python3.5/dist-packages (from pandas->-r requirements.txt (line 1)) (2.7.5)\u001b[0m\n",
      "\u001b[31mCollecting pytz>=2011k (from pandas->-r requirements.txt (line 1))\n",
      "  Downloading https://files.pythonhosted.org/packages/87/76/46d697698a143e05f77bec5a526bf4e56a0be61d63425b68f4ba553b51f2/pytz-2019.2-py2.py3-none-any.whl (508kB)\u001b[0m\n",
      "\u001b[31mRequirement already satisfied, skipping upgrade: six in /usr/local/lib/python3.5/dist-packages (from nltk->-r requirements.txt (line 3)) (1.11.0)\u001b[0m\n",
      "\u001b[31mCollecting soupsieve>=1.2 (from beautifulsoup4->-r requirements.txt (line 4))\n",
      "  Downloading https://files.pythonhosted.org/packages/0b/44/0474f2207fdd601bb25787671c81076333d2c80e6f97e92790f8887cf682/soupsieve-1.9.3-py2.py3-none-any.whl\u001b[0m\n",
      "\u001b[31mCollecting webencodings (from html5lib->-r requirements.txt (line 5))\n",
      "  Downloading https://files.pythonhosted.org/packages/f4/24/2a3e3df732393fed8b3ebf2ec078f05546de641fe1b667ee316ec1dcf3b7/webencodings-0.5.1-py2.py3-none-any.whl\u001b[0m\n",
      "\u001b[31mBuilding wheels for collected packages: nltk, train\n",
      "  Running setup.py bdist_wheel for nltk: started\u001b[0m\n",
      "\u001b[31m  Running setup.py bdist_wheel for nltk: finished with status 'done'\n",
      "  Stored in directory: /root/.cache/pip/wheels/96/86/f6/68ab24c23f207c0077381a5e3904b2815136b879538a24b483\n",
      "  Running setup.py bdist_wheel for train: started\n",
      "  Running setup.py bdist_wheel for train: finished with status 'done'\n",
      "  Stored in directory: /tmp/pip-ephem-wheel-cache-ukq0ejfj/wheels/35/24/16/37574d11bf9bde50616c67372a334f94fa8356bc7164af8ca3\u001b[0m\n",
      "\u001b[31mSuccessfully built nltk train\u001b[0m\n",
      "\u001b[31mInstalling collected packages: numpy, pytz, pandas, nltk, soupsieve, beautifulsoup4, webencodings, html5lib, train\n",
      "  Found existing installation: numpy 1.15.4\u001b[0m\n",
      "\u001b[31m    Uninstalling numpy-1.15.4:\n",
      "      Successfully uninstalled numpy-1.15.4\u001b[0m\n",
      "\n",
      "2019-09-14 14:30:03 Training - Training image download completed. Training in progress.\u001b[31mSuccessfully installed beautifulsoup4-4.8.0 html5lib-1.0.1 nltk-3.4.5 numpy-1.17.2 pandas-0.24.2 pytz-2019.2 soupsieve-1.9.3 train-1.0.0 webencodings-0.5.1\u001b[0m\n",
      "\u001b[31mYou are using pip version 18.1, however version 19.2.3 is available.\u001b[0m\n",
      "\u001b[31mYou should consider upgrading via the 'pip install --upgrade pip' command.\u001b[0m\n",
      "\u001b[31m2019-09-14 14:30:17,094 sagemaker-containers INFO     Invoking user script\n",
      "\u001b[0m\n",
      "\u001b[31mTraining Env:\n",
      "\u001b[0m\n",
      "\u001b[31m{\n",
      "    \"additional_framework_parameters\": {},\n",
      "    \"resource_config\": {\n",
      "        \"hosts\": [\n",
      "            \"algo-1\"\n",
      "        ],\n",
      "        \"network_interface_name\": \"eth0\",\n",
      "        \"current_host\": \"algo-1\"\n",
      "    },\n",
      "    \"model_dir\": \"/opt/ml/model\",\n",
      "    \"framework_module\": \"sagemaker_pytorch_container.training:main\",\n",
      "    \"log_level\": 20,\n",
      "    \"job_name\": \"sagemaker-pytorch-2019-09-14-14-26-58-372\",\n",
      "    \"hosts\": [\n",
      "        \"algo-1\"\n",
      "    ],\n",
      "    \"user_entry_point\": \"train.py\",\n",
      "    \"num_cpus\": 4,\n",
      "    \"module_name\": \"train\",\n",
      "    \"channel_input_dirs\": {\n",
      "        \"training\": \"/opt/ml/input/data/training\"\n",
      "    },\n",
      "    \"hyperparameters\": {\n",
      "        \"epochs\": 10,\n",
      "        \"hidden_dim\": 200\n",
      "    },\n",
      "    \"input_dir\": \"/opt/ml/input\",\n",
      "    \"input_data_config\": {\n",
      "        \"training\": {\n",
      "            \"TrainingInputMode\": \"File\",\n",
      "            \"S3DistributionType\": \"FullyReplicated\",\n",
      "            \"RecordWrapperType\": \"None\"\n",
      "        }\n",
      "    },\n",
      "    \"network_interface_name\": \"eth0\",\n",
      "    \"output_data_dir\": \"/opt/ml/output/data\",\n",
      "    \"current_host\": \"algo-1\",\n",
      "    \"output_intermediate_dir\": \"/opt/ml/output/intermediate\",\n",
      "    \"module_dir\": \"s3://sagemaker-us-east-2-463277598289/sagemaker-pytorch-2019-09-14-14-26-58-372/source/sourcedir.tar.gz\",\n",
      "    \"num_gpus\": 1,\n",
      "    \"output_dir\": \"/opt/ml/output\",\n",
      "    \"input_config_dir\": \"/opt/ml/input/config\"\u001b[0m\n",
      "\u001b[31m}\n",
      "\u001b[0m\n",
      "\u001b[31mEnvironment variables:\n",
      "\u001b[0m\n",
      "\u001b[31mPYTHONPATH=/usr/local/bin:/usr/lib/python35.zip:/usr/lib/python3.5:/usr/lib/python3.5/plat-x86_64-linux-gnu:/usr/lib/python3.5/lib-dynload:/usr/local/lib/python3.5/dist-packages:/usr/lib/python3/dist-packages\u001b[0m\n",
      "\u001b[31mSM_RESOURCE_CONFIG={\"current_host\":\"algo-1\",\"hosts\":[\"algo-1\"],\"network_interface_name\":\"eth0\"}\u001b[0m\n",
      "\u001b[31mSM_FRAMEWORK_MODULE=sagemaker_pytorch_container.training:main\u001b[0m\n",
      "\u001b[31mSM_FRAMEWORK_PARAMS={}\u001b[0m\n",
      "\u001b[31mSM_INPUT_DATA_CONFIG={\"training\":{\"RecordWrapperType\":\"None\",\"S3DistributionType\":\"FullyReplicated\",\"TrainingInputMode\":\"File\"}}\u001b[0m\n",
      "\u001b[31mSM_CHANNELS=[\"training\"]\u001b[0m\n",
      "\u001b[31mSM_MODULE_NAME=train\u001b[0m\n",
      "\u001b[31mSM_OUTPUT_DATA_DIR=/opt/ml/output/data\u001b[0m\n",
      "\u001b[31mSM_HPS={\"epochs\":10,\"hidden_dim\":200}\u001b[0m\n",
      "\u001b[31mSM_TRAINING_ENV={\"additional_framework_parameters\":{},\"channel_input_dirs\":{\"training\":\"/opt/ml/input/data/training\"},\"current_host\":\"algo-1\",\"framework_module\":\"sagemaker_pytorch_container.training:main\",\"hosts\":[\"algo-1\"],\"hyperparameters\":{\"epochs\":10,\"hidden_dim\":200},\"input_config_dir\":\"/opt/ml/input/config\",\"input_data_config\":{\"training\":{\"RecordWrapperType\":\"None\",\"S3DistributionType\":\"FullyReplicated\",\"TrainingInputMode\":\"File\"}},\"input_dir\":\"/opt/ml/input\",\"job_name\":\"sagemaker-pytorch-2019-09-14-14-26-58-372\",\"log_level\":20,\"model_dir\":\"/opt/ml/model\",\"module_dir\":\"s3://sagemaker-us-east-2-463277598289/sagemaker-pytorch-2019-09-14-14-26-58-372/source/sourcedir.tar.gz\",\"module_name\":\"train\",\"network_interface_name\":\"eth0\",\"num_cpus\":4,\"num_gpus\":1,\"output_data_dir\":\"/opt/ml/output/data\",\"output_dir\":\"/opt/ml/output\",\"output_intermediate_dir\":\"/opt/ml/output/intermediate\",\"resource_config\":{\"current_host\":\"algo-1\",\"hosts\":[\"algo-1\"],\"network_interface_name\":\"eth0\"},\"user_entry_point\":\"train.py\"}\u001b[0m\n",
      "\u001b[31mSM_USER_ENTRY_POINT=train.py\u001b[0m\n",
      "\u001b[31mSM_CHANNEL_TRAINING=/opt/ml/input/data/training\u001b[0m\n",
      "\u001b[31mSM_NETWORK_INTERFACE_NAME=eth0\u001b[0m\n",
      "\u001b[31mSM_HP_EPOCHS=10\u001b[0m\n",
      "\u001b[31mSM_HP_HIDDEN_DIM=200\u001b[0m\n",
      "\u001b[31mSM_OUTPUT_DIR=/opt/ml/output\u001b[0m\n",
      "\u001b[31mSM_USER_ARGS=[\"--epochs\",\"10\",\"--hidden_dim\",\"200\"]\u001b[0m\n",
      "\u001b[31mSM_NUM_CPUS=4\u001b[0m\n",
      "\u001b[31mSM_MODULE_DIR=s3://sagemaker-us-east-2-463277598289/sagemaker-pytorch-2019-09-14-14-26-58-372/source/sourcedir.tar.gz\u001b[0m\n",
      "\u001b[31mSM_LOG_LEVEL=20\u001b[0m\n",
      "\u001b[31mSM_OUTPUT_INTERMEDIATE_DIR=/opt/ml/output/intermediate\u001b[0m\n",
      "\u001b[31mSM_HOSTS=[\"algo-1\"]\u001b[0m\n",
      "\u001b[31mSM_CURRENT_HOST=algo-1\u001b[0m\n",
      "\u001b[31mSM_MODEL_DIR=/opt/ml/model\u001b[0m\n",
      "\u001b[31mSM_NUM_GPUS=1\u001b[0m\n",
      "\u001b[31mSM_INPUT_DIR=/opt/ml/input\u001b[0m\n",
      "\u001b[31mSM_INPUT_CONFIG_DIR=/opt/ml/input/config\n",
      "\u001b[0m\n",
      "\u001b[31mInvoking script with the following command:\n",
      "\u001b[0m\n",
      "\u001b[31m/usr/bin/python -m train --epochs 10 --hidden_dim 200\n",
      "\n",
      "\u001b[0m\n",
      "\u001b[31mUsing device cuda.\u001b[0m\n",
      "\u001b[31mGet train data loader.\u001b[0m\n"
     ]
    },
    {
     "name": "stdout",
     "output_type": "stream",
     "text": [
      "\u001b[31mModel loaded with embedding_dim 32, hidden_dim 200, vocab_size 5000.\u001b[0m\n",
      "\u001b[31mEpoch: 1, BCELoss: 0.6737356380540498\u001b[0m\n",
      "\u001b[31mEpoch: 2, BCELoss: 0.6002830680535765\u001b[0m\n",
      "\u001b[31mEpoch: 3, BCELoss: 0.5102230286111638\u001b[0m\n",
      "\u001b[31mEpoch: 4, BCELoss: 0.43392898963422194\u001b[0m\n",
      "\u001b[31mEpoch: 5, BCELoss: 0.3807699120774561\u001b[0m\n",
      "\u001b[31mEpoch: 6, BCELoss: 0.36789454550159223\u001b[0m\n",
      "\u001b[31mEpoch: 7, BCELoss: 0.3506888984417429\u001b[0m\n",
      "\u001b[31mEpoch: 8, BCELoss: 0.30723958447271466\u001b[0m\n",
      "\u001b[31mEpoch: 9, BCELoss: 0.290469939611396\u001b[0m\n",
      "\n",
      "2019-09-14 14:33:27 Uploading - Uploading generated training model\n",
      "2019-09-14 14:33:27 Completed - Training job completed\n",
      "\u001b[31mEpoch: 10, BCELoss: 0.2719740426662017\u001b[0m\n",
      "\u001b[31m2019-09-14 14:33:18,052 sagemaker-containers INFO     Reporting training SUCCESS\u001b[0m\n",
      "Training seconds: 271\n",
      "Billable seconds: 271\n"
     ]
    }
   ],
   "source": [
    "estimator.fit({'training': input_data})"
   ]
  },
  {
   "cell_type": "markdown",
   "metadata": {},
   "source": [
    "## Step 5: Testing the model\n",
    "\n",
    "As mentioned at the top of this notebook, we will be testing this model by first deploying it and then sending the testing data to the deployed endpoint. We will do this so that we can make sure that the deployed model is working correctly.\n",
    "\n",
    "## Step 6: Deploy the model for testing\n",
    "\n",
    "Now that we have trained our model, we would like to test it to see how it performs. Currently our model takes input of the form `review_length, review[500]` where `review[500]` is a sequence of `500` integers which describe the words present in the review, encoded using `word_dict`. Fortunately for us, SageMaker provides built-in inference code for models with simple inputs such as this.\n",
    "\n",
    "There is one thing that we need to provide, however, and that is a function which loads the saved model. This function must be called `model_fn()` and takes as its only parameter a path to the directory where the model artifacts are stored. This function must also be present in the python file which we specified as the entry point. In our case the model loading function has been provided and so no changes need to be made.\n",
    "\n",
    "**NOTE**: When the built-in inference code is run it must import the `model_fn()` method from the `train.py` file. This is why the training code is wrapped in a main guard ( ie, `if __name__ == '__main__':` )\n",
    "\n",
    "Since we don't need to change anything in the code that was uploaded during training, we can simply deploy the current model as-is.\n",
    "\n",
    "**NOTE:** When deploying a model you are asking SageMaker to launch an compute instance that will wait for data to be sent to it. As a result, this compute instance will continue to run until *you* shut it down. This is important to know since the cost of a deployed endpoint depends on how long it has been running for.\n",
    "\n",
    "In other words **If you are no longer using a deployed endpoint, shut it down!**\n",
    "\n",
    "**TODO:** Deploy the trained model."
   ]
  },
  {
   "cell_type": "code",
   "execution_count": 28,
   "metadata": {},
   "outputs": [
    {
     "name": "stdout",
     "output_type": "stream",
     "text": [
      "-------------------------------------------------------------------------------------!"
     ]
    }
   ],
   "source": [
    "# TODO: Deploy the trained model\n",
    "predictor = estimator.deploy(initial_instance_count = 1, instance_type = 'ml.m4.xlarge')"
   ]
  },
  {
   "cell_type": "markdown",
   "metadata": {},
   "source": [
    "## Step 7 - Use the model for testing\n",
    "\n",
    "Once deployed, we can read in the test data and send it off to our deployed model to get some results. Once we collect all of the results we can determine how accurate our model is."
   ]
  },
  {
   "cell_type": "code",
   "execution_count": 29,
   "metadata": {},
   "outputs": [],
   "source": [
    "test_X = pd.concat([pd.DataFrame(test_X_len), pd.DataFrame(test_X)], axis=1)"
   ]
  },
  {
   "cell_type": "code",
   "execution_count": 30,
   "metadata": {},
   "outputs": [],
   "source": [
    "# We split the data into chunks and send each chunk seperately, accumulating the results.\n",
    "\n",
    "def predict(data, rows=512):\n",
    "    split_array = np.array_split(data, int(data.shape[0] / float(rows) + 1))\n",
    "    predictions = np.array([])\n",
    "    for array in split_array:\n",
    "        predictions = np.append(predictions, predictor.predict(array))\n",
    "    \n",
    "    return predictions"
   ]
  },
  {
   "cell_type": "code",
   "execution_count": 31,
   "metadata": {},
   "outputs": [],
   "source": [
    "predictions = predict(test_X.values)\n",
    "predictions = [round(num) for num in predictions]"
   ]
  },
  {
   "cell_type": "code",
   "execution_count": 32,
   "metadata": {},
   "outputs": [
    {
     "data": {
      "text/plain": [
       "0.84708"
      ]
     },
     "execution_count": 32,
     "metadata": {},
     "output_type": "execute_result"
    }
   ],
   "source": [
    "from sklearn.metrics import accuracy_score\n",
    "accuracy_score(test_y, predictions)"
   ]
  },
  {
   "cell_type": "markdown",
   "metadata": {},
   "source": [
    "**Question:** How does this model compare to the XGBoost model you created earlier? Why might these two models perform differently on this dataset? Which do *you* think is better for sentiment analysis?"
   ]
  },
  {
   "cell_type": "markdown",
   "metadata": {},
   "source": [
    "**Answer:**"
   ]
  },
  {
   "cell_type": "markdown",
   "metadata": {},
   "source": [
    "### (TODO) More testing\n",
    "\n",
    "We now have a trained model which has been deployed and which we can send processed reviews to and which returns the predicted sentiment. However, ultimately we would like to be able to send our model an unprocessed review. That is, we would like to send the review itself as a string. For example, suppose we wish to send the following review to our model."
   ]
  },
  {
   "cell_type": "code",
   "execution_count": 33,
   "metadata": {},
   "outputs": [],
   "source": [
    "test_review = 'The simplest pleasures in life are the best, and this film is one of them. Combining a rather basic storyline of love and adventure this movie transcends the usual weekend fair with wit and unmitigated charm.'"
   ]
  },
  {
   "cell_type": "markdown",
   "metadata": {},
   "source": [
    "The question we now need to answer is, how do we send this review to our model?\n",
    "\n",
    "Recall in the first section of this notebook we did a bunch of data processing to the IMDb dataset. In particular, we did two specific things to the provided reviews.\n",
    " - Removed any html tags and stemmed the input\n",
    " - Encoded the review as a sequence of integers using `word_dict`\n",
    " \n",
    "In order process the review we will need to repeat these two steps.\n",
    "\n",
    "**TODO**: Using the `review_to_words` and `convert_and_pad` methods from section one, convert `test_review` into a numpy array `test_data` suitable to send to our model. Remember that our model expects input of the form `review_length, review[500]`."
   ]
  },
  {
   "cell_type": "code",
   "execution_count": 34,
   "metadata": {},
   "outputs": [],
   "source": [
    "# TODO: Convert test_review into a form usable by the model and save the results in test_data\n",
    "test_data = review_to_words(test_review)\n",
    "test_data = [np.array(convert_and_pad(word_dict, test_data)[0])]"
   ]
  },
  {
   "cell_type": "markdown",
   "metadata": {},
   "source": [
    "Now that we have processed the review, we can send the resulting array to our model to predict the sentiment of the review."
   ]
  },
  {
   "cell_type": "code",
   "execution_count": 35,
   "metadata": {},
   "outputs": [
    {
     "data": {
      "text/plain": [
       "array(0.6345898, dtype=float32)"
      ]
     },
     "execution_count": 35,
     "metadata": {},
     "output_type": "execute_result"
    }
   ],
   "source": [
    "predictor.predict(test_data)"
   ]
  },
  {
   "cell_type": "markdown",
   "metadata": {},
   "source": [
    "Since the return value of our model is close to `1`, we can be certain that the review we submitted is positive."
   ]
  },
  {
   "cell_type": "markdown",
   "metadata": {},
   "source": [
    "### Delete the endpoint\n",
    "\n",
    "Of course, just like in the XGBoost notebook, once we've deployed an endpoint it continues to run until we tell it to shut down. Since we are done using our endpoint for now, we can delete it."
   ]
  },
  {
   "cell_type": "code",
   "execution_count": 36,
   "metadata": {},
   "outputs": [],
   "source": [
    "estimator.delete_endpoint()"
   ]
  },
  {
   "cell_type": "markdown",
   "metadata": {},
   "source": [
    "## Step 6 (again) - Deploy the model for the web app\n",
    "\n",
    "Now that we know that our model is working, it's time to create some custom inference code so that we can send the model a review which has not been processed and have it determine the sentiment of the review.\n",
    "\n",
    "As we saw above, by default the estimator which we created, when deployed, will use the entry script and directory which we provided when creating the model. However, since we now wish to accept a string as input and our model expects a processed review, we need to write some custom inference code.\n",
    "\n",
    "We will store the code that we write in the `serve` directory. Provided in this directory is the `model.py` file that we used to construct our model, a `utils.py` file which contains the `review_to_words` and `convert_and_pad` pre-processing functions which we used during the initial data processing, and `predict.py`, the file which will contain our custom inference code. Note also that `requirements.txt` is present which will tell SageMaker what Python libraries are required by our custom inference code.\n",
    "\n",
    "When deploying a PyTorch model in SageMaker, you are expected to provide four functions which the SageMaker inference container will use.\n",
    " - `model_fn`: This function is the same function that we used in the training script and it tells SageMaker how to load our model.\n",
    " - `input_fn`: This function receives the raw serialized input that has been sent to the model's endpoint and its job is to de-serialize and make the input available for the inference code.\n",
    " - `output_fn`: This function takes the output of the inference code and its job is to serialize this output and return it to the caller of the model's endpoint.\n",
    " - `predict_fn`: The heart of the inference script, this is where the actual prediction is done and is the function which you will need to complete.\n",
    "\n",
    "For the simple website that we are constructing during this project, the `input_fn` and `output_fn` methods are relatively straightforward. We only require being able to accept a string as input and we expect to return a single value as output. You might imagine though that in a more complex application the input or output may be image data or some other binary data which would require some effort to serialize.\n",
    "\n",
    "### (TODO) Writing inference code\n",
    "\n",
    "Before writing our custom inference code, we will begin by taking a look at the code which has been provided."
   ]
  },
  {
   "cell_type": "code",
   "execution_count": 37,
   "metadata": {},
   "outputs": [
    {
     "name": "stdout",
     "output_type": "stream",
     "text": [
      "\u001b[34mimport\u001b[39;49;00m \u001b[04m\u001b[36margparse\u001b[39;49;00m\r\n",
      "\u001b[34mimport\u001b[39;49;00m \u001b[04m\u001b[36mjson\u001b[39;49;00m\r\n",
      "\u001b[34mimport\u001b[39;49;00m \u001b[04m\u001b[36mos\u001b[39;49;00m\r\n",
      "\u001b[34mimport\u001b[39;49;00m \u001b[04m\u001b[36mpickle\u001b[39;49;00m\r\n",
      "\u001b[34mimport\u001b[39;49;00m \u001b[04m\u001b[36msys\u001b[39;49;00m\r\n",
      "\u001b[34mimport\u001b[39;49;00m \u001b[04m\u001b[36msagemaker_containers\u001b[39;49;00m\r\n",
      "\u001b[34mimport\u001b[39;49;00m \u001b[04m\u001b[36mpandas\u001b[39;49;00m \u001b[34mas\u001b[39;49;00m \u001b[04m\u001b[36mpd\u001b[39;49;00m\r\n",
      "\u001b[34mimport\u001b[39;49;00m \u001b[04m\u001b[36mnumpy\u001b[39;49;00m \u001b[34mas\u001b[39;49;00m \u001b[04m\u001b[36mnp\u001b[39;49;00m\r\n",
      "\u001b[34mimport\u001b[39;49;00m \u001b[04m\u001b[36mtorch\u001b[39;49;00m\r\n",
      "\u001b[34mimport\u001b[39;49;00m \u001b[04m\u001b[36mtorch.nn\u001b[39;49;00m \u001b[34mas\u001b[39;49;00m \u001b[04m\u001b[36mnn\u001b[39;49;00m\r\n",
      "\u001b[34mimport\u001b[39;49;00m \u001b[04m\u001b[36mtorch.optim\u001b[39;49;00m \u001b[34mas\u001b[39;49;00m \u001b[04m\u001b[36moptim\u001b[39;49;00m\r\n",
      "\u001b[34mimport\u001b[39;49;00m \u001b[04m\u001b[36mtorch.utils.data\u001b[39;49;00m\r\n",
      "\r\n",
      "\u001b[34mfrom\u001b[39;49;00m \u001b[04m\u001b[36mmodel\u001b[39;49;00m \u001b[34mimport\u001b[39;49;00m LSTMClassifier\r\n",
      "\r\n",
      "\u001b[34mfrom\u001b[39;49;00m \u001b[04m\u001b[36mutils\u001b[39;49;00m \u001b[34mimport\u001b[39;49;00m review_to_words, convert_and_pad\r\n",
      "\r\n",
      "\u001b[34mdef\u001b[39;49;00m \u001b[32mmodel_fn\u001b[39;49;00m(model_dir):\r\n",
      "    \u001b[33m\"\"\"Load the PyTorch model from the `model_dir` directory.\"\"\"\u001b[39;49;00m\r\n",
      "    \u001b[34mprint\u001b[39;49;00m(\u001b[33m\"\u001b[39;49;00m\u001b[33mLoading model.\u001b[39;49;00m\u001b[33m\"\u001b[39;49;00m)\r\n",
      "\r\n",
      "    \u001b[37m# First, load the parameters used to create the model.\u001b[39;49;00m\r\n",
      "    model_info = {}\r\n",
      "    model_info_path = os.path.join(model_dir, \u001b[33m'\u001b[39;49;00m\u001b[33mmodel_info.pth\u001b[39;49;00m\u001b[33m'\u001b[39;49;00m)\r\n",
      "    \u001b[34mwith\u001b[39;49;00m \u001b[36mopen\u001b[39;49;00m(model_info_path, \u001b[33m'\u001b[39;49;00m\u001b[33mrb\u001b[39;49;00m\u001b[33m'\u001b[39;49;00m) \u001b[34mas\u001b[39;49;00m f:\r\n",
      "        model_info = torch.load(f)\r\n",
      "\r\n",
      "    \u001b[34mprint\u001b[39;49;00m(\u001b[33m\"\u001b[39;49;00m\u001b[33mmodel_info: {}\u001b[39;49;00m\u001b[33m\"\u001b[39;49;00m.format(model_info))\r\n",
      "\r\n",
      "    \u001b[37m# Determine the device and construct the model.\u001b[39;49;00m\r\n",
      "    device = torch.device(\u001b[33m\"\u001b[39;49;00m\u001b[33mcuda\u001b[39;49;00m\u001b[33m\"\u001b[39;49;00m \u001b[34mif\u001b[39;49;00m torch.cuda.is_available() \u001b[34melse\u001b[39;49;00m \u001b[33m\"\u001b[39;49;00m\u001b[33mcpu\u001b[39;49;00m\u001b[33m\"\u001b[39;49;00m)\r\n",
      "    model = LSTMClassifier(model_info[\u001b[33m'\u001b[39;49;00m\u001b[33membedding_dim\u001b[39;49;00m\u001b[33m'\u001b[39;49;00m], model_info[\u001b[33m'\u001b[39;49;00m\u001b[33mhidden_dim\u001b[39;49;00m\u001b[33m'\u001b[39;49;00m], model_info[\u001b[33m'\u001b[39;49;00m\u001b[33mvocab_size\u001b[39;49;00m\u001b[33m'\u001b[39;49;00m])\r\n",
      "\r\n",
      "    \u001b[37m# Load the store model parameters.\u001b[39;49;00m\r\n",
      "    model_path = os.path.join(model_dir, \u001b[33m'\u001b[39;49;00m\u001b[33mmodel.pth\u001b[39;49;00m\u001b[33m'\u001b[39;49;00m)\r\n",
      "    \u001b[34mwith\u001b[39;49;00m \u001b[36mopen\u001b[39;49;00m(model_path, \u001b[33m'\u001b[39;49;00m\u001b[33mrb\u001b[39;49;00m\u001b[33m'\u001b[39;49;00m) \u001b[34mas\u001b[39;49;00m f:\r\n",
      "        model.load_state_dict(torch.load(f))\r\n",
      "\r\n",
      "    \u001b[37m# Load the saved word_dict.\u001b[39;49;00m\r\n",
      "    word_dict_path = os.path.join(model_dir, \u001b[33m'\u001b[39;49;00m\u001b[33mword_dict.pkl\u001b[39;49;00m\u001b[33m'\u001b[39;49;00m)\r\n",
      "    \u001b[34mwith\u001b[39;49;00m \u001b[36mopen\u001b[39;49;00m(word_dict_path, \u001b[33m'\u001b[39;49;00m\u001b[33mrb\u001b[39;49;00m\u001b[33m'\u001b[39;49;00m) \u001b[34mas\u001b[39;49;00m f:\r\n",
      "        model.word_dict = pickle.load(f)\r\n",
      "\r\n",
      "    model.to(device).eval()\r\n",
      "\r\n",
      "    \u001b[34mprint\u001b[39;49;00m(\u001b[33m\"\u001b[39;49;00m\u001b[33mDone loading model.\u001b[39;49;00m\u001b[33m\"\u001b[39;49;00m)\r\n",
      "    \u001b[34mreturn\u001b[39;49;00m model\r\n",
      "\r\n",
      "\u001b[34mdef\u001b[39;49;00m \u001b[32minput_fn\u001b[39;49;00m(serialized_input_data, content_type):\r\n",
      "    \u001b[34mprint\u001b[39;49;00m(\u001b[33m'\u001b[39;49;00m\u001b[33mDeserializing the input data.\u001b[39;49;00m\u001b[33m'\u001b[39;49;00m)\r\n",
      "    \u001b[34mif\u001b[39;49;00m content_type == \u001b[33m'\u001b[39;49;00m\u001b[33mtext/plain\u001b[39;49;00m\u001b[33m'\u001b[39;49;00m:\r\n",
      "        data = serialized_input_data.decode(\u001b[33m'\u001b[39;49;00m\u001b[33mutf-8\u001b[39;49;00m\u001b[33m'\u001b[39;49;00m)\r\n",
      "        \u001b[34mreturn\u001b[39;49;00m data\r\n",
      "    \u001b[34mraise\u001b[39;49;00m \u001b[36mException\u001b[39;49;00m(\u001b[33m'\u001b[39;49;00m\u001b[33mRequested unsupported ContentType in content_type: \u001b[39;49;00m\u001b[33m'\u001b[39;49;00m + content_type)\r\n",
      "\r\n",
      "\u001b[34mdef\u001b[39;49;00m \u001b[32moutput_fn\u001b[39;49;00m(prediction_output, accept):\r\n",
      "    \u001b[34mprint\u001b[39;49;00m(\u001b[33m'\u001b[39;49;00m\u001b[33mSerializing the generated output.\u001b[39;49;00m\u001b[33m'\u001b[39;49;00m)\r\n",
      "    \u001b[34mreturn\u001b[39;49;00m \u001b[36mstr\u001b[39;49;00m(prediction_output)\r\n",
      "\r\n",
      "\u001b[34mdef\u001b[39;49;00m \u001b[32mpredict_fn\u001b[39;49;00m(input_data, model):\r\n",
      "    \u001b[34mprint\u001b[39;49;00m(\u001b[33m'\u001b[39;49;00m\u001b[33mInferring sentiment of input data.\u001b[39;49;00m\u001b[33m'\u001b[39;49;00m)\r\n",
      "\r\n",
      "    device = torch.device(\u001b[33m\"\u001b[39;49;00m\u001b[33mcuda\u001b[39;49;00m\u001b[33m\"\u001b[39;49;00m \u001b[34mif\u001b[39;49;00m torch.cuda.is_available() \u001b[34melse\u001b[39;49;00m \u001b[33m\"\u001b[39;49;00m\u001b[33mcpu\u001b[39;49;00m\u001b[33m\"\u001b[39;49;00m)\r\n",
      "    \r\n",
      "    \u001b[34mif\u001b[39;49;00m model.word_dict \u001b[35mis\u001b[39;49;00m \u001b[36mNone\u001b[39;49;00m:\r\n",
      "        \u001b[34mraise\u001b[39;49;00m \u001b[36mException\u001b[39;49;00m(\u001b[33m'\u001b[39;49;00m\u001b[33mModel has not been loaded properly, no word_dict.\u001b[39;49;00m\u001b[33m'\u001b[39;49;00m)\r\n",
      "    \r\n",
      "    \u001b[37m# TODO: Process input_data so that it is ready to be sent to our model.\u001b[39;49;00m\r\n",
      "    \u001b[37m#       You should produce two variables:\u001b[39;49;00m\r\n",
      "    \u001b[37m#         data_X   - A sequence of length 500 which represents the converted review\u001b[39;49;00m\r\n",
      "    \u001b[37m#         data_len - The length of the review\u001b[39;49;00m\r\n",
      "\r\n",
      "    data_X, data_len = convert_and_pad(model.word_dict, review_to_words(input_data))\r\n",
      "\r\n",
      "   \r\n",
      "    \u001b[37m# Using data_X and data_len we construct an appropriate input tensor. Remember\u001b[39;49;00m\r\n",
      "    \u001b[37m# that our model expects input data of the form 'len, review[500]'.\u001b[39;49;00m\r\n",
      "    data_pack = np.hstack((data_len, data_X))\r\n",
      "    data_pack = data_pack.reshape(\u001b[34m1\u001b[39;49;00m, -\u001b[34m1\u001b[39;49;00m)\r\n",
      "    \r\n",
      "    data = torch.from_numpy(data_pack)\r\n",
      "    data = data.to(device)\r\n",
      "\r\n",
      "    \u001b[37m# Make sure to put the model into evaluation mode\u001b[39;49;00m\r\n",
      "    model.eval()\r\n",
      "\r\n",
      "    \u001b[37m# TODO: Compute the result of applying the model to the input data. The variable `result` should\u001b[39;49;00m\r\n",
      "    \u001b[37m#       be a numpy array which contains a single integer which is either 1 or 0\u001b[39;49;00m\r\n",
      "    \u001b[34mwith\u001b[39;49;00m torch.no_grad():\r\n",
      "        output = model.forward(data)\r\n",
      "        \r\n",
      "    result = np.round(output.numpy())\r\n",
      "\r\n",
      "    \u001b[34mreturn\u001b[39;49;00m result\r\n"
     ]
    }
   ],
   "source": [
    "!pygmentize serve/predict.py"
   ]
  },
  {
   "cell_type": "markdown",
   "metadata": {},
   "source": [
    "As mentioned earlier, the `model_fn` method is the same as the one provided in the training code and the `input_fn` and `output_fn` methods are very simple and your task will be to complete the `predict_fn` method. Make sure that you save the completed file as `predict.py` in the `serve` directory.\n",
    "\n",
    "**TODO**: Complete the `predict_fn()` method in the `serve/predict.py` file."
   ]
  },
  {
   "cell_type": "markdown",
   "metadata": {},
   "source": [
    "### Deploying the model\n",
    "\n",
    "Now that the custom inference code has been written, we will create and deploy our model. To begin with, we need to construct a new PyTorchModel object which points to the model artifacts created during training and also points to the inference code that we wish to use. Then we can call the deploy method to launch the deployment container.\n",
    "\n",
    "**NOTE**: The default behaviour for a deployed PyTorch model is to assume that any input passed to the predictor is a `numpy` array. In our case we want to send a string so we need to construct a simple wrapper around the `RealTimePredictor` class to accomodate simple strings. In a more complicated situation you may want to provide a serialization object, for example if you wanted to sent image data."
   ]
  },
  {
   "cell_type": "code",
   "execution_count": 38,
   "metadata": {},
   "outputs": [
    {
     "name": "stdout",
     "output_type": "stream",
     "text": [
      "--------------------------------------------------------------------------!"
     ]
    }
   ],
   "source": [
    "from sagemaker.predictor import RealTimePredictor\n",
    "from sagemaker.pytorch import PyTorchModel\n",
    "\n",
    "class StringPredictor(RealTimePredictor):\n",
    "    def __init__(self, endpoint_name, sagemaker_session):\n",
    "        super(StringPredictor, self).__init__(endpoint_name, sagemaker_session, content_type='text/plain')\n",
    "\n",
    "model = PyTorchModel(model_data=estimator.model_data,\n",
    "                     role = role,\n",
    "                     framework_version='0.4.0',\n",
    "                     entry_point='predict.py',\n",
    "                     source_dir='serve',\n",
    "                     predictor_cls=StringPredictor)\n",
    "predictor = model.deploy(initial_instance_count=1, instance_type='ml.m4.xlarge')"
   ]
  },
  {
   "cell_type": "markdown",
   "metadata": {},
   "source": [
    "### Testing the model\n",
    "\n",
    "Now that we have deployed our model with the custom inference code, we should test to see if everything is working. Here we test our model by loading the first `250` positive and negative reviews and send them to the endpoint, then collect the results. The reason for only sending some of the data is that the amount of time it takes for our model to process the input and then perform inference is quite long and so testing the entire data set would be prohibitive."
   ]
  },
  {
   "cell_type": "code",
   "execution_count": 41,
   "metadata": {},
   "outputs": [],
   "source": [
    "import glob\n",
    "\n",
    "def test_reviews(data_dir='../data/aclImdb', stop=250):\n",
    "    \n",
    "    results = []\n",
    "    ground = []\n",
    "    \n",
    "    # We make sure to test both positive and negative reviews    \n",
    "    for sentiment in ['pos', 'neg']:\n",
    "        \n",
    "        path = os.path.join(data_dir, 'test', sentiment, '*.txt')\n",
    "        files = glob.glob(path)\n",
    "        \n",
    "        files_read = 0\n",
    "        \n",
    "        print('Starting ', sentiment, ' files')\n",
    "        \n",
    "        # Iterate through the files and send them to the predictor\n",
    "        for f in files:\n",
    "            with open(f) as review:\n",
    "                # First, we store the ground truth (was the review positive or negative)\n",
    "                if sentiment == 'pos':\n",
    "                    ground.append(1)\n",
    "                else:\n",
    "                    ground.append(0)\n",
    "                # Read in the review and convert to 'utf-8' for transmission via HTTP\n",
    "                review_input = review.read().encode('utf-8')\n",
    "                # Send the review to the predictor and store the results\n",
    "                results.append(float(predictor.predict(review_input)))\n",
    "                \n",
    "            # Sending reviews to our endpoint one at a time takes a while so we\n",
    "            # only send a small number of reviews\n",
    "            files_read += 1\n",
    "            if files_read == stop:\n",
    "                break\n",
    "            \n",
    "    return ground, results"
   ]
  },
  {
   "cell_type": "code",
   "execution_count": 42,
   "metadata": {},
   "outputs": [
    {
     "name": "stdout",
     "output_type": "stream",
     "text": [
      "Starting  pos  files\n",
      "Starting  neg  files\n"
     ]
    }
   ],
   "source": [
    "ground, results = test_reviews()"
   ]
  },
  {
   "cell_type": "code",
   "execution_count": 43,
   "metadata": {},
   "outputs": [
    {
     "data": {
      "text/plain": [
       "0.854"
      ]
     },
     "execution_count": 43,
     "metadata": {},
     "output_type": "execute_result"
    }
   ],
   "source": [
    "from sklearn.metrics import accuracy_score\n",
    "accuracy_score(ground, results)"
   ]
  },
  {
   "cell_type": "markdown",
   "metadata": {},
   "source": [
    "As an additional test, we can try sending the `test_review` that we looked at earlier."
   ]
  },
  {
   "cell_type": "code",
   "execution_count": 44,
   "metadata": {},
   "outputs": [
    {
     "data": {
      "text/plain": [
       "b'1.0'"
      ]
     },
     "execution_count": 44,
     "metadata": {},
     "output_type": "execute_result"
    }
   ],
   "source": [
    "predictor.predict(test_review)"
   ]
  },
  {
   "cell_type": "markdown",
   "metadata": {},
   "source": [
    "Now that we know our endpoint is working as expected, we can set up the web page that will interact with it. If you don't have time to finish the project now, make sure to skip down to the end of this notebook and shut down your endpoint. You can deploy it again when you come back."
   ]
  },
  {
   "cell_type": "markdown",
   "metadata": {},
   "source": [
    "## Step 7 (again): Use the model for the web app\n",
    "\n",
    "> **TODO:** This entire section and the next contain tasks for you to complete, mostly using the AWS console.\n",
    "\n",
    "So far we have been accessing our model endpoint by constructing a predictor object which uses the endpoint and then just using the predictor object to perform inference. What if we wanted to create a web app which accessed our model? The way things are set up currently makes that not possible since in order to access a SageMaker endpoint the app would first have to authenticate with AWS using an IAM role which included access to SageMaker endpoints. However, there is an easier way! We just need to use some additional AWS services.\n",
    "\n",
    "<img src=\"Web App Diagram.svg\">\n",
    "\n",
    "The diagram above gives an overview of how the various services will work together. On the far right is the model which we trained above and which is deployed using SageMaker. On the far left is our web app that collects a user's movie review, sends it off and expects a positive or negative sentiment in return.\n",
    "\n",
    "In the middle is where some of the magic happens. We will construct a Lambda function, which you can think of as a straightforward Python function that can be executed whenever a specified event occurs. We will give this function permission to send and recieve data from a SageMaker endpoint.\n",
    "\n",
    "Lastly, the method we will use to execute the Lambda function is a new endpoint that we will create using API Gateway. This endpoint will be a url that listens for data to be sent to it. Once it gets some data it will pass that data on to the Lambda function and then return whatever the Lambda function returns. Essentially it will act as an interface that lets our web app communicate with the Lambda function.\n",
    "\n",
    "### Setting up a Lambda function\n",
    "\n",
    "The first thing we are going to do is set up a Lambda function. This Lambda function will be executed whenever our public API has data sent to it. When it is executed it will receive the data, perform any sort of processing that is required, send the data (the review) to the SageMaker endpoint we've created and then return the result.\n",
    "\n",
    "#### Part A: Create an IAM Role for the Lambda function\n",
    "\n",
    "Since we want the Lambda function to call a SageMaker endpoint, we need to make sure that it has permission to do so. To do this, we will construct a role that we can later give the Lambda function.\n",
    "\n",
    "Using the AWS Console, navigate to the **IAM** page and click on **Roles**. Then, click on **Create role**. Make sure that the **AWS service** is the type of trusted entity selected and choose **Lambda** as the service that will use this role, then click **Next: Permissions**.\n",
    "\n",
    "In the search box type `sagemaker` and select the check box next to the **AmazonSageMakerFullAccess** policy. Then, click on **Next: Review**.\n",
    "\n",
    "Lastly, give this role a name. Make sure you use a name that you will remember later on, for example `LambdaSageMakerRole`. Then, click on **Create role**.\n",
    "\n",
    "#### Part B: Create a Lambda function\n",
    "\n",
    "Now it is time to actually create the Lambda function.\n",
    "\n",
    "Using the AWS Console, navigate to the AWS Lambda page and click on **Create a function**. When you get to the next page, make sure that **Author from scratch** is selected. Now, name your Lambda function, using a name that you will remember later on, for example `sentiment_analysis_func`. Make sure that the **Python 3.6** runtime is selected and then choose the role that you created in the previous part. Then, click on **Create Function**.\n",
    "\n",
    "On the next page you will see some information about the Lambda function you've just created. If you scroll down you should see an editor in which you can write the code that will be executed when your Lambda function is triggered. In our example, we will use the code below. \n",
    "\n",
    "```python\n",
    "# We need to use the low-level library to interact with SageMaker since the SageMaker API\n",
    "# is not available natively through Lambda.\n",
    "import boto3\n",
    "\n",
    "def lambda_handler(event, context):\n",
    "\n",
    "    # The SageMaker runtime is what allows us to invoke the endpoint that we've created.\n",
    "    runtime = boto3.Session().client('sagemaker-runtime')\n",
    "\n",
    "    # Now we use the SageMaker runtime to invoke our endpoint, sending the review we were given\n",
    "    response = runtime.invoke_endpoint(EndpointName = '**ENDPOINT NAME HERE**',    # The name of the endpoint we created\n",
    "                                       ContentType = 'text/plain',                 # The data format that is expected\n",
    "                                       Body = event['body'])                       # The actual review\n",
    "\n",
    "    # The response is an HTTP response whose body contains the result of our inference\n",
    "    result = response['Body'].read().decode('utf-8')\n",
    "\n",
    "    return {\n",
    "        'statusCode' : 200,\n",
    "        'headers' : { 'Content-Type' : 'text/plain', 'Access-Control-Allow-Origin' : '*' },\n",
    "        'body' : result\n",
    "    }\n",
    "```\n",
    "\n",
    "Once you have copy and pasted the code above into the Lambda code editor, replace the `**ENDPOINT NAME HERE**` portion with the name of the endpoint that we deployed earlier. You can determine the name of the endpoint using the code cell below."
   ]
  },
  {
   "cell_type": "code",
   "execution_count": 45,
   "metadata": {},
   "outputs": [
    {
     "data": {
      "text/plain": [
       "'sagemaker-pytorch-2019-09-14-14-45-28-354'"
      ]
     },
     "execution_count": 45,
     "metadata": {},
     "output_type": "execute_result"
    }
   ],
   "source": [
    "predictor.endpoint"
   ]
  },
  {
   "cell_type": "markdown",
   "metadata": {},
   "source": [
    "Once you have added the endpoint name to the Lambda function, click on **Save**. Your Lambda function is now up and running. Next we need to create a way for our web app to execute the Lambda function.\n",
    "\n",
    "### Setting up API Gateway\n",
    "\n",
    "Now that our Lambda function is set up, it is time to create a new API using API Gateway that will trigger the Lambda function we have just created.\n",
    "\n",
    "Using AWS Console, navigate to **Amazon API Gateway** and then click on **Get started**.\n",
    "\n",
    "On the next page, make sure that **New API** is selected and give the new api a name, for example, `sentiment_analysis_api`. Then, click on **Create API**.\n",
    "\n",
    "Now we have created an API, however it doesn't currently do anything. What we want it to do is to trigger the Lambda function that we created earlier.\n",
    "\n",
    "Select the **Actions** dropdown menu and click **Create Method**. A new blank method will be created, select its dropdown menu and select **POST**, then click on the check mark beside it.\n",
    "\n",
    "For the integration point, make sure that **Lambda Function** is selected and click on the **Use Lambda Proxy integration**. This option makes sure that the data that is sent to the API is then sent directly to the Lambda function with no processing. It also means that the return value must be a proper response object as it will also not be processed by API Gateway.\n",
    "\n",
    "Type the name of the Lambda function you created earlier into the **Lambda Function** text entry box and then click on **Save**. Click on **OK** in the pop-up box that then appears, giving permission to API Gateway to invoke the Lambda function you created.\n",
    "\n",
    "The last step in creating the API Gateway is to select the **Actions** dropdown and click on **Deploy API**. You will need to create a new Deployment stage and name it anything you like, for example `prod`.\n",
    "\n",
    "You have now successfully set up a public API to access your SageMaker model. Make sure to copy or write down the URL provided to invoke your newly created public API as this will be needed in the next step. This URL can be found at the top of the page, highlighted in blue next to the text **Invoke URL**."
   ]
  },
  {
   "cell_type": "markdown",
   "metadata": {},
   "source": [
    "## Step 4: Deploying our web app\n",
    "\n",
    "Now that we have a publicly available API, we can start using it in a web app. For our purposes, we have provided a simple static html file which can make use of the public api you created earlier.\n",
    "\n",
    "In the `website` folder there should be a file called `index.html`. Download the file to your computer and open that file up in a text editor of your choice. There should be a line which contains **\\*\\*REPLACE WITH PUBLIC API URL\\*\\***. Replace this string with the url that you wrote down in the last step and then save the file.\n",
    "\n",
    "Now, if you open `index.html` on your local computer, your browser will behave as a local web server and you can use the provided site to interact with your SageMaker model.\n",
    "\n",
    "If you'd like to go further, you can host this html file anywhere you'd like, for example using github or hosting a static site on Amazon's S3. Once you have done this you can share the link with anyone you'd like and have them play with it too!\n",
    "\n",
    "> **Important Note** In order for the web app to communicate with the SageMaker endpoint, the endpoint has to actually be deployed and running. This means that you are paying for it. Make sure that the endpoint is running when you want to use the web app but that you shut it down when you don't need it, otherwise you will end up with a surprisingly large AWS bill.\n",
    "\n",
    "**TODO:** Make sure that you include the edited `index.html` file in your project submission."
   ]
  },
  {
   "cell_type": "markdown",
   "metadata": {},
   "source": [
    "Now that your web app is working, trying playing around with it and see how well it works.\n",
    "\n",
    "**Question**: Give an example of a review that you entered into your web app. What was the predicted sentiment of your example review?"
   ]
  },
  {
   "cell_type": "markdown",
   "metadata": {},
   "source": [
    "**Answer:**"
   ]
  },
  {
   "cell_type": "markdown",
   "metadata": {},
   "source": [
    "### Delete the endpoint\n",
    "\n",
    "Remember to always shut down your endpoint if you are no longer using it. You are charged for the length of time that the endpoint is running so if you forget and leave it on you could end up with an unexpectedly large bill."
   ]
  },
  {
   "cell_type": "code",
   "execution_count": 46,
   "metadata": {},
   "outputs": [],
   "source": [
    "predictor.delete_endpoint()"
   ]
  },
  {
   "cell_type": "code",
   "execution_count": null,
   "metadata": {},
   "outputs": [],
   "source": []
  }
 ],
 "metadata": {
  "kernelspec": {
   "display_name": "conda_pytorch_p36",
   "language": "python",
   "name": "conda_pytorch_p36"
  },
  "language_info": {
   "codemirror_mode": {
    "name": "ipython",
    "version": 3
   },
   "file_extension": ".py",
   "mimetype": "text/x-python",
   "name": "python",
   "nbconvert_exporter": "python",
   "pygments_lexer": "ipython3",
   "version": "3.6.5"
  }
 },
 "nbformat": 4,
 "nbformat_minor": 2
}
